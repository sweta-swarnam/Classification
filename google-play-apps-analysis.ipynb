{
 "cells": [
  {
   "cell_type": "markdown",
   "metadata": {
    "papermill": {
     "duration": 0.047661,
     "end_time": "2021-02-08T04:28:45.560011",
     "exception": false,
     "start_time": "2021-02-08T04:28:45.512350",
     "status": "completed"
    },
    "tags": []
   },
   "source": [
    "# 1. Imports "
   ]
  },
  {
   "cell_type": "code",
   "execution_count": 33,
   "metadata": {
    "_cell_guid": "b1076dfc-b9ad-4769-8c92-a6c4dae69d19",
    "_uuid": "8f2839f25d086af736a60e9eeb907d3b93b6e0e5",
    "execution": {
     "iopub.execute_input": "2021-02-08T04:28:45.659798Z",
     "iopub.status.busy": "2021-02-08T04:28:45.659096Z",
     "iopub.status.idle": "2021-02-08T04:28:48.998316Z",
     "shell.execute_reply": "2021-02-08T04:28:48.997182Z"
    },
    "papermill": {
     "duration": 3.390953,
     "end_time": "2021-02-08T04:28:48.998603",
     "exception": false,
     "start_time": "2021-02-08T04:28:45.607650",
     "status": "completed"
    },
    "tags": []
   },
   "outputs": [],
   "source": [
    "import numpy as np # linear algebra\n",
    "import pandas as pd # data processing\n",
    "\n",
    "# data vizualization \n",
    "import matplotlib.pyplot as plt\n",
    "import seaborn as sns # used for plot interactive graph.\n",
    "# import plotly.offline as py\n",
    "# py.init_notebook_mode(connected=True)\n",
    "# import plotly.graph_objs as go\n",
    "# import plotly.express as px\n",
    "import warnings\n",
    "warnings.filterwarnings('ignore')\n",
    "from pylab import rcParams\n",
    "# figure size in inches\n",
    "%matplotlib inline\n",
    "plt.style.use('seaborn-white')\n",
    "\n",
    "# S.A. and w2v ;)\n",
    "import re\n",
    "import collections\n",
    "# import gensim\n",
    "import nltk\n",
    "from nltk.corpus import stopwords\n",
    "\n",
    "# Input data files are available in the read-only \"../input/\" directory\n",
    "import os\n",
    "for dirname, _, filenames in os.walk('/kaggle/input'):\n",
    "    for filename in filenames:\n",
    "        print(os.path.join(dirname, filename))"
   ]
  },
  {
   "cell_type": "code",
   "execution_count": 2,
   "metadata": {
    "execution": {
     "iopub.execute_input": "2021-02-08T04:28:49.113675Z",
     "iopub.status.busy": "2021-02-08T04:28:49.112936Z",
     "iopub.status.idle": "2021-02-08T04:28:49.490971Z",
     "shell.execute_reply": "2021-02-08T04:28:49.490191Z"
    },
    "papermill": {
     "duration": 0.439639,
     "end_time": "2021-02-08T04:28:49.491154",
     "exception": false,
     "start_time": "2021-02-08T04:28:49.051515",
     "status": "completed"
    },
    "tags": []
   },
   "outputs": [],
   "source": [
    "# reading csv files\n",
    "data = pd.read_csv('googleplaystore.csv')\n",
    "# user_reviews = pd.read_csv('/kaggle/input/google-play-store-apps/googleplaystore_user_reviews.csv')"
   ]
  },
  {
   "cell_type": "markdown",
   "metadata": {
    "papermill": {
     "duration": 0.048326,
     "end_time": "2021-02-08T04:28:49.588390",
     "exception": false,
     "start_time": "2021-02-08T04:28:49.540064",
     "status": "completed"
    },
    "tags": []
   },
   "source": [
    "# 2. Data Exploration"
   ]
  },
  {
   "cell_type": "code",
   "execution_count": 3,
   "metadata": {
    "execution": {
     "iopub.execute_input": "2021-02-08T04:28:49.694549Z",
     "iopub.status.busy": "2021-02-08T04:28:49.693732Z",
     "iopub.status.idle": "2021-02-08T04:28:49.696873Z",
     "shell.execute_reply": "2021-02-08T04:28:49.697399Z"
    },
    "papermill": {
     "duration": 0.060592,
     "end_time": "2021-02-08T04:28:49.697603",
     "exception": false,
     "start_time": "2021-02-08T04:28:49.637011",
     "status": "completed"
    },
    "tags": []
   },
   "outputs": [
    {
     "data": {
      "text/plain": [
       "(10841, 13)"
      ]
     },
     "execution_count": 3,
     "metadata": {},
     "output_type": "execute_result"
    }
   ],
   "source": [
    "data.shape"
   ]
  },
  {
   "cell_type": "code",
   "execution_count": 4,
   "metadata": {
    "execution": {
     "iopub.execute_input": "2021-02-08T04:28:50.046575Z",
     "iopub.status.busy": "2021-02-08T04:28:50.045568Z",
     "iopub.status.idle": "2021-02-08T04:28:50.067205Z",
     "shell.execute_reply": "2021-02-08T04:28:50.066522Z"
    },
    "papermill": {
     "duration": 0.074913,
     "end_time": "2021-02-08T04:28:50.067360",
     "exception": false,
     "start_time": "2021-02-08T04:28:49.992447",
     "status": "completed"
    },
    "tags": []
   },
   "outputs": [
    {
     "data": {
      "text/html": [
       "<div>\n",
       "<style scoped>\n",
       "    .dataframe tbody tr th:only-of-type {\n",
       "        vertical-align: middle;\n",
       "    }\n",
       "\n",
       "    .dataframe tbody tr th {\n",
       "        vertical-align: top;\n",
       "    }\n",
       "\n",
       "    .dataframe thead th {\n",
       "        text-align: right;\n",
       "    }\n",
       "</style>\n",
       "<table border=\"1\" class=\"dataframe\">\n",
       "  <thead>\n",
       "    <tr style=\"text-align: right;\">\n",
       "      <th></th>\n",
       "      <th>App</th>\n",
       "      <th>Category</th>\n",
       "      <th>Rating</th>\n",
       "      <th>Reviews</th>\n",
       "      <th>Size</th>\n",
       "      <th>Installs</th>\n",
       "      <th>Type</th>\n",
       "      <th>Price</th>\n",
       "      <th>Content Rating</th>\n",
       "      <th>Genres</th>\n",
       "      <th>Last Updated</th>\n",
       "      <th>Current Ver</th>\n",
       "      <th>Android Ver</th>\n",
       "    </tr>\n",
       "  </thead>\n",
       "  <tbody>\n",
       "    <tr>\n",
       "      <th>0</th>\n",
       "      <td>Photo Editor &amp; Candy Camera &amp; Grid &amp; ScrapBook</td>\n",
       "      <td>ART_AND_DESIGN</td>\n",
       "      <td>4.1</td>\n",
       "      <td>159</td>\n",
       "      <td>19M</td>\n",
       "      <td>10,000+</td>\n",
       "      <td>Free</td>\n",
       "      <td>0</td>\n",
       "      <td>Everyone</td>\n",
       "      <td>Art &amp; Design</td>\n",
       "      <td>January 7, 2018</td>\n",
       "      <td>1.0.0</td>\n",
       "      <td>4.0.3 and up</td>\n",
       "    </tr>\n",
       "    <tr>\n",
       "      <th>1</th>\n",
       "      <td>Coloring book moana</td>\n",
       "      <td>ART_AND_DESIGN</td>\n",
       "      <td>3.9</td>\n",
       "      <td>967</td>\n",
       "      <td>14M</td>\n",
       "      <td>500,000+</td>\n",
       "      <td>Free</td>\n",
       "      <td>0</td>\n",
       "      <td>Everyone</td>\n",
       "      <td>Art &amp; Design;Pretend Play</td>\n",
       "      <td>January 15, 2018</td>\n",
       "      <td>2.0.0</td>\n",
       "      <td>4.0.3 and up</td>\n",
       "    </tr>\n",
       "    <tr>\n",
       "      <th>2</th>\n",
       "      <td>U Launcher Lite – FREE Live Cool Themes, Hide ...</td>\n",
       "      <td>ART_AND_DESIGN</td>\n",
       "      <td>4.7</td>\n",
       "      <td>87510</td>\n",
       "      <td>8.7M</td>\n",
       "      <td>5,000,000+</td>\n",
       "      <td>Free</td>\n",
       "      <td>0</td>\n",
       "      <td>Everyone</td>\n",
       "      <td>Art &amp; Design</td>\n",
       "      <td>August 1, 2018</td>\n",
       "      <td>1.2.4</td>\n",
       "      <td>4.0.3 and up</td>\n",
       "    </tr>\n",
       "    <tr>\n",
       "      <th>3</th>\n",
       "      <td>Sketch - Draw &amp; Paint</td>\n",
       "      <td>ART_AND_DESIGN</td>\n",
       "      <td>4.5</td>\n",
       "      <td>215644</td>\n",
       "      <td>25M</td>\n",
       "      <td>50,000,000+</td>\n",
       "      <td>Free</td>\n",
       "      <td>0</td>\n",
       "      <td>Teen</td>\n",
       "      <td>Art &amp; Design</td>\n",
       "      <td>June 8, 2018</td>\n",
       "      <td>Varies with device</td>\n",
       "      <td>4.2 and up</td>\n",
       "    </tr>\n",
       "    <tr>\n",
       "      <th>4</th>\n",
       "      <td>Pixel Draw - Number Art Coloring Book</td>\n",
       "      <td>ART_AND_DESIGN</td>\n",
       "      <td>4.3</td>\n",
       "      <td>967</td>\n",
       "      <td>2.8M</td>\n",
       "      <td>100,000+</td>\n",
       "      <td>Free</td>\n",
       "      <td>0</td>\n",
       "      <td>Everyone</td>\n",
       "      <td>Art &amp; Design;Creativity</td>\n",
       "      <td>June 20, 2018</td>\n",
       "      <td>1.1</td>\n",
       "      <td>4.4 and up</td>\n",
       "    </tr>\n",
       "  </tbody>\n",
       "</table>\n",
       "</div>"
      ],
      "text/plain": [
       "                                                 App        Category  Rating  \\\n",
       "0     Photo Editor & Candy Camera & Grid & ScrapBook  ART_AND_DESIGN     4.1   \n",
       "1                                Coloring book moana  ART_AND_DESIGN     3.9   \n",
       "2  U Launcher Lite – FREE Live Cool Themes, Hide ...  ART_AND_DESIGN     4.7   \n",
       "3                              Sketch - Draw & Paint  ART_AND_DESIGN     4.5   \n",
       "4              Pixel Draw - Number Art Coloring Book  ART_AND_DESIGN     4.3   \n",
       "\n",
       "  Reviews  Size     Installs  Type Price Content Rating  \\\n",
       "0     159   19M      10,000+  Free     0       Everyone   \n",
       "1     967   14M     500,000+  Free     0       Everyone   \n",
       "2   87510  8.7M   5,000,000+  Free     0       Everyone   \n",
       "3  215644   25M  50,000,000+  Free     0           Teen   \n",
       "4     967  2.8M     100,000+  Free     0       Everyone   \n",
       "\n",
       "                      Genres      Last Updated         Current Ver  \\\n",
       "0               Art & Design   January 7, 2018               1.0.0   \n",
       "1  Art & Design;Pretend Play  January 15, 2018               2.0.0   \n",
       "2               Art & Design    August 1, 2018               1.2.4   \n",
       "3               Art & Design      June 8, 2018  Varies with device   \n",
       "4    Art & Design;Creativity     June 20, 2018                 1.1   \n",
       "\n",
       "    Android Ver  \n",
       "0  4.0.3 and up  \n",
       "1  4.0.3 and up  \n",
       "2  4.0.3 and up  \n",
       "3    4.2 and up  \n",
       "4    4.4 and up  "
      ]
     },
     "execution_count": 4,
     "metadata": {},
     "output_type": "execute_result"
    }
   ],
   "source": [
    "data.head()"
   ]
  },
  {
   "cell_type": "code",
   "execution_count": 5,
   "metadata": {
    "execution": {
     "iopub.execute_input": "2021-02-08T04:28:50.191126Z",
     "iopub.status.busy": "2021-02-08T04:28:50.190068Z",
     "iopub.status.idle": "2021-02-08T04:28:50.209681Z",
     "shell.execute_reply": "2021-02-08T04:28:50.208927Z"
    },
    "papermill": {
     "duration": 0.091832,
     "end_time": "2021-02-08T04:28:50.209914",
     "exception": false,
     "start_time": "2021-02-08T04:28:50.118082",
     "status": "completed"
    },
    "tags": []
   },
   "outputs": [
    {
     "name": "stdout",
     "output_type": "stream",
     "text": [
      "<class 'pandas.core.frame.DataFrame'>\n",
      "RangeIndex: 10841 entries, 0 to 10840\n",
      "Data columns (total 13 columns):\n",
      "App               10841 non-null object\n",
      "Category          10841 non-null object\n",
      "Rating            9367 non-null float64\n",
      "Reviews           10841 non-null object\n",
      "Size              10841 non-null object\n",
      "Installs          10841 non-null object\n",
      "Type              10840 non-null object\n",
      "Price             10841 non-null object\n",
      "Content Rating    10840 non-null object\n",
      "Genres            10841 non-null object\n",
      "Last Updated      10841 non-null object\n",
      "Current Ver       10833 non-null object\n",
      "Android Ver       10838 non-null object\n",
      "dtypes: float64(1), object(12)\n",
      "memory usage: 1.1+ MB\n"
     ]
    }
   ],
   "source": [
    "data.info()"
   ]
  },
  {
   "cell_type": "code",
   "execution_count": 6,
   "metadata": {
    "execution": {
     "iopub.execute_input": "2021-02-08T04:28:50.323427Z",
     "iopub.status.busy": "2021-02-08T04:28:50.322736Z",
     "iopub.status.idle": "2021-02-08T04:28:50.334147Z",
     "shell.execute_reply": "2021-02-08T04:28:50.334623Z"
    },
    "papermill": {
     "duration": 0.07186,
     "end_time": "2021-02-08T04:28:50.334844",
     "exception": false,
     "start_time": "2021-02-08T04:28:50.262984",
     "status": "completed"
    },
    "tags": []
   },
   "outputs": [
    {
     "data": {
      "text/html": [
       "<div>\n",
       "<style scoped>\n",
       "    .dataframe tbody tr th:only-of-type {\n",
       "        vertical-align: middle;\n",
       "    }\n",
       "\n",
       "    .dataframe tbody tr th {\n",
       "        vertical-align: top;\n",
       "    }\n",
       "\n",
       "    .dataframe thead th {\n",
       "        text-align: right;\n",
       "    }\n",
       "</style>\n",
       "<table border=\"1\" class=\"dataframe\">\n",
       "  <thead>\n",
       "    <tr style=\"text-align: right;\">\n",
       "      <th></th>\n",
       "      <th>Rating</th>\n",
       "    </tr>\n",
       "  </thead>\n",
       "  <tbody>\n",
       "    <tr>\n",
       "      <th>count</th>\n",
       "      <td>9367.000000</td>\n",
       "    </tr>\n",
       "    <tr>\n",
       "      <th>mean</th>\n",
       "      <td>4.193338</td>\n",
       "    </tr>\n",
       "    <tr>\n",
       "      <th>std</th>\n",
       "      <td>0.537431</td>\n",
       "    </tr>\n",
       "    <tr>\n",
       "      <th>min</th>\n",
       "      <td>1.000000</td>\n",
       "    </tr>\n",
       "    <tr>\n",
       "      <th>25%</th>\n",
       "      <td>4.000000</td>\n",
       "    </tr>\n",
       "    <tr>\n",
       "      <th>50%</th>\n",
       "      <td>4.300000</td>\n",
       "    </tr>\n",
       "    <tr>\n",
       "      <th>75%</th>\n",
       "      <td>4.500000</td>\n",
       "    </tr>\n",
       "    <tr>\n",
       "      <th>max</th>\n",
       "      <td>19.000000</td>\n",
       "    </tr>\n",
       "  </tbody>\n",
       "</table>\n",
       "</div>"
      ],
      "text/plain": [
       "            Rating\n",
       "count  9367.000000\n",
       "mean      4.193338\n",
       "std       0.537431\n",
       "min       1.000000\n",
       "25%       4.000000\n",
       "50%       4.300000\n",
       "75%       4.500000\n",
       "max      19.000000"
      ]
     },
     "execution_count": 6,
     "metadata": {},
     "output_type": "execute_result"
    }
   ],
   "source": [
    "data.describe()"
   ]
  },
  {
   "cell_type": "markdown",
   "metadata": {
    "papermill": {
     "duration": 0.052191,
     "end_time": "2021-02-08T04:28:50.439118",
     "exception": false,
     "start_time": "2021-02-08T04:28:50.386927",
     "status": "completed"
    },
    "tags": []
   },
   "source": [
    "# 3. Data Cleaning and Preprocessing"
   ]
  },
  {
   "cell_type": "code",
   "execution_count": 7,
   "metadata": {
    "execution": {
     "iopub.execute_input": "2021-02-08T04:28:50.563751Z",
     "iopub.status.busy": "2021-02-08T04:28:50.547747Z",
     "iopub.status.idle": "2021-02-08T04:28:50.572469Z",
     "shell.execute_reply": "2021-02-08T04:28:50.571894Z"
    },
    "papermill": {
     "duration": 0.081187,
     "end_time": "2021-02-08T04:28:50.572689",
     "exception": false,
     "start_time": "2021-02-08T04:28:50.491502",
     "status": "completed"
    },
    "tags": []
   },
   "outputs": [
    {
     "data": {
      "text/plain": [
       "App                  0\n",
       "Category             0\n",
       "Rating            1474\n",
       "Reviews              0\n",
       "Size                 0\n",
       "Installs             0\n",
       "Type                 1\n",
       "Price                0\n",
       "Content Rating       1\n",
       "Genres               0\n",
       "Last Updated         0\n",
       "Current Ver          8\n",
       "Android Ver          3\n",
       "dtype: int64"
      ]
     },
     "execution_count": 7,
     "metadata": {},
     "output_type": "execute_result"
    }
   ],
   "source": [
    "data.isna().sum()"
   ]
  },
  {
   "cell_type": "code",
   "execution_count": 8,
   "metadata": {
    "execution": {
     "iopub.execute_input": "2021-02-08T04:28:50.820219Z",
     "iopub.status.busy": "2021-02-08T04:28:50.819208Z",
     "iopub.status.idle": "2021-02-08T04:28:50.824595Z",
     "shell.execute_reply": "2021-02-08T04:28:50.825068Z"
    },
    "papermill": {
     "duration": 0.06217,
     "end_time": "2021-02-08T04:28:50.825259",
     "exception": false,
     "start_time": "2021-02-08T04:28:50.763089",
     "status": "completed"
    },
    "tags": []
   },
   "outputs": [],
   "source": [
    "#calculating the RATING based on mean value\n",
    "data['Rating'].fillna((data['Rating'].mean()), inplace=True)"
   ]
  },
  {
   "cell_type": "code",
   "execution_count": 9,
   "metadata": {
    "execution": {
     "iopub.execute_input": "2021-02-08T04:28:50.936478Z",
     "iopub.status.busy": "2021-02-08T04:28:50.935511Z",
     "iopub.status.idle": "2021-02-08T04:28:50.957996Z",
     "shell.execute_reply": "2021-02-08T04:28:50.958454Z"
    },
    "papermill": {
     "duration": 0.079651,
     "end_time": "2021-02-08T04:28:50.958699",
     "exception": false,
     "start_time": "2021-02-08T04:28:50.879048",
     "status": "completed"
    },
    "tags": []
   },
   "outputs": [
    {
     "data": {
      "text/plain": [
       "App               0\n",
       "Category          0\n",
       "Rating            0\n",
       "Reviews           0\n",
       "Size              0\n",
       "Installs          0\n",
       "Type              1\n",
       "Price             0\n",
       "Content Rating    1\n",
       "Genres            0\n",
       "Last Updated      0\n",
       "Current Ver       8\n",
       "Android Ver       3\n",
       "dtype: int64"
      ]
     },
     "execution_count": 9,
     "metadata": {},
     "output_type": "execute_result"
    }
   ],
   "source": [
    "data.isna().sum()"
   ]
  },
  {
   "cell_type": "code",
   "execution_count": 10,
   "metadata": {
    "execution": {
     "iopub.execute_input": "2021-02-08T04:28:51.069972Z",
     "iopub.status.busy": "2021-02-08T04:28:51.068980Z",
     "iopub.status.idle": "2021-02-08T04:28:51.114966Z",
     "shell.execute_reply": "2021-02-08T04:28:51.114138Z"
    },
    "papermill": {
     "duration": 0.10317,
     "end_time": "2021-02-08T04:28:51.115152",
     "exception": false,
     "start_time": "2021-02-08T04:28:51.011982",
     "status": "completed"
    },
    "tags": []
   },
   "outputs": [],
   "source": [
    "#droping the rest of na values\n",
    "data = data.dropna()"
   ]
  },
  {
   "cell_type": "code",
   "execution_count": 11,
   "metadata": {
    "execution": {
     "iopub.execute_input": "2021-02-08T04:28:51.242821Z",
     "iopub.status.busy": "2021-02-08T04:28:51.242036Z",
     "iopub.status.idle": "2021-02-08T04:28:51.249972Z",
     "shell.execute_reply": "2021-02-08T04:28:51.250432Z"
    },
    "papermill": {
     "duration": 0.081331,
     "end_time": "2021-02-08T04:28:51.250647",
     "exception": false,
     "start_time": "2021-02-08T04:28:51.169316",
     "status": "completed"
    },
    "tags": []
   },
   "outputs": [
    {
     "data": {
      "text/plain": [
       "App               0\n",
       "Category          0\n",
       "Rating            0\n",
       "Reviews           0\n",
       "Size              0\n",
       "Installs          0\n",
       "Type              0\n",
       "Price             0\n",
       "Content Rating    0\n",
       "Genres            0\n",
       "Last Updated      0\n",
       "Current Ver       0\n",
       "Android Ver       0\n",
       "dtype: int64"
      ]
     },
     "execution_count": 11,
     "metadata": {},
     "output_type": "execute_result"
    }
   ],
   "source": [
    "data.isna().sum()"
   ]
  },
  {
   "cell_type": "code",
   "execution_count": 12,
   "metadata": {
    "execution": {
     "iopub.execute_input": "2021-02-08T04:28:51.366140Z",
     "iopub.status.busy": "2021-02-08T04:28:51.365048Z",
     "iopub.status.idle": "2021-02-08T04:28:51.370667Z",
     "shell.execute_reply": "2021-02-08T04:28:51.371158Z"
    },
    "papermill": {
     "duration": 0.064705,
     "end_time": "2021-02-08T04:28:51.371369",
     "exception": false,
     "start_time": "2021-02-08T04:28:51.306664",
     "status": "completed"
    },
    "tags": []
   },
   "outputs": [
    {
     "data": {
      "text/plain": [
       "(10829, 13)"
      ]
     },
     "execution_count": 12,
     "metadata": {},
     "output_type": "execute_result"
    }
   ],
   "source": [
    "#final data shape\n",
    "data.shape"
   ]
  },
  {
   "cell_type": "code",
   "execution_count": 13,
   "metadata": {
    "execution": {
     "iopub.execute_input": "2021-02-08T04:28:51.485861Z",
     "iopub.status.busy": "2021-02-08T04:28:51.484830Z",
     "iopub.status.idle": "2021-02-08T04:28:51.520095Z",
     "shell.execute_reply": "2021-02-08T04:28:51.520624Z"
    },
    "papermill": {
     "duration": 0.095144,
     "end_time": "2021-02-08T04:28:51.520852",
     "exception": false,
     "start_time": "2021-02-08T04:28:51.425708",
     "status": "completed"
    },
    "tags": []
   },
   "outputs": [
    {
     "data": {
      "text/html": [
       "<div>\n",
       "<style scoped>\n",
       "    .dataframe tbody tr th:only-of-type {\n",
       "        vertical-align: middle;\n",
       "    }\n",
       "\n",
       "    .dataframe tbody tr th {\n",
       "        vertical-align: top;\n",
       "    }\n",
       "\n",
       "    .dataframe thead th {\n",
       "        text-align: right;\n",
       "    }\n",
       "</style>\n",
       "<table border=\"1\" class=\"dataframe\">\n",
       "  <thead>\n",
       "    <tr style=\"text-align: right;\">\n",
       "      <th></th>\n",
       "      <th>App</th>\n",
       "      <th>Category</th>\n",
       "      <th>Rating</th>\n",
       "      <th>Reviews</th>\n",
       "      <th>Size</th>\n",
       "      <th>Installs</th>\n",
       "      <th>Type</th>\n",
       "      <th>Price</th>\n",
       "      <th>Content Rating</th>\n",
       "      <th>Genres</th>\n",
       "      <th>Last Updated</th>\n",
       "      <th>Current Ver</th>\n",
       "      <th>Android Ver</th>\n",
       "    </tr>\n",
       "  </thead>\n",
       "  <tbody>\n",
       "    <tr>\n",
       "      <th>229</th>\n",
       "      <td>Quick PDF Scanner + OCR FREE</td>\n",
       "      <td>BUSINESS</td>\n",
       "      <td>4.2</td>\n",
       "      <td>80805</td>\n",
       "      <td>Varies with device</td>\n",
       "      <td>5,000,000+</td>\n",
       "      <td>Free</td>\n",
       "      <td>0</td>\n",
       "      <td>Everyone</td>\n",
       "      <td>Business</td>\n",
       "      <td>February 26, 2018</td>\n",
       "      <td>Varies with device</td>\n",
       "      <td>4.0.3 and up</td>\n",
       "    </tr>\n",
       "    <tr>\n",
       "      <th>236</th>\n",
       "      <td>Box</td>\n",
       "      <td>BUSINESS</td>\n",
       "      <td>4.2</td>\n",
       "      <td>159872</td>\n",
       "      <td>Varies with device</td>\n",
       "      <td>10,000,000+</td>\n",
       "      <td>Free</td>\n",
       "      <td>0</td>\n",
       "      <td>Everyone</td>\n",
       "      <td>Business</td>\n",
       "      <td>July 31, 2018</td>\n",
       "      <td>Varies with device</td>\n",
       "      <td>Varies with device</td>\n",
       "    </tr>\n",
       "    <tr>\n",
       "      <th>239</th>\n",
       "      <td>Google My Business</td>\n",
       "      <td>BUSINESS</td>\n",
       "      <td>4.4</td>\n",
       "      <td>70991</td>\n",
       "      <td>Varies with device</td>\n",
       "      <td>5,000,000+</td>\n",
       "      <td>Free</td>\n",
       "      <td>0</td>\n",
       "      <td>Everyone</td>\n",
       "      <td>Business</td>\n",
       "      <td>July 24, 2018</td>\n",
       "      <td>2.19.0.204537701</td>\n",
       "      <td>4.4 and up</td>\n",
       "    </tr>\n",
       "    <tr>\n",
       "      <th>256</th>\n",
       "      <td>ZOOM Cloud Meetings</td>\n",
       "      <td>BUSINESS</td>\n",
       "      <td>4.4</td>\n",
       "      <td>31614</td>\n",
       "      <td>37M</td>\n",
       "      <td>10,000,000+</td>\n",
       "      <td>Free</td>\n",
       "      <td>0</td>\n",
       "      <td>Everyone</td>\n",
       "      <td>Business</td>\n",
       "      <td>July 20, 2018</td>\n",
       "      <td>4.1.28165.0716</td>\n",
       "      <td>4.0 and up</td>\n",
       "    </tr>\n",
       "    <tr>\n",
       "      <th>261</th>\n",
       "      <td>join.me - Simple Meetings</td>\n",
       "      <td>BUSINESS</td>\n",
       "      <td>4.0</td>\n",
       "      <td>6989</td>\n",
       "      <td>Varies with device</td>\n",
       "      <td>1,000,000+</td>\n",
       "      <td>Free</td>\n",
       "      <td>0</td>\n",
       "      <td>Everyone</td>\n",
       "      <td>Business</td>\n",
       "      <td>July 16, 2018</td>\n",
       "      <td>4.3.0.508</td>\n",
       "      <td>4.4 and up</td>\n",
       "    </tr>\n",
       "    <tr>\n",
       "      <th>...</th>\n",
       "      <td>...</td>\n",
       "      <td>...</td>\n",
       "      <td>...</td>\n",
       "      <td>...</td>\n",
       "      <td>...</td>\n",
       "      <td>...</td>\n",
       "      <td>...</td>\n",
       "      <td>...</td>\n",
       "      <td>...</td>\n",
       "      <td>...</td>\n",
       "      <td>...</td>\n",
       "      <td>...</td>\n",
       "      <td>...</td>\n",
       "    </tr>\n",
       "    <tr>\n",
       "      <th>10715</th>\n",
       "      <td>FarmersOnly Dating</td>\n",
       "      <td>DATING</td>\n",
       "      <td>3.0</td>\n",
       "      <td>1145</td>\n",
       "      <td>1.4M</td>\n",
       "      <td>100,000+</td>\n",
       "      <td>Free</td>\n",
       "      <td>0</td>\n",
       "      <td>Mature 17+</td>\n",
       "      <td>Dating</td>\n",
       "      <td>February 25, 2016</td>\n",
       "      <td>2.2</td>\n",
       "      <td>4.0 and up</td>\n",
       "    </tr>\n",
       "    <tr>\n",
       "      <th>10720</th>\n",
       "      <td>Firefox Focus: The privacy browser</td>\n",
       "      <td>COMMUNICATION</td>\n",
       "      <td>4.4</td>\n",
       "      <td>36981</td>\n",
       "      <td>4.0M</td>\n",
       "      <td>1,000,000+</td>\n",
       "      <td>Free</td>\n",
       "      <td>0</td>\n",
       "      <td>Everyone</td>\n",
       "      <td>Communication</td>\n",
       "      <td>July 6, 2018</td>\n",
       "      <td>5.2</td>\n",
       "      <td>5.0 and up</td>\n",
       "    </tr>\n",
       "    <tr>\n",
       "      <th>10730</th>\n",
       "      <td>FP Notebook</td>\n",
       "      <td>MEDICAL</td>\n",
       "      <td>4.5</td>\n",
       "      <td>410</td>\n",
       "      <td>60M</td>\n",
       "      <td>50,000+</td>\n",
       "      <td>Free</td>\n",
       "      <td>0</td>\n",
       "      <td>Everyone</td>\n",
       "      <td>Medical</td>\n",
       "      <td>March 24, 2018</td>\n",
       "      <td>2.1.0.372</td>\n",
       "      <td>4.4 and up</td>\n",
       "    </tr>\n",
       "    <tr>\n",
       "      <th>10753</th>\n",
       "      <td>Slickdeals: Coupons &amp; Shopping</td>\n",
       "      <td>SHOPPING</td>\n",
       "      <td>4.5</td>\n",
       "      <td>33599</td>\n",
       "      <td>12M</td>\n",
       "      <td>1,000,000+</td>\n",
       "      <td>Free</td>\n",
       "      <td>0</td>\n",
       "      <td>Everyone</td>\n",
       "      <td>Shopping</td>\n",
       "      <td>July 30, 2018</td>\n",
       "      <td>3.9</td>\n",
       "      <td>4.4 and up</td>\n",
       "    </tr>\n",
       "    <tr>\n",
       "      <th>10768</th>\n",
       "      <td>AAFP</td>\n",
       "      <td>MEDICAL</td>\n",
       "      <td>3.8</td>\n",
       "      <td>63</td>\n",
       "      <td>24M</td>\n",
       "      <td>10,000+</td>\n",
       "      <td>Free</td>\n",
       "      <td>0</td>\n",
       "      <td>Everyone</td>\n",
       "      <td>Medical</td>\n",
       "      <td>June 22, 2018</td>\n",
       "      <td>2.3.1</td>\n",
       "      <td>5.0 and up</td>\n",
       "    </tr>\n",
       "  </tbody>\n",
       "</table>\n",
       "<p>1181 rows × 13 columns</p>\n",
       "</div>"
      ],
      "text/plain": [
       "                                      App       Category  Rating Reviews  \\\n",
       "229          Quick PDF Scanner + OCR FREE       BUSINESS     4.2   80805   \n",
       "236                                   Box       BUSINESS     4.2  159872   \n",
       "239                    Google My Business       BUSINESS     4.4   70991   \n",
       "256                   ZOOM Cloud Meetings       BUSINESS     4.4   31614   \n",
       "261             join.me - Simple Meetings       BUSINESS     4.0    6989   \n",
       "...                                   ...            ...     ...     ...   \n",
       "10715                  FarmersOnly Dating         DATING     3.0    1145   \n",
       "10720  Firefox Focus: The privacy browser  COMMUNICATION     4.4   36981   \n",
       "10730                         FP Notebook        MEDICAL     4.5     410   \n",
       "10753      Slickdeals: Coupons & Shopping       SHOPPING     4.5   33599   \n",
       "10768                                AAFP        MEDICAL     3.8      63   \n",
       "\n",
       "                     Size     Installs  Type Price Content Rating  \\\n",
       "229    Varies with device   5,000,000+  Free     0       Everyone   \n",
       "236    Varies with device  10,000,000+  Free     0       Everyone   \n",
       "239    Varies with device   5,000,000+  Free     0       Everyone   \n",
       "256                   37M  10,000,000+  Free     0       Everyone   \n",
       "261    Varies with device   1,000,000+  Free     0       Everyone   \n",
       "...                   ...          ...   ...   ...            ...   \n",
       "10715                1.4M     100,000+  Free     0     Mature 17+   \n",
       "10720                4.0M   1,000,000+  Free     0       Everyone   \n",
       "10730                 60M      50,000+  Free     0       Everyone   \n",
       "10753                 12M   1,000,000+  Free     0       Everyone   \n",
       "10768                 24M      10,000+  Free     0       Everyone   \n",
       "\n",
       "              Genres       Last Updated         Current Ver  \\\n",
       "229         Business  February 26, 2018  Varies with device   \n",
       "236         Business      July 31, 2018  Varies with device   \n",
       "239         Business      July 24, 2018    2.19.0.204537701   \n",
       "256         Business      July 20, 2018      4.1.28165.0716   \n",
       "261         Business      July 16, 2018           4.3.0.508   \n",
       "...              ...                ...                 ...   \n",
       "10715         Dating  February 25, 2016                 2.2   \n",
       "10720  Communication       July 6, 2018                 5.2   \n",
       "10730        Medical     March 24, 2018           2.1.0.372   \n",
       "10753       Shopping      July 30, 2018                 3.9   \n",
       "10768        Medical      June 22, 2018               2.3.1   \n",
       "\n",
       "              Android Ver  \n",
       "229          4.0.3 and up  \n",
       "236    Varies with device  \n",
       "239            4.4 and up  \n",
       "256            4.0 and up  \n",
       "261            4.4 and up  \n",
       "...                   ...  \n",
       "10715          4.0 and up  \n",
       "10720          5.0 and up  \n",
       "10730          4.4 and up  \n",
       "10753          4.4 and up  \n",
       "10768          5.0 and up  \n",
       "\n",
       "[1181 rows x 13 columns]"
      ]
     },
     "execution_count": 13,
     "metadata": {},
     "output_type": "execute_result"
    }
   ],
   "source": [
    "#check for the duplicated data based on the column APP name\n",
    "data[data.duplicated(['App'])]"
   ]
  },
  {
   "cell_type": "code",
   "execution_count": 14,
   "metadata": {
    "execution": {
     "iopub.execute_input": "2021-02-08T04:28:51.638516Z",
     "iopub.status.busy": "2021-02-08T04:28:51.637487Z",
     "iopub.status.idle": "2021-02-08T04:28:51.659987Z",
     "shell.execute_reply": "2021-02-08T04:28:51.660456Z"
    },
    "papermill": {
     "duration": 0.083734,
     "end_time": "2021-02-08T04:28:51.660683",
     "exception": false,
     "start_time": "2021-02-08T04:28:51.576949",
     "status": "completed"
    },
    "tags": []
   },
   "outputs": [
    {
     "data": {
      "text/html": [
       "<div>\n",
       "<style scoped>\n",
       "    .dataframe tbody tr th:only-of-type {\n",
       "        vertical-align: middle;\n",
       "    }\n",
       "\n",
       "    .dataframe tbody tr th {\n",
       "        vertical-align: top;\n",
       "    }\n",
       "\n",
       "    .dataframe thead th {\n",
       "        text-align: right;\n",
       "    }\n",
       "</style>\n",
       "<table border=\"1\" class=\"dataframe\">\n",
       "  <thead>\n",
       "    <tr style=\"text-align: right;\">\n",
       "      <th></th>\n",
       "      <th>App</th>\n",
       "      <th>Category</th>\n",
       "      <th>Rating</th>\n",
       "      <th>Reviews</th>\n",
       "      <th>Size</th>\n",
       "      <th>Installs</th>\n",
       "      <th>Type</th>\n",
       "      <th>Price</th>\n",
       "      <th>Content Rating</th>\n",
       "      <th>Genres</th>\n",
       "      <th>Last Updated</th>\n",
       "      <th>Current Ver</th>\n",
       "      <th>Android Ver</th>\n",
       "    </tr>\n",
       "  </thead>\n",
       "  <tbody>\n",
       "    <tr>\n",
       "      <th>222</th>\n",
       "      <td>Quick PDF Scanner + OCR FREE</td>\n",
       "      <td>BUSINESS</td>\n",
       "      <td>4.2</td>\n",
       "      <td>80805</td>\n",
       "      <td>Varies with device</td>\n",
       "      <td>5,000,000+</td>\n",
       "      <td>Free</td>\n",
       "      <td>0</td>\n",
       "      <td>Everyone</td>\n",
       "      <td>Business</td>\n",
       "      <td>February 26, 2018</td>\n",
       "      <td>Varies with device</td>\n",
       "      <td>4.0.3 and up</td>\n",
       "    </tr>\n",
       "    <tr>\n",
       "      <th>229</th>\n",
       "      <td>Quick PDF Scanner + OCR FREE</td>\n",
       "      <td>BUSINESS</td>\n",
       "      <td>4.2</td>\n",
       "      <td>80805</td>\n",
       "      <td>Varies with device</td>\n",
       "      <td>5,000,000+</td>\n",
       "      <td>Free</td>\n",
       "      <td>0</td>\n",
       "      <td>Everyone</td>\n",
       "      <td>Business</td>\n",
       "      <td>February 26, 2018</td>\n",
       "      <td>Varies with device</td>\n",
       "      <td>4.0.3 and up</td>\n",
       "    </tr>\n",
       "    <tr>\n",
       "      <th>285</th>\n",
       "      <td>Quick PDF Scanner + OCR FREE</td>\n",
       "      <td>BUSINESS</td>\n",
       "      <td>4.2</td>\n",
       "      <td>80804</td>\n",
       "      <td>Varies with device</td>\n",
       "      <td>5,000,000+</td>\n",
       "      <td>Free</td>\n",
       "      <td>0</td>\n",
       "      <td>Everyone</td>\n",
       "      <td>Business</td>\n",
       "      <td>February 26, 2018</td>\n",
       "      <td>Varies with device</td>\n",
       "      <td>4.0.3 and up</td>\n",
       "    </tr>\n",
       "  </tbody>\n",
       "</table>\n",
       "</div>"
      ],
      "text/plain": [
       "                              App  Category  Rating Reviews  \\\n",
       "222  Quick PDF Scanner + OCR FREE  BUSINESS     4.2   80805   \n",
       "229  Quick PDF Scanner + OCR FREE  BUSINESS     4.2   80805   \n",
       "285  Quick PDF Scanner + OCR FREE  BUSINESS     4.2   80804   \n",
       "\n",
       "                   Size    Installs  Type Price Content Rating    Genres  \\\n",
       "222  Varies with device  5,000,000+  Free     0       Everyone  Business   \n",
       "229  Varies with device  5,000,000+  Free     0       Everyone  Business   \n",
       "285  Varies with device  5,000,000+  Free     0       Everyone  Business   \n",
       "\n",
       "          Last Updated         Current Ver   Android Ver  \n",
       "222  February 26, 2018  Varies with device  4.0.3 and up  \n",
       "229  February 26, 2018  Varies with device  4.0.3 and up  \n",
       "285  February 26, 2018  Varies with device  4.0.3 and up  "
      ]
     },
     "execution_count": 14,
     "metadata": {},
     "output_type": "execute_result"
    }
   ],
   "source": [
    "data[data['App']==\"Quick PDF Scanner + OCR FREE\"]"
   ]
  },
  {
   "cell_type": "code",
   "execution_count": 15,
   "metadata": {
    "execution": {
     "iopub.execute_input": "2021-02-08T04:28:51.780904Z",
     "iopub.status.busy": "2021-02-08T04:28:51.780203Z",
     "iopub.status.idle": "2021-02-08T04:28:51.784913Z",
     "shell.execute_reply": "2021-02-08T04:28:51.784256Z"
    },
    "papermill": {
     "duration": 0.066622,
     "end_time": "2021-02-08T04:28:51.785078",
     "exception": false,
     "start_time": "2021-02-08T04:28:51.718456",
     "status": "completed"
    },
    "tags": []
   },
   "outputs": [
    {
     "data": {
      "text/plain": [
       "(10829, 13)"
      ]
     },
     "execution_count": 15,
     "metadata": {},
     "output_type": "execute_result"
    }
   ],
   "source": [
    "data.shape"
   ]
  },
  {
   "cell_type": "code",
   "execution_count": 16,
   "metadata": {
    "execution": {
     "iopub.execute_input": "2021-02-08T04:28:51.919202Z",
     "iopub.status.busy": "2021-02-08T04:28:51.907147Z",
     "iopub.status.idle": "2021-02-08T04:28:51.927112Z",
     "shell.execute_reply": "2021-02-08T04:28:51.926490Z"
    },
    "papermill": {
     "duration": 0.08466,
     "end_time": "2021-02-08T04:28:51.927305",
     "exception": false,
     "start_time": "2021-02-08T04:28:51.842645",
     "status": "completed"
    },
    "tags": []
   },
   "outputs": [],
   "source": [
    "data.sort_values(by=['Reviews'], inplace=True)"
   ]
  },
  {
   "cell_type": "code",
   "execution_count": 17,
   "metadata": {
    "execution": {
     "iopub.execute_input": "2021-02-08T04:28:52.062981Z",
     "iopub.status.busy": "2021-02-08T04:28:52.062230Z",
     "iopub.status.idle": "2021-02-08T04:28:52.067401Z",
     "shell.execute_reply": "2021-02-08T04:28:52.066861Z"
    },
    "papermill": {
     "duration": 0.083249,
     "end_time": "2021-02-08T04:28:52.067564",
     "exception": false,
     "start_time": "2021-02-08T04:28:51.984315",
     "status": "completed"
    },
    "tags": []
   },
   "outputs": [
    {
     "data": {
      "text/html": [
       "<div>\n",
       "<style scoped>\n",
       "    .dataframe tbody tr th:only-of-type {\n",
       "        vertical-align: middle;\n",
       "    }\n",
       "\n",
       "    .dataframe tbody tr th {\n",
       "        vertical-align: top;\n",
       "    }\n",
       "\n",
       "    .dataframe thead th {\n",
       "        text-align: right;\n",
       "    }\n",
       "</style>\n",
       "<table border=\"1\" class=\"dataframe\">\n",
       "  <thead>\n",
       "    <tr style=\"text-align: right;\">\n",
       "      <th></th>\n",
       "      <th>App</th>\n",
       "      <th>Category</th>\n",
       "      <th>Rating</th>\n",
       "      <th>Reviews</th>\n",
       "      <th>Size</th>\n",
       "      <th>Installs</th>\n",
       "      <th>Type</th>\n",
       "      <th>Price</th>\n",
       "      <th>Content Rating</th>\n",
       "      <th>Genres</th>\n",
       "      <th>Last Updated</th>\n",
       "      <th>Current Ver</th>\n",
       "      <th>Android Ver</th>\n",
       "    </tr>\n",
       "  </thead>\n",
       "  <tbody>\n",
       "    <tr>\n",
       "      <th>5086</th>\n",
       "      <td>Apps for SportsBєtting.ag - Bitcoin Welcome here!</td>\n",
       "      <td>SPORTS</td>\n",
       "      <td>4.193338</td>\n",
       "      <td>0</td>\n",
       "      <td>10.0M</td>\n",
       "      <td>1,000+</td>\n",
       "      <td>Free</td>\n",
       "      <td>0</td>\n",
       "      <td>Everyone</td>\n",
       "      <td>Sports</td>\n",
       "      <td>December 11, 2017</td>\n",
       "      <td>1.0</td>\n",
       "      <td>4.0 and up</td>\n",
       "    </tr>\n",
       "    <tr>\n",
       "      <th>2516</th>\n",
       "      <td>RT 516 VET</td>\n",
       "      <td>MEDICAL</td>\n",
       "      <td>4.193338</td>\n",
       "      <td>0</td>\n",
       "      <td>29M</td>\n",
       "      <td>10+</td>\n",
       "      <td>Free</td>\n",
       "      <td>0</td>\n",
       "      <td>Everyone</td>\n",
       "      <td>Medical</td>\n",
       "      <td>July 13, 2018</td>\n",
       "      <td>300000.1.11</td>\n",
       "      <td>4.0.3 and up</td>\n",
       "    </tr>\n",
       "    <tr>\n",
       "      <th>7728</th>\n",
       "      <td>HR Team CQ Region Ed Qld</td>\n",
       "      <td>BUSINESS</td>\n",
       "      <td>4.193338</td>\n",
       "      <td>0</td>\n",
       "      <td>4.1M</td>\n",
       "      <td>500+</td>\n",
       "      <td>Free</td>\n",
       "      <td>0</td>\n",
       "      <td>Everyone</td>\n",
       "      <td>Business</td>\n",
       "      <td>January 12, 2018</td>\n",
       "      <td>3.8</td>\n",
       "      <td>4.0.3 and up</td>\n",
       "    </tr>\n",
       "    <tr>\n",
       "      <th>5165</th>\n",
       "      <td>Ferguson AH</td>\n",
       "      <td>MEDICAL</td>\n",
       "      <td>4.193338</td>\n",
       "      <td>0</td>\n",
       "      <td>29M</td>\n",
       "      <td>100+</td>\n",
       "      <td>Free</td>\n",
       "      <td>0</td>\n",
       "      <td>Everyone</td>\n",
       "      <td>Medical</td>\n",
       "      <td>July 17, 2017</td>\n",
       "      <td>300000.0.86</td>\n",
       "      <td>4.0.3 and up</td>\n",
       "    </tr>\n",
       "    <tr>\n",
       "      <th>5162</th>\n",
       "      <td>Hilltop AH</td>\n",
       "      <td>MEDICAL</td>\n",
       "      <td>4.193338</td>\n",
       "      <td>0</td>\n",
       "      <td>29M</td>\n",
       "      <td>100+</td>\n",
       "      <td>Free</td>\n",
       "      <td>0</td>\n",
       "      <td>Everyone</td>\n",
       "      <td>Medical</td>\n",
       "      <td>January 10, 2018</td>\n",
       "      <td>300000.0.96</td>\n",
       "      <td>4.0.3 and up</td>\n",
       "    </tr>\n",
       "  </tbody>\n",
       "</table>\n",
       "</div>"
      ],
      "text/plain": [
       "                                                    App  Category    Rating  \\\n",
       "5086  Apps for SportsBєtting.ag - Bitcoin Welcome here!    SPORTS  4.193338   \n",
       "2516                                         RT 516 VET   MEDICAL  4.193338   \n",
       "7728                           HR Team CQ Region Ed Qld  BUSINESS  4.193338   \n",
       "5165                                        Ferguson AH   MEDICAL  4.193338   \n",
       "5162                                         Hilltop AH   MEDICAL  4.193338   \n",
       "\n",
       "     Reviews   Size Installs  Type Price Content Rating    Genres  \\\n",
       "5086       0  10.0M   1,000+  Free     0       Everyone    Sports   \n",
       "2516       0    29M      10+  Free     0       Everyone   Medical   \n",
       "7728       0   4.1M     500+  Free     0       Everyone  Business   \n",
       "5165       0    29M     100+  Free     0       Everyone   Medical   \n",
       "5162       0    29M     100+  Free     0       Everyone   Medical   \n",
       "\n",
       "           Last Updated  Current Ver   Android Ver  \n",
       "5086  December 11, 2017          1.0    4.0 and up  \n",
       "2516      July 13, 2018  300000.1.11  4.0.3 and up  \n",
       "7728   January 12, 2018          3.8  4.0.3 and up  \n",
       "5165      July 17, 2017  300000.0.86  4.0.3 and up  \n",
       "5162   January 10, 2018  300000.0.96  4.0.3 and up  "
      ]
     },
     "execution_count": 17,
     "metadata": {},
     "output_type": "execute_result"
    }
   ],
   "source": [
    "data.head()"
   ]
  },
  {
   "cell_type": "code",
   "execution_count": 18,
   "metadata": {
    "execution": {
     "iopub.execute_input": "2021-02-08T04:28:52.213311Z",
     "iopub.status.busy": "2021-02-08T04:28:52.212252Z",
     "iopub.status.idle": "2021-02-08T04:28:52.227175Z",
     "shell.execute_reply": "2021-02-08T04:28:52.226269Z"
    },
    "papermill": {
     "duration": 0.1021,
     "end_time": "2021-02-08T04:28:52.227420",
     "exception": false,
     "start_time": "2021-02-08T04:28:52.125320",
     "status": "completed"
    },
    "tags": []
   },
   "outputs": [],
   "source": [
    "#Drop the duplicates based on the app names\n",
    "data2 = data.drop_duplicates(keep='last',subset=['App'])"
   ]
  },
  {
   "cell_type": "code",
   "execution_count": 19,
   "metadata": {
    "execution": {
     "iopub.execute_input": "2021-02-08T04:28:52.375678Z",
     "iopub.status.busy": "2021-02-08T04:28:52.374698Z",
     "iopub.status.idle": "2021-02-08T04:28:52.379822Z",
     "shell.execute_reply": "2021-02-08T04:28:52.380293Z"
    },
    "papermill": {
     "duration": 0.080313,
     "end_time": "2021-02-08T04:28:52.380509",
     "exception": false,
     "start_time": "2021-02-08T04:28:52.300196",
     "status": "completed"
    },
    "tags": []
   },
   "outputs": [
    {
     "data": {
      "text/plain": [
       "(9648, 13)"
      ]
     },
     "execution_count": 19,
     "metadata": {},
     "output_type": "execute_result"
    }
   ],
   "source": [
    "data2.shape"
   ]
  },
  {
   "cell_type": "code",
   "execution_count": 20,
   "metadata": {
    "execution": {
     "iopub.execute_input": "2021-02-08T04:28:52.536104Z",
     "iopub.status.busy": "2021-02-08T04:28:52.527541Z",
     "iopub.status.idle": "2021-02-08T04:28:52.541908Z",
     "shell.execute_reply": "2021-02-08T04:28:52.541217Z"
    },
    "papermill": {
     "duration": 0.102283,
     "end_time": "2021-02-08T04:28:52.542086",
     "exception": false,
     "start_time": "2021-02-08T04:28:52.439803",
     "status": "completed"
    },
    "tags": []
   },
   "outputs": [
    {
     "data": {
      "text/html": [
       "<div>\n",
       "<style scoped>\n",
       "    .dataframe tbody tr th:only-of-type {\n",
       "        vertical-align: middle;\n",
       "    }\n",
       "\n",
       "    .dataframe tbody tr th {\n",
       "        vertical-align: top;\n",
       "    }\n",
       "\n",
       "    .dataframe thead th {\n",
       "        text-align: right;\n",
       "    }\n",
       "</style>\n",
       "<table border=\"1\" class=\"dataframe\">\n",
       "  <thead>\n",
       "    <tr style=\"text-align: right;\">\n",
       "      <th></th>\n",
       "      <th>App</th>\n",
       "      <th>Category</th>\n",
       "      <th>Rating</th>\n",
       "      <th>Reviews</th>\n",
       "      <th>Size</th>\n",
       "      <th>Installs</th>\n",
       "      <th>Type</th>\n",
       "      <th>Price</th>\n",
       "      <th>Content Rating</th>\n",
       "      <th>Genres</th>\n",
       "      <th>Last Updated</th>\n",
       "      <th>Current Ver</th>\n",
       "      <th>Android Ver</th>\n",
       "    </tr>\n",
       "  </thead>\n",
       "  <tbody>\n",
       "    <tr>\n",
       "      <th>5086</th>\n",
       "      <td>Apps for SportsBєtting.ag - Bitcoin Welcome here!</td>\n",
       "      <td>SPORTS</td>\n",
       "      <td>4.193338</td>\n",
       "      <td>0</td>\n",
       "      <td>10.0M</td>\n",
       "      <td>1,000+</td>\n",
       "      <td>Free</td>\n",
       "      <td>0</td>\n",
       "      <td>Everyone</td>\n",
       "      <td>Sports</td>\n",
       "      <td>December 11, 2017</td>\n",
       "      <td>1.0</td>\n",
       "      <td>4.0 and up</td>\n",
       "    </tr>\n",
       "    <tr>\n",
       "      <th>7728</th>\n",
       "      <td>HR Team CQ Region Ed Qld</td>\n",
       "      <td>BUSINESS</td>\n",
       "      <td>4.193338</td>\n",
       "      <td>0</td>\n",
       "      <td>4.1M</td>\n",
       "      <td>500+</td>\n",
       "      <td>Free</td>\n",
       "      <td>0</td>\n",
       "      <td>Everyone</td>\n",
       "      <td>Business</td>\n",
       "      <td>January 12, 2018</td>\n",
       "      <td>3.8</td>\n",
       "      <td>4.0.3 and up</td>\n",
       "    </tr>\n",
       "    <tr>\n",
       "      <th>5165</th>\n",
       "      <td>Ferguson AH</td>\n",
       "      <td>MEDICAL</td>\n",
       "      <td>4.193338</td>\n",
       "      <td>0</td>\n",
       "      <td>29M</td>\n",
       "      <td>100+</td>\n",
       "      <td>Free</td>\n",
       "      <td>0</td>\n",
       "      <td>Everyone</td>\n",
       "      <td>Medical</td>\n",
       "      <td>July 17, 2017</td>\n",
       "      <td>300000.0.86</td>\n",
       "      <td>4.0.3 and up</td>\n",
       "    </tr>\n",
       "    <tr>\n",
       "      <th>5162</th>\n",
       "      <td>Hilltop AH</td>\n",
       "      <td>MEDICAL</td>\n",
       "      <td>4.193338</td>\n",
       "      <td>0</td>\n",
       "      <td>29M</td>\n",
       "      <td>100+</td>\n",
       "      <td>Free</td>\n",
       "      <td>0</td>\n",
       "      <td>Everyone</td>\n",
       "      <td>Medical</td>\n",
       "      <td>January 10, 2018</td>\n",
       "      <td>300000.0.96</td>\n",
       "      <td>4.0.3 and up</td>\n",
       "    </tr>\n",
       "    <tr>\n",
       "      <th>5161</th>\n",
       "      <td>Bayview Hill AH</td>\n",
       "      <td>MEDICAL</td>\n",
       "      <td>4.193338</td>\n",
       "      <td>0</td>\n",
       "      <td>29M</td>\n",
       "      <td>50+</td>\n",
       "      <td>Free</td>\n",
       "      <td>0</td>\n",
       "      <td>Everyone</td>\n",
       "      <td>Medical</td>\n",
       "      <td>June 6, 2018</td>\n",
       "      <td>300000.1.08</td>\n",
       "      <td>4.0.3 and up</td>\n",
       "    </tr>\n",
       "  </tbody>\n",
       "</table>\n",
       "</div>"
      ],
      "text/plain": [
       "                                                    App  Category    Rating  \\\n",
       "5086  Apps for SportsBєtting.ag - Bitcoin Welcome here!    SPORTS  4.193338   \n",
       "7728                           HR Team CQ Region Ed Qld  BUSINESS  4.193338   \n",
       "5165                                        Ferguson AH   MEDICAL  4.193338   \n",
       "5162                                         Hilltop AH   MEDICAL  4.193338   \n",
       "5161                                    Bayview Hill AH   MEDICAL  4.193338   \n",
       "\n",
       "     Reviews   Size Installs  Type Price Content Rating    Genres  \\\n",
       "5086       0  10.0M   1,000+  Free     0       Everyone    Sports   \n",
       "7728       0   4.1M     500+  Free     0       Everyone  Business   \n",
       "5165       0    29M     100+  Free     0       Everyone   Medical   \n",
       "5162       0    29M     100+  Free     0       Everyone   Medical   \n",
       "5161       0    29M      50+  Free     0       Everyone   Medical   \n",
       "\n",
       "           Last Updated  Current Ver   Android Ver  \n",
       "5086  December 11, 2017          1.0    4.0 and up  \n",
       "7728   January 12, 2018          3.8  4.0.3 and up  \n",
       "5165      July 17, 2017  300000.0.86  4.0.3 and up  \n",
       "5162   January 10, 2018  300000.0.96  4.0.3 and up  \n",
       "5161       June 6, 2018  300000.1.08  4.0.3 and up  "
      ]
     },
     "execution_count": 20,
     "metadata": {},
     "output_type": "execute_result"
    }
   ],
   "source": [
    "data2.head()"
   ]
  },
  {
   "cell_type": "code",
   "execution_count": 21,
   "metadata": {
    "execution": {
     "iopub.execute_input": "2021-02-08T04:28:52.668113Z",
     "iopub.status.busy": "2021-02-08T04:28:52.667320Z",
     "iopub.status.idle": "2021-02-08T04:28:52.694263Z",
     "shell.execute_reply": "2021-02-08T04:28:52.693417Z"
    },
    "papermill": {
     "duration": 0.092046,
     "end_time": "2021-02-08T04:28:52.694443",
     "exception": false,
     "start_time": "2021-02-08T04:28:52.602397",
     "status": "completed"
    },
    "tags": []
   },
   "outputs": [
    {
     "name": "stderr",
     "output_type": "stream",
     "text": [
      "C:\\Users\\abhijeets\\AppData\\Local\\Continuum\\Anaconda3\\lib\\site-packages\\ipykernel_launcher.py:2: SettingWithCopyWarning: \n",
      "A value is trying to be set on a copy of a slice from a DataFrame.\n",
      "Try using .loc[row_indexer,col_indexer] = value instead\n",
      "\n",
      "See the caveats in the documentation: http://pandas.pydata.org/pandas-docs/stable/user_guide/indexing.html#returning-a-view-versus-a-copy\n",
      "  \n"
     ]
    }
   ],
   "source": [
    "#Converting the Installs number into float value and copying in a different column\n",
    "data2['Installs_num'] = data2['Installs'].apply(lambda x: float(x.split(\"+\")[0].replace(\",\",\"\")))"
   ]
  },
  {
   "cell_type": "code",
   "execution_count": 22,
   "metadata": {
    "execution": {
     "iopub.execute_input": "2021-02-08T04:28:52.827510Z",
     "iopub.status.busy": "2021-02-08T04:28:52.822110Z",
     "iopub.status.idle": "2021-02-08T04:28:52.835120Z",
     "shell.execute_reply": "2021-02-08T04:28:52.834352Z"
    },
    "papermill": {
     "duration": 0.079063,
     "end_time": "2021-02-08T04:28:52.835313",
     "exception": false,
     "start_time": "2021-02-08T04:28:52.756250",
     "status": "completed"
    },
    "tags": []
   },
   "outputs": [
    {
     "name": "stderr",
     "output_type": "stream",
     "text": [
      "C:\\Users\\abhijeets\\AppData\\Local\\Continuum\\Anaconda3\\lib\\site-packages\\ipykernel_launcher.py:2: SettingWithCopyWarning: \n",
      "A value is trying to be set on a copy of a slice from a DataFrame.\n",
      "Try using .loc[row_indexer,col_indexer] = value instead\n",
      "\n",
      "See the caveats in the documentation: http://pandas.pydata.org/pandas-docs/stable/user_guide/indexing.html#returning-a-view-versus-a-copy\n",
      "  \n"
     ]
    }
   ],
   "source": [
    "#converting the price into float values\n",
    "data2['Price_USD'] = data2['Price'].apply(lambda x: float(x.replace(\"$\",\"\")))"
   ]
  },
  {
   "cell_type": "code",
   "execution_count": 23,
   "metadata": {
    "execution": {
     "iopub.execute_input": "2021-02-08T04:28:52.963369Z",
     "iopub.status.busy": "2021-02-08T04:28:52.962579Z",
     "iopub.status.idle": "2021-02-08T04:28:52.991403Z",
     "shell.execute_reply": "2021-02-08T04:28:52.990689Z"
    },
    "papermill": {
     "duration": 0.095395,
     "end_time": "2021-02-08T04:28:52.991581",
     "exception": false,
     "start_time": "2021-02-08T04:28:52.896186",
     "status": "completed"
    },
    "tags": []
   },
   "outputs": [
    {
     "name": "stderr",
     "output_type": "stream",
     "text": [
      "C:\\Users\\abhijeets\\AppData\\Local\\Continuum\\Anaconda3\\lib\\site-packages\\ipykernel_launcher.py:2: SettingWithCopyWarning: \n",
      "A value is trying to be set on a copy of a slice from a DataFrame.\n",
      "Try using .loc[row_indexer,col_indexer] = value instead\n",
      "\n",
      "See the caveats in the documentation: http://pandas.pydata.org/pandas-docs/stable/user_guide/indexing.html#returning-a-view-versus-a-copy\n",
      "  \n"
     ]
    }
   ],
   "source": [
    "#Converting reviews count into int\n",
    "data2['Reviews_count']= data['Reviews'].apply(lambda x: int(x))"
   ]
  },
  {
   "cell_type": "code",
   "execution_count": 24,
   "metadata": {
    "execution": {
     "iopub.execute_input": "2021-02-08T04:28:53.121325Z",
     "iopub.status.busy": "2021-02-08T04:28:53.120458Z",
     "iopub.status.idle": "2021-02-08T04:28:53.142417Z",
     "shell.execute_reply": "2021-02-08T04:28:53.143104Z"
    },
    "papermill": {
     "duration": 0.090244,
     "end_time": "2021-02-08T04:28:53.143323",
     "exception": false,
     "start_time": "2021-02-08T04:28:53.053079",
     "status": "completed"
    },
    "tags": []
   },
   "outputs": [
    {
     "data": {
      "text/html": [
       "<div>\n",
       "<style scoped>\n",
       "    .dataframe tbody tr th:only-of-type {\n",
       "        vertical-align: middle;\n",
       "    }\n",
       "\n",
       "    .dataframe tbody tr th {\n",
       "        vertical-align: top;\n",
       "    }\n",
       "\n",
       "    .dataframe thead th {\n",
       "        text-align: right;\n",
       "    }\n",
       "</style>\n",
       "<table border=\"1\" class=\"dataframe\">\n",
       "  <thead>\n",
       "    <tr style=\"text-align: right;\">\n",
       "      <th></th>\n",
       "      <th>App</th>\n",
       "      <th>Category</th>\n",
       "      <th>Rating</th>\n",
       "      <th>Reviews</th>\n",
       "      <th>Size</th>\n",
       "      <th>Installs</th>\n",
       "      <th>Type</th>\n",
       "      <th>Price</th>\n",
       "      <th>Content Rating</th>\n",
       "      <th>Genres</th>\n",
       "      <th>Last Updated</th>\n",
       "      <th>Current Ver</th>\n",
       "      <th>Android Ver</th>\n",
       "      <th>Installs_num</th>\n",
       "      <th>Price_USD</th>\n",
       "      <th>Reviews_count</th>\n",
       "    </tr>\n",
       "  </thead>\n",
       "  <tbody>\n",
       "    <tr>\n",
       "      <th>5086</th>\n",
       "      <td>Apps for SportsBєtting.ag - Bitcoin Welcome here!</td>\n",
       "      <td>SPORTS</td>\n",
       "      <td>4.193338</td>\n",
       "      <td>0</td>\n",
       "      <td>10.0M</td>\n",
       "      <td>1,000+</td>\n",
       "      <td>Free</td>\n",
       "      <td>0</td>\n",
       "      <td>Everyone</td>\n",
       "      <td>Sports</td>\n",
       "      <td>December 11, 2017</td>\n",
       "      <td>1.0</td>\n",
       "      <td>4.0 and up</td>\n",
       "      <td>1000.0</td>\n",
       "      <td>0.0</td>\n",
       "      <td>0</td>\n",
       "    </tr>\n",
       "    <tr>\n",
       "      <th>7728</th>\n",
       "      <td>HR Team CQ Region Ed Qld</td>\n",
       "      <td>BUSINESS</td>\n",
       "      <td>4.193338</td>\n",
       "      <td>0</td>\n",
       "      <td>4.1M</td>\n",
       "      <td>500+</td>\n",
       "      <td>Free</td>\n",
       "      <td>0</td>\n",
       "      <td>Everyone</td>\n",
       "      <td>Business</td>\n",
       "      <td>January 12, 2018</td>\n",
       "      <td>3.8</td>\n",
       "      <td>4.0.3 and up</td>\n",
       "      <td>500.0</td>\n",
       "      <td>0.0</td>\n",
       "      <td>0</td>\n",
       "    </tr>\n",
       "    <tr>\n",
       "      <th>5165</th>\n",
       "      <td>Ferguson AH</td>\n",
       "      <td>MEDICAL</td>\n",
       "      <td>4.193338</td>\n",
       "      <td>0</td>\n",
       "      <td>29M</td>\n",
       "      <td>100+</td>\n",
       "      <td>Free</td>\n",
       "      <td>0</td>\n",
       "      <td>Everyone</td>\n",
       "      <td>Medical</td>\n",
       "      <td>July 17, 2017</td>\n",
       "      <td>300000.0.86</td>\n",
       "      <td>4.0.3 and up</td>\n",
       "      <td>100.0</td>\n",
       "      <td>0.0</td>\n",
       "      <td>0</td>\n",
       "    </tr>\n",
       "    <tr>\n",
       "      <th>5162</th>\n",
       "      <td>Hilltop AH</td>\n",
       "      <td>MEDICAL</td>\n",
       "      <td>4.193338</td>\n",
       "      <td>0</td>\n",
       "      <td>29M</td>\n",
       "      <td>100+</td>\n",
       "      <td>Free</td>\n",
       "      <td>0</td>\n",
       "      <td>Everyone</td>\n",
       "      <td>Medical</td>\n",
       "      <td>January 10, 2018</td>\n",
       "      <td>300000.0.96</td>\n",
       "      <td>4.0.3 and up</td>\n",
       "      <td>100.0</td>\n",
       "      <td>0.0</td>\n",
       "      <td>0</td>\n",
       "    </tr>\n",
       "    <tr>\n",
       "      <th>5161</th>\n",
       "      <td>Bayview Hill AH</td>\n",
       "      <td>MEDICAL</td>\n",
       "      <td>4.193338</td>\n",
       "      <td>0</td>\n",
       "      <td>29M</td>\n",
       "      <td>50+</td>\n",
       "      <td>Free</td>\n",
       "      <td>0</td>\n",
       "      <td>Everyone</td>\n",
       "      <td>Medical</td>\n",
       "      <td>June 6, 2018</td>\n",
       "      <td>300000.1.08</td>\n",
       "      <td>4.0.3 and up</td>\n",
       "      <td>50.0</td>\n",
       "      <td>0.0</td>\n",
       "      <td>0</td>\n",
       "    </tr>\n",
       "  </tbody>\n",
       "</table>\n",
       "</div>"
      ],
      "text/plain": [
       "                                                    App  Category    Rating  \\\n",
       "5086  Apps for SportsBєtting.ag - Bitcoin Welcome here!    SPORTS  4.193338   \n",
       "7728                           HR Team CQ Region Ed Qld  BUSINESS  4.193338   \n",
       "5165                                        Ferguson AH   MEDICAL  4.193338   \n",
       "5162                                         Hilltop AH   MEDICAL  4.193338   \n",
       "5161                                    Bayview Hill AH   MEDICAL  4.193338   \n",
       "\n",
       "     Reviews   Size Installs  Type Price Content Rating    Genres  \\\n",
       "5086       0  10.0M   1,000+  Free     0       Everyone    Sports   \n",
       "7728       0   4.1M     500+  Free     0       Everyone  Business   \n",
       "5165       0    29M     100+  Free     0       Everyone   Medical   \n",
       "5162       0    29M     100+  Free     0       Everyone   Medical   \n",
       "5161       0    29M      50+  Free     0       Everyone   Medical   \n",
       "\n",
       "           Last Updated  Current Ver   Android Ver  Installs_num  Price_USD  \\\n",
       "5086  December 11, 2017          1.0    4.0 and up        1000.0        0.0   \n",
       "7728   January 12, 2018          3.8  4.0.3 and up         500.0        0.0   \n",
       "5165      July 17, 2017  300000.0.86  4.0.3 and up         100.0        0.0   \n",
       "5162   January 10, 2018  300000.0.96  4.0.3 and up         100.0        0.0   \n",
       "5161       June 6, 2018  300000.1.08  4.0.3 and up          50.0        0.0   \n",
       "\n",
       "      Reviews_count  \n",
       "5086              0  \n",
       "7728              0  \n",
       "5165              0  \n",
       "5162              0  \n",
       "5161              0  "
      ]
     },
     "execution_count": 24,
     "metadata": {},
     "output_type": "execute_result"
    }
   ],
   "source": [
    "data2.head()"
   ]
  },
  {
   "cell_type": "code",
   "execution_count": 25,
   "metadata": {
    "execution": {
     "iopub.execute_input": "2021-02-08T04:28:53.272676Z",
     "iopub.status.busy": "2021-02-08T04:28:53.271988Z",
     "iopub.status.idle": "2021-02-08T04:28:53.283970Z",
     "shell.execute_reply": "2021-02-08T04:28:53.283269Z"
    },
    "papermill": {
     "duration": 0.078131,
     "end_time": "2021-02-08T04:28:53.284137",
     "exception": false,
     "start_time": "2021-02-08T04:28:53.206006",
     "status": "completed"
    },
    "tags": []
   },
   "outputs": [
    {
     "data": {
      "text/plain": [
       "1226"
      ]
     },
     "execution_count": 25,
     "metadata": {},
     "output_type": "execute_result"
    }
   ],
   "source": [
    "len(data2[data2.Size == \"Varies with device\"])"
   ]
  },
  {
   "cell_type": "code",
   "execution_count": 26,
   "metadata": {
    "execution": {
     "iopub.execute_input": "2021-02-08T04:28:53.416616Z",
     "iopub.status.busy": "2021-02-08T04:28:53.415743Z",
     "iopub.status.idle": "2021-02-08T04:28:53.418496Z",
     "shell.execute_reply": "2021-02-08T04:28:53.419045Z"
    },
    "papermill": {
     "duration": 0.072725,
     "end_time": "2021-02-08T04:28:53.419258",
     "exception": false,
     "start_time": "2021-02-08T04:28:53.346533",
     "status": "completed"
    },
    "tags": []
   },
   "outputs": [
    {
     "name": "stderr",
     "output_type": "stream",
     "text": [
      "C:\\Users\\abhijeets\\AppData\\Local\\Continuum\\Anaconda3\\lib\\site-packages\\pandas\\core\\generic.py:6786: SettingWithCopyWarning: \n",
      "A value is trying to be set on a copy of a slice from a DataFrame\n",
      "\n",
      "See the caveats in the documentation: http://pandas.pydata.org/pandas-docs/stable/user_guide/indexing.html#returning-a-view-versus-a-copy\n",
      "  self._update_inplace(new_data)\n"
     ]
    }
   ],
   "source": [
    "data2['Size'].replace('Varies with device',np.nan,inplace=True)"
   ]
  },
  {
   "cell_type": "code",
   "execution_count": 27,
   "metadata": {
    "execution": {
     "iopub.execute_input": "2021-02-08T04:28:53.571452Z",
     "iopub.status.busy": "2021-02-08T04:28:53.570561Z",
     "iopub.status.idle": "2021-02-08T04:28:53.574323Z",
     "shell.execute_reply": "2021-02-08T04:28:53.574847Z"
    },
    "papermill": {
     "duration": 0.092129,
     "end_time": "2021-02-08T04:28:53.575077",
     "exception": false,
     "start_time": "2021-02-08T04:28:53.482948",
     "status": "completed"
    },
    "tags": []
   },
   "outputs": [
    {
     "data": {
      "text/html": [
       "<div>\n",
       "<style scoped>\n",
       "    .dataframe tbody tr th:only-of-type {\n",
       "        vertical-align: middle;\n",
       "    }\n",
       "\n",
       "    .dataframe tbody tr th {\n",
       "        vertical-align: top;\n",
       "    }\n",
       "\n",
       "    .dataframe thead th {\n",
       "        text-align: right;\n",
       "    }\n",
       "</style>\n",
       "<table border=\"1\" class=\"dataframe\">\n",
       "  <thead>\n",
       "    <tr style=\"text-align: right;\">\n",
       "      <th></th>\n",
       "      <th>App</th>\n",
       "      <th>Category</th>\n",
       "      <th>Rating</th>\n",
       "      <th>Reviews</th>\n",
       "      <th>Size</th>\n",
       "      <th>Installs</th>\n",
       "      <th>Type</th>\n",
       "      <th>Price</th>\n",
       "      <th>Content Rating</th>\n",
       "      <th>Genres</th>\n",
       "      <th>Last Updated</th>\n",
       "      <th>Current Ver</th>\n",
       "      <th>Android Ver</th>\n",
       "      <th>Installs_num</th>\n",
       "      <th>Price_USD</th>\n",
       "      <th>Reviews_count</th>\n",
       "    </tr>\n",
       "  </thead>\n",
       "  <tbody>\n",
       "    <tr>\n",
       "      <th>5086</th>\n",
       "      <td>Apps for SportsBєtting.ag - Bitcoin Welcome here!</td>\n",
       "      <td>SPORTS</td>\n",
       "      <td>4.193338</td>\n",
       "      <td>0</td>\n",
       "      <td>10.0M</td>\n",
       "      <td>1,000+</td>\n",
       "      <td>Free</td>\n",
       "      <td>0</td>\n",
       "      <td>Everyone</td>\n",
       "      <td>Sports</td>\n",
       "      <td>December 11, 2017</td>\n",
       "      <td>1.0</td>\n",
       "      <td>4.0 and up</td>\n",
       "      <td>1000.0</td>\n",
       "      <td>0.0</td>\n",
       "      <td>0</td>\n",
       "    </tr>\n",
       "    <tr>\n",
       "      <th>7728</th>\n",
       "      <td>HR Team CQ Region Ed Qld</td>\n",
       "      <td>BUSINESS</td>\n",
       "      <td>4.193338</td>\n",
       "      <td>0</td>\n",
       "      <td>4.1M</td>\n",
       "      <td>500+</td>\n",
       "      <td>Free</td>\n",
       "      <td>0</td>\n",
       "      <td>Everyone</td>\n",
       "      <td>Business</td>\n",
       "      <td>January 12, 2018</td>\n",
       "      <td>3.8</td>\n",
       "      <td>4.0.3 and up</td>\n",
       "      <td>500.0</td>\n",
       "      <td>0.0</td>\n",
       "      <td>0</td>\n",
       "    </tr>\n",
       "    <tr>\n",
       "      <th>5165</th>\n",
       "      <td>Ferguson AH</td>\n",
       "      <td>MEDICAL</td>\n",
       "      <td>4.193338</td>\n",
       "      <td>0</td>\n",
       "      <td>29M</td>\n",
       "      <td>100+</td>\n",
       "      <td>Free</td>\n",
       "      <td>0</td>\n",
       "      <td>Everyone</td>\n",
       "      <td>Medical</td>\n",
       "      <td>July 17, 2017</td>\n",
       "      <td>300000.0.86</td>\n",
       "      <td>4.0.3 and up</td>\n",
       "      <td>100.0</td>\n",
       "      <td>0.0</td>\n",
       "      <td>0</td>\n",
       "    </tr>\n",
       "    <tr>\n",
       "      <th>5162</th>\n",
       "      <td>Hilltop AH</td>\n",
       "      <td>MEDICAL</td>\n",
       "      <td>4.193338</td>\n",
       "      <td>0</td>\n",
       "      <td>29M</td>\n",
       "      <td>100+</td>\n",
       "      <td>Free</td>\n",
       "      <td>0</td>\n",
       "      <td>Everyone</td>\n",
       "      <td>Medical</td>\n",
       "      <td>January 10, 2018</td>\n",
       "      <td>300000.0.96</td>\n",
       "      <td>4.0.3 and up</td>\n",
       "      <td>100.0</td>\n",
       "      <td>0.0</td>\n",
       "      <td>0</td>\n",
       "    </tr>\n",
       "    <tr>\n",
       "      <th>5161</th>\n",
       "      <td>Bayview Hill AH</td>\n",
       "      <td>MEDICAL</td>\n",
       "      <td>4.193338</td>\n",
       "      <td>0</td>\n",
       "      <td>29M</td>\n",
       "      <td>50+</td>\n",
       "      <td>Free</td>\n",
       "      <td>0</td>\n",
       "      <td>Everyone</td>\n",
       "      <td>Medical</td>\n",
       "      <td>June 6, 2018</td>\n",
       "      <td>300000.1.08</td>\n",
       "      <td>4.0.3 and up</td>\n",
       "      <td>50.0</td>\n",
       "      <td>0.0</td>\n",
       "      <td>0</td>\n",
       "    </tr>\n",
       "  </tbody>\n",
       "</table>\n",
       "</div>"
      ],
      "text/plain": [
       "                                                    App  Category    Rating  \\\n",
       "5086  Apps for SportsBєtting.ag - Bitcoin Welcome here!    SPORTS  4.193338   \n",
       "7728                           HR Team CQ Region Ed Qld  BUSINESS  4.193338   \n",
       "5165                                        Ferguson AH   MEDICAL  4.193338   \n",
       "5162                                         Hilltop AH   MEDICAL  4.193338   \n",
       "5161                                    Bayview Hill AH   MEDICAL  4.193338   \n",
       "\n",
       "     Reviews   Size Installs  Type Price Content Rating    Genres  \\\n",
       "5086       0  10.0M   1,000+  Free     0       Everyone    Sports   \n",
       "7728       0   4.1M     500+  Free     0       Everyone  Business   \n",
       "5165       0    29M     100+  Free     0       Everyone   Medical   \n",
       "5162       0    29M     100+  Free     0       Everyone   Medical   \n",
       "5161       0    29M      50+  Free     0       Everyone   Medical   \n",
       "\n",
       "           Last Updated  Current Ver   Android Ver  Installs_num  Price_USD  \\\n",
       "5086  December 11, 2017          1.0    4.0 and up        1000.0        0.0   \n",
       "7728   January 12, 2018          3.8  4.0.3 and up         500.0        0.0   \n",
       "5165      July 17, 2017  300000.0.86  4.0.3 and up         100.0        0.0   \n",
       "5162   January 10, 2018  300000.0.96  4.0.3 and up         100.0        0.0   \n",
       "5161       June 6, 2018  300000.1.08  4.0.3 and up          50.0        0.0   \n",
       "\n",
       "      Reviews_count  \n",
       "5086              0  \n",
       "7728              0  \n",
       "5165              0  \n",
       "5162              0  \n",
       "5161              0  "
      ]
     },
     "execution_count": 27,
     "metadata": {},
     "output_type": "execute_result"
    }
   ],
   "source": [
    "data2.head()"
   ]
  },
  {
   "cell_type": "code",
   "execution_count": 28,
   "metadata": {
    "execution": {
     "iopub.execute_input": "2021-02-08T04:28:53.705861Z",
     "iopub.status.busy": "2021-02-08T04:28:53.705193Z",
     "iopub.status.idle": "2021-02-08T04:28:53.763099Z",
     "shell.execute_reply": "2021-02-08T04:28:53.762362Z"
    },
    "papermill": {
     "duration": 0.124336,
     "end_time": "2021-02-08T04:28:53.763280",
     "exception": false,
     "start_time": "2021-02-08T04:28:53.638944",
     "status": "completed"
    },
    "tags": []
   },
   "outputs": [
    {
     "name": "stderr",
     "output_type": "stream",
     "text": [
      "C:\\Users\\abhijeets\\AppData\\Local\\Continuum\\Anaconda3\\lib\\site-packages\\ipykernel_launcher.py:1: SettingWithCopyWarning: \n",
      "A value is trying to be set on a copy of a slice from a DataFrame.\n",
      "Try using .loc[row_indexer,col_indexer] = value instead\n",
      "\n",
      "See the caveats in the documentation: http://pandas.pydata.org/pandas-docs/stable/user_guide/indexing.html#returning-a-view-versus-a-copy\n",
      "  \"\"\"Entry point for launching an IPython kernel.\n"
     ]
    }
   ],
   "source": [
    "data2[\"Size\"] = (data2[\"Size\"].replace(r'[kM]+$', '', regex=True).astype(float) * data2[\"Size\"].str.extract(r'[\\d\\.]+([kM]+)', expand=False).fillna(1).replace([\"k\",\"M\"], [10**3, 10**6]).astype(int))"
   ]
  },
  {
   "cell_type": "code",
   "execution_count": 29,
   "metadata": {
    "execution": {
     "iopub.execute_input": "2021-02-08T04:28:53.916056Z",
     "iopub.status.busy": "2021-02-08T04:28:53.914907Z",
     "iopub.status.idle": "2021-02-08T04:28:53.919996Z",
     "shell.execute_reply": "2021-02-08T04:28:53.919352Z"
    },
    "papermill": {
     "duration": 0.092752,
     "end_time": "2021-02-08T04:28:53.920153",
     "exception": false,
     "start_time": "2021-02-08T04:28:53.827401",
     "status": "completed"
    },
    "tags": []
   },
   "outputs": [
    {
     "data": {
      "text/html": [
       "<div>\n",
       "<style scoped>\n",
       "    .dataframe tbody tr th:only-of-type {\n",
       "        vertical-align: middle;\n",
       "    }\n",
       "\n",
       "    .dataframe tbody tr th {\n",
       "        vertical-align: top;\n",
       "    }\n",
       "\n",
       "    .dataframe thead th {\n",
       "        text-align: right;\n",
       "    }\n",
       "</style>\n",
       "<table border=\"1\" class=\"dataframe\">\n",
       "  <thead>\n",
       "    <tr style=\"text-align: right;\">\n",
       "      <th></th>\n",
       "      <th>App</th>\n",
       "      <th>Category</th>\n",
       "      <th>Rating</th>\n",
       "      <th>Reviews</th>\n",
       "      <th>Size</th>\n",
       "      <th>Installs</th>\n",
       "      <th>Type</th>\n",
       "      <th>Price</th>\n",
       "      <th>Content Rating</th>\n",
       "      <th>Genres</th>\n",
       "      <th>Last Updated</th>\n",
       "      <th>Current Ver</th>\n",
       "      <th>Android Ver</th>\n",
       "      <th>Installs_num</th>\n",
       "      <th>Price_USD</th>\n",
       "      <th>Reviews_count</th>\n",
       "    </tr>\n",
       "  </thead>\n",
       "  <tbody>\n",
       "    <tr>\n",
       "      <th>5086</th>\n",
       "      <td>Apps for SportsBєtting.ag - Bitcoin Welcome here!</td>\n",
       "      <td>SPORTS</td>\n",
       "      <td>4.193338</td>\n",
       "      <td>0</td>\n",
       "      <td>10000000.0</td>\n",
       "      <td>1,000+</td>\n",
       "      <td>Free</td>\n",
       "      <td>0</td>\n",
       "      <td>Everyone</td>\n",
       "      <td>Sports</td>\n",
       "      <td>December 11, 2017</td>\n",
       "      <td>1.0</td>\n",
       "      <td>4.0 and up</td>\n",
       "      <td>1000.0</td>\n",
       "      <td>0.0</td>\n",
       "      <td>0</td>\n",
       "    </tr>\n",
       "    <tr>\n",
       "      <th>7728</th>\n",
       "      <td>HR Team CQ Region Ed Qld</td>\n",
       "      <td>BUSINESS</td>\n",
       "      <td>4.193338</td>\n",
       "      <td>0</td>\n",
       "      <td>4100000.0</td>\n",
       "      <td>500+</td>\n",
       "      <td>Free</td>\n",
       "      <td>0</td>\n",
       "      <td>Everyone</td>\n",
       "      <td>Business</td>\n",
       "      <td>January 12, 2018</td>\n",
       "      <td>3.8</td>\n",
       "      <td>4.0.3 and up</td>\n",
       "      <td>500.0</td>\n",
       "      <td>0.0</td>\n",
       "      <td>0</td>\n",
       "    </tr>\n",
       "    <tr>\n",
       "      <th>5165</th>\n",
       "      <td>Ferguson AH</td>\n",
       "      <td>MEDICAL</td>\n",
       "      <td>4.193338</td>\n",
       "      <td>0</td>\n",
       "      <td>29000000.0</td>\n",
       "      <td>100+</td>\n",
       "      <td>Free</td>\n",
       "      <td>0</td>\n",
       "      <td>Everyone</td>\n",
       "      <td>Medical</td>\n",
       "      <td>July 17, 2017</td>\n",
       "      <td>300000.0.86</td>\n",
       "      <td>4.0.3 and up</td>\n",
       "      <td>100.0</td>\n",
       "      <td>0.0</td>\n",
       "      <td>0</td>\n",
       "    </tr>\n",
       "    <tr>\n",
       "      <th>5162</th>\n",
       "      <td>Hilltop AH</td>\n",
       "      <td>MEDICAL</td>\n",
       "      <td>4.193338</td>\n",
       "      <td>0</td>\n",
       "      <td>29000000.0</td>\n",
       "      <td>100+</td>\n",
       "      <td>Free</td>\n",
       "      <td>0</td>\n",
       "      <td>Everyone</td>\n",
       "      <td>Medical</td>\n",
       "      <td>January 10, 2018</td>\n",
       "      <td>300000.0.96</td>\n",
       "      <td>4.0.3 and up</td>\n",
       "      <td>100.0</td>\n",
       "      <td>0.0</td>\n",
       "      <td>0</td>\n",
       "    </tr>\n",
       "    <tr>\n",
       "      <th>5161</th>\n",
       "      <td>Bayview Hill AH</td>\n",
       "      <td>MEDICAL</td>\n",
       "      <td>4.193338</td>\n",
       "      <td>0</td>\n",
       "      <td>29000000.0</td>\n",
       "      <td>50+</td>\n",
       "      <td>Free</td>\n",
       "      <td>0</td>\n",
       "      <td>Everyone</td>\n",
       "      <td>Medical</td>\n",
       "      <td>June 6, 2018</td>\n",
       "      <td>300000.1.08</td>\n",
       "      <td>4.0.3 and up</td>\n",
       "      <td>50.0</td>\n",
       "      <td>0.0</td>\n",
       "      <td>0</td>\n",
       "    </tr>\n",
       "  </tbody>\n",
       "</table>\n",
       "</div>"
      ],
      "text/plain": [
       "                                                    App  Category    Rating  \\\n",
       "5086  Apps for SportsBєtting.ag - Bitcoin Welcome here!    SPORTS  4.193338   \n",
       "7728                           HR Team CQ Region Ed Qld  BUSINESS  4.193338   \n",
       "5165                                        Ferguson AH   MEDICAL  4.193338   \n",
       "5162                                         Hilltop AH   MEDICAL  4.193338   \n",
       "5161                                    Bayview Hill AH   MEDICAL  4.193338   \n",
       "\n",
       "     Reviews        Size Installs  Type Price Content Rating    Genres  \\\n",
       "5086       0  10000000.0   1,000+  Free     0       Everyone    Sports   \n",
       "7728       0   4100000.0     500+  Free     0       Everyone  Business   \n",
       "5165       0  29000000.0     100+  Free     0       Everyone   Medical   \n",
       "5162       0  29000000.0     100+  Free     0       Everyone   Medical   \n",
       "5161       0  29000000.0      50+  Free     0       Everyone   Medical   \n",
       "\n",
       "           Last Updated  Current Ver   Android Ver  Installs_num  Price_USD  \\\n",
       "5086  December 11, 2017          1.0    4.0 and up        1000.0        0.0   \n",
       "7728   January 12, 2018          3.8  4.0.3 and up         500.0        0.0   \n",
       "5165      July 17, 2017  300000.0.86  4.0.3 and up         100.0        0.0   \n",
       "5162   January 10, 2018  300000.0.96  4.0.3 and up         100.0        0.0   \n",
       "5161       June 6, 2018  300000.1.08  4.0.3 and up          50.0        0.0   \n",
       "\n",
       "      Reviews_count  \n",
       "5086              0  \n",
       "7728              0  \n",
       "5165              0  \n",
       "5162              0  \n",
       "5161              0  "
      ]
     },
     "execution_count": 29,
     "metadata": {},
     "output_type": "execute_result"
    }
   ],
   "source": [
    "data2.head()"
   ]
  },
  {
   "cell_type": "code",
   "execution_count": 30,
   "metadata": {
    "execution": {
     "iopub.execute_input": "2021-02-08T04:28:54.060485Z",
     "iopub.status.busy": "2021-02-08T04:28:54.059447Z",
     "iopub.status.idle": "2021-02-08T04:28:54.062610Z",
     "shell.execute_reply": "2021-02-08T04:28:54.061940Z"
    },
    "papermill": {
     "duration": 0.076693,
     "end_time": "2021-02-08T04:28:54.062796",
     "exception": false,
     "start_time": "2021-02-08T04:28:53.986103",
     "status": "completed"
    },
    "tags": []
   },
   "outputs": [],
   "source": [
    "data2[\"Android Ver\"].replace('Varies with device',np.nan,inplace=True)"
   ]
  },
  {
   "cell_type": "code",
   "execution_count": 34,
   "metadata": {
    "execution": {
     "iopub.execute_input": "2021-02-08T04:28:54.199547Z",
     "iopub.status.busy": "2021-02-08T04:28:54.198721Z",
     "iopub.status.idle": "2021-02-08T04:28:54.233523Z",
     "shell.execute_reply": "2021-02-08T04:28:54.234145Z"
    },
    "papermill": {
     "duration": 0.10685,
     "end_time": "2021-02-08T04:28:54.234411",
     "exception": false,
     "start_time": "2021-02-08T04:28:54.127561",
     "status": "completed"
    },
    "tags": []
   },
   "outputs": [],
   "source": [
    "#finding out the minimum android version supported for the apps\n",
    "data2['min_android_version'] = data2[\"Android Ver\"].apply(lambda x: re.sub(\"[a-zA-Z]\",\"\", str(x)))"
   ]
  },
  {
   "cell_type": "code",
   "execution_count": 35,
   "metadata": {
    "execution": {
     "iopub.execute_input": "2021-02-08T04:28:54.370387Z",
     "iopub.status.busy": "2021-02-08T04:28:54.369642Z",
     "iopub.status.idle": "2021-02-08T04:28:54.395596Z",
     "shell.execute_reply": "2021-02-08T04:28:54.394994Z"
    },
    "papermill": {
     "duration": 0.095294,
     "end_time": "2021-02-08T04:28:54.395780",
     "exception": false,
     "start_time": "2021-02-08T04:28:54.300486",
     "status": "completed"
    },
    "tags": []
   },
   "outputs": [
    {
     "data": {
      "text/html": [
       "<div>\n",
       "<style scoped>\n",
       "    .dataframe tbody tr th:only-of-type {\n",
       "        vertical-align: middle;\n",
       "    }\n",
       "\n",
       "    .dataframe tbody tr th {\n",
       "        vertical-align: top;\n",
       "    }\n",
       "\n",
       "    .dataframe thead th {\n",
       "        text-align: right;\n",
       "    }\n",
       "</style>\n",
       "<table border=\"1\" class=\"dataframe\">\n",
       "  <thead>\n",
       "    <tr style=\"text-align: right;\">\n",
       "      <th></th>\n",
       "      <th>App</th>\n",
       "      <th>Category</th>\n",
       "      <th>Rating</th>\n",
       "      <th>Reviews</th>\n",
       "      <th>Size</th>\n",
       "      <th>Installs</th>\n",
       "      <th>Type</th>\n",
       "      <th>Price</th>\n",
       "      <th>Content Rating</th>\n",
       "      <th>Genres</th>\n",
       "      <th>Last Updated</th>\n",
       "      <th>Current Ver</th>\n",
       "      <th>Android Ver</th>\n",
       "      <th>Installs_num</th>\n",
       "      <th>Price_USD</th>\n",
       "      <th>Reviews_count</th>\n",
       "      <th>min_android_version</th>\n",
       "    </tr>\n",
       "  </thead>\n",
       "  <tbody>\n",
       "    <tr>\n",
       "      <th>5086</th>\n",
       "      <td>Apps for SportsBєtting.ag - Bitcoin Welcome here!</td>\n",
       "      <td>SPORTS</td>\n",
       "      <td>4.193338</td>\n",
       "      <td>0</td>\n",
       "      <td>10000000.0</td>\n",
       "      <td>1,000+</td>\n",
       "      <td>Free</td>\n",
       "      <td>0</td>\n",
       "      <td>Everyone</td>\n",
       "      <td>Sports</td>\n",
       "      <td>December 11, 2017</td>\n",
       "      <td>1.0</td>\n",
       "      <td>4.0 and up</td>\n",
       "      <td>1000.0</td>\n",
       "      <td>0.0</td>\n",
       "      <td>0</td>\n",
       "      <td>4.0</td>\n",
       "    </tr>\n",
       "    <tr>\n",
       "      <th>7728</th>\n",
       "      <td>HR Team CQ Region Ed Qld</td>\n",
       "      <td>BUSINESS</td>\n",
       "      <td>4.193338</td>\n",
       "      <td>0</td>\n",
       "      <td>4100000.0</td>\n",
       "      <td>500+</td>\n",
       "      <td>Free</td>\n",
       "      <td>0</td>\n",
       "      <td>Everyone</td>\n",
       "      <td>Business</td>\n",
       "      <td>January 12, 2018</td>\n",
       "      <td>3.8</td>\n",
       "      <td>4.0.3 and up</td>\n",
       "      <td>500.0</td>\n",
       "      <td>0.0</td>\n",
       "      <td>0</td>\n",
       "      <td>4.0.3</td>\n",
       "    </tr>\n",
       "    <tr>\n",
       "      <th>5165</th>\n",
       "      <td>Ferguson AH</td>\n",
       "      <td>MEDICAL</td>\n",
       "      <td>4.193338</td>\n",
       "      <td>0</td>\n",
       "      <td>29000000.0</td>\n",
       "      <td>100+</td>\n",
       "      <td>Free</td>\n",
       "      <td>0</td>\n",
       "      <td>Everyone</td>\n",
       "      <td>Medical</td>\n",
       "      <td>July 17, 2017</td>\n",
       "      <td>300000.0.86</td>\n",
       "      <td>4.0.3 and up</td>\n",
       "      <td>100.0</td>\n",
       "      <td>0.0</td>\n",
       "      <td>0</td>\n",
       "      <td>4.0.3</td>\n",
       "    </tr>\n",
       "    <tr>\n",
       "      <th>5162</th>\n",
       "      <td>Hilltop AH</td>\n",
       "      <td>MEDICAL</td>\n",
       "      <td>4.193338</td>\n",
       "      <td>0</td>\n",
       "      <td>29000000.0</td>\n",
       "      <td>100+</td>\n",
       "      <td>Free</td>\n",
       "      <td>0</td>\n",
       "      <td>Everyone</td>\n",
       "      <td>Medical</td>\n",
       "      <td>January 10, 2018</td>\n",
       "      <td>300000.0.96</td>\n",
       "      <td>4.0.3 and up</td>\n",
       "      <td>100.0</td>\n",
       "      <td>0.0</td>\n",
       "      <td>0</td>\n",
       "      <td>4.0.3</td>\n",
       "    </tr>\n",
       "    <tr>\n",
       "      <th>5161</th>\n",
       "      <td>Bayview Hill AH</td>\n",
       "      <td>MEDICAL</td>\n",
       "      <td>4.193338</td>\n",
       "      <td>0</td>\n",
       "      <td>29000000.0</td>\n",
       "      <td>50+</td>\n",
       "      <td>Free</td>\n",
       "      <td>0</td>\n",
       "      <td>Everyone</td>\n",
       "      <td>Medical</td>\n",
       "      <td>June 6, 2018</td>\n",
       "      <td>300000.1.08</td>\n",
       "      <td>4.0.3 and up</td>\n",
       "      <td>50.0</td>\n",
       "      <td>0.0</td>\n",
       "      <td>0</td>\n",
       "      <td>4.0.3</td>\n",
       "    </tr>\n",
       "  </tbody>\n",
       "</table>\n",
       "</div>"
      ],
      "text/plain": [
       "                                                    App  Category    Rating  \\\n",
       "5086  Apps for SportsBєtting.ag - Bitcoin Welcome here!    SPORTS  4.193338   \n",
       "7728                           HR Team CQ Region Ed Qld  BUSINESS  4.193338   \n",
       "5165                                        Ferguson AH   MEDICAL  4.193338   \n",
       "5162                                         Hilltop AH   MEDICAL  4.193338   \n",
       "5161                                    Bayview Hill AH   MEDICAL  4.193338   \n",
       "\n",
       "     Reviews        Size Installs  Type Price Content Rating    Genres  \\\n",
       "5086       0  10000000.0   1,000+  Free     0       Everyone    Sports   \n",
       "7728       0   4100000.0     500+  Free     0       Everyone  Business   \n",
       "5165       0  29000000.0     100+  Free     0       Everyone   Medical   \n",
       "5162       0  29000000.0     100+  Free     0       Everyone   Medical   \n",
       "5161       0  29000000.0      50+  Free     0       Everyone   Medical   \n",
       "\n",
       "           Last Updated  Current Ver   Android Ver  Installs_num  Price_USD  \\\n",
       "5086  December 11, 2017          1.0    4.0 and up        1000.0        0.0   \n",
       "7728   January 12, 2018          3.8  4.0.3 and up         500.0        0.0   \n",
       "5165      July 17, 2017  300000.0.86  4.0.3 and up         100.0        0.0   \n",
       "5162   January 10, 2018  300000.0.96  4.0.3 and up         100.0        0.0   \n",
       "5161       June 6, 2018  300000.1.08  4.0.3 and up          50.0        0.0   \n",
       "\n",
       "      Reviews_count min_android_version  \n",
       "5086              0               4.0    \n",
       "7728              0             4.0.3    \n",
       "5165              0             4.0.3    \n",
       "5162              0             4.0.3    \n",
       "5161              0             4.0.3    "
      ]
     },
     "execution_count": 35,
     "metadata": {},
     "output_type": "execute_result"
    }
   ],
   "source": [
    "data2.head()"
   ]
  },
  {
   "cell_type": "code",
   "execution_count": 36,
   "metadata": {
    "execution": {
     "iopub.execute_input": "2021-02-08T04:28:54.534888Z",
     "iopub.status.busy": "2021-02-08T04:28:54.534174Z",
     "iopub.status.idle": "2021-02-08T04:28:54.543212Z",
     "shell.execute_reply": "2021-02-08T04:28:54.543682Z"
    },
    "papermill": {
     "duration": 0.081765,
     "end_time": "2021-02-08T04:28:54.543916",
     "exception": false,
     "start_time": "2021-02-08T04:28:54.462151",
     "status": "completed"
    },
    "tags": []
   },
   "outputs": [
    {
     "data": {
      "text/plain": [
       "count    9648.000000\n",
       "mean        4.176211\n",
       "std         0.494433\n",
       "min         1.000000\n",
       "25%         4.000000\n",
       "50%         4.200000\n",
       "75%         4.500000\n",
       "max         5.000000\n",
       "Name: Rating, dtype: float64"
      ]
     },
     "execution_count": 36,
     "metadata": {},
     "output_type": "execute_result"
    }
   ],
   "source": [
    "data2['Rating'].describe()"
   ]
  },
  {
   "cell_type": "code",
   "execution_count": 37,
   "metadata": {
    "execution": {
     "iopub.execute_input": "2021-02-08T04:28:54.698097Z",
     "iopub.status.busy": "2021-02-08T04:28:54.695643Z",
     "iopub.status.idle": "2021-02-08T04:28:54.707740Z",
     "shell.execute_reply": "2021-02-08T04:28:54.707104Z"
    },
    "papermill": {
     "duration": 0.097251,
     "end_time": "2021-02-08T04:28:54.707925",
     "exception": false,
     "start_time": "2021-02-08T04:28:54.610674",
     "status": "completed"
    },
    "tags": []
   },
   "outputs": [
    {
     "data": {
      "text/plain": [
       "Size                   1226\n",
       "Android Ver             989\n",
       "min_android_version       0\n",
       "Price                     0\n",
       "Category                  0\n",
       "Rating                    0\n",
       "Reviews                   0\n",
       "Installs                  0\n",
       "Type                      0\n",
       "Content Rating            0\n",
       "Reviews_count             0\n",
       "Genres                    0\n",
       "Last Updated              0\n",
       "Current Ver               0\n",
       "Installs_num              0\n",
       "Price_USD                 0\n",
       "App                       0\n",
       "dtype: int64"
      ]
     },
     "execution_count": 37,
     "metadata": {},
     "output_type": "execute_result"
    }
   ],
   "source": [
    "data2.isna().sum().sort_values(ascending = False)"
   ]
  },
  {
   "cell_type": "code",
   "execution_count": 38,
   "metadata": {
    "execution": {
     "iopub.execute_input": "2021-02-08T04:28:54.848618Z",
     "iopub.status.busy": "2021-02-08T04:28:54.847777Z",
     "iopub.status.idle": "2021-02-08T04:28:54.851201Z",
     "shell.execute_reply": "2021-02-08T04:28:54.850492Z"
    },
    "papermill": {
     "duration": 0.077404,
     "end_time": "2021-02-08T04:28:54.851365",
     "exception": false,
     "start_time": "2021-02-08T04:28:54.773961",
     "status": "completed"
    },
    "tags": []
   },
   "outputs": [],
   "source": [
    "data2['Size'].fillna((data2['Size'].mean()), inplace=True)"
   ]
  },
  {
   "cell_type": "code",
   "execution_count": 39,
   "metadata": {
    "execution": {
     "iopub.execute_input": "2021-02-08T04:28:54.992621Z",
     "iopub.status.busy": "2021-02-08T04:28:54.991543Z",
     "iopub.status.idle": "2021-02-08T04:28:55.001138Z",
     "shell.execute_reply": "2021-02-08T04:28:55.001711Z"
    },
    "papermill": {
     "duration": 0.08314,
     "end_time": "2021-02-08T04:28:55.001935",
     "exception": false,
     "start_time": "2021-02-08T04:28:54.918795",
     "status": "completed"
    },
    "tags": []
   },
   "outputs": [],
   "source": [
    "#Our final data frame with all the extra values removed\n",
    "data3 = data2.drop(['Reviews','Installs','Price','Android Ver'],axis='columns')"
   ]
  },
  {
   "cell_type": "code",
   "execution_count": 40,
   "metadata": {
    "execution": {
     "iopub.execute_input": "2021-02-08T04:28:55.136672Z",
     "iopub.status.busy": "2021-02-08T04:28:55.135723Z",
     "iopub.status.idle": "2021-02-08T04:28:55.159936Z",
     "shell.execute_reply": "2021-02-08T04:28:55.159349Z"
    },
    "papermill": {
     "duration": 0.093295,
     "end_time": "2021-02-08T04:28:55.160092",
     "exception": false,
     "start_time": "2021-02-08T04:28:55.066797",
     "status": "completed"
    },
    "tags": []
   },
   "outputs": [
    {
     "data": {
      "text/html": [
       "<div>\n",
       "<style scoped>\n",
       "    .dataframe tbody tr th:only-of-type {\n",
       "        vertical-align: middle;\n",
       "    }\n",
       "\n",
       "    .dataframe tbody tr th {\n",
       "        vertical-align: top;\n",
       "    }\n",
       "\n",
       "    .dataframe thead th {\n",
       "        text-align: right;\n",
       "    }\n",
       "</style>\n",
       "<table border=\"1\" class=\"dataframe\">\n",
       "  <thead>\n",
       "    <tr style=\"text-align: right;\">\n",
       "      <th></th>\n",
       "      <th>App</th>\n",
       "      <th>Category</th>\n",
       "      <th>Rating</th>\n",
       "      <th>Size</th>\n",
       "      <th>Type</th>\n",
       "      <th>Content Rating</th>\n",
       "      <th>Genres</th>\n",
       "      <th>Last Updated</th>\n",
       "      <th>Current Ver</th>\n",
       "      <th>Installs_num</th>\n",
       "      <th>Price_USD</th>\n",
       "      <th>Reviews_count</th>\n",
       "      <th>min_android_version</th>\n",
       "    </tr>\n",
       "  </thead>\n",
       "  <tbody>\n",
       "    <tr>\n",
       "      <th>5086</th>\n",
       "      <td>Apps for SportsBєtting.ag - Bitcoin Welcome here!</td>\n",
       "      <td>SPORTS</td>\n",
       "      <td>4.193338</td>\n",
       "      <td>10000000.0</td>\n",
       "      <td>Free</td>\n",
       "      <td>Everyone</td>\n",
       "      <td>Sports</td>\n",
       "      <td>December 11, 2017</td>\n",
       "      <td>1.0</td>\n",
       "      <td>1000.0</td>\n",
       "      <td>0.0</td>\n",
       "      <td>0</td>\n",
       "      <td>4.0</td>\n",
       "    </tr>\n",
       "    <tr>\n",
       "      <th>7728</th>\n",
       "      <td>HR Team CQ Region Ed Qld</td>\n",
       "      <td>BUSINESS</td>\n",
       "      <td>4.193338</td>\n",
       "      <td>4100000.0</td>\n",
       "      <td>Free</td>\n",
       "      <td>Everyone</td>\n",
       "      <td>Business</td>\n",
       "      <td>January 12, 2018</td>\n",
       "      <td>3.8</td>\n",
       "      <td>500.0</td>\n",
       "      <td>0.0</td>\n",
       "      <td>0</td>\n",
       "      <td>4.0.3</td>\n",
       "    </tr>\n",
       "    <tr>\n",
       "      <th>5165</th>\n",
       "      <td>Ferguson AH</td>\n",
       "      <td>MEDICAL</td>\n",
       "      <td>4.193338</td>\n",
       "      <td>29000000.0</td>\n",
       "      <td>Free</td>\n",
       "      <td>Everyone</td>\n",
       "      <td>Medical</td>\n",
       "      <td>July 17, 2017</td>\n",
       "      <td>300000.0.86</td>\n",
       "      <td>100.0</td>\n",
       "      <td>0.0</td>\n",
       "      <td>0</td>\n",
       "      <td>4.0.3</td>\n",
       "    </tr>\n",
       "    <tr>\n",
       "      <th>5162</th>\n",
       "      <td>Hilltop AH</td>\n",
       "      <td>MEDICAL</td>\n",
       "      <td>4.193338</td>\n",
       "      <td>29000000.0</td>\n",
       "      <td>Free</td>\n",
       "      <td>Everyone</td>\n",
       "      <td>Medical</td>\n",
       "      <td>January 10, 2018</td>\n",
       "      <td>300000.0.96</td>\n",
       "      <td>100.0</td>\n",
       "      <td>0.0</td>\n",
       "      <td>0</td>\n",
       "      <td>4.0.3</td>\n",
       "    </tr>\n",
       "    <tr>\n",
       "      <th>5161</th>\n",
       "      <td>Bayview Hill AH</td>\n",
       "      <td>MEDICAL</td>\n",
       "      <td>4.193338</td>\n",
       "      <td>29000000.0</td>\n",
       "      <td>Free</td>\n",
       "      <td>Everyone</td>\n",
       "      <td>Medical</td>\n",
       "      <td>June 6, 2018</td>\n",
       "      <td>300000.1.08</td>\n",
       "      <td>50.0</td>\n",
       "      <td>0.0</td>\n",
       "      <td>0</td>\n",
       "      <td>4.0.3</td>\n",
       "    </tr>\n",
       "  </tbody>\n",
       "</table>\n",
       "</div>"
      ],
      "text/plain": [
       "                                                    App  Category    Rating  \\\n",
       "5086  Apps for SportsBєtting.ag - Bitcoin Welcome here!    SPORTS  4.193338   \n",
       "7728                           HR Team CQ Region Ed Qld  BUSINESS  4.193338   \n",
       "5165                                        Ferguson AH   MEDICAL  4.193338   \n",
       "5162                                         Hilltop AH   MEDICAL  4.193338   \n",
       "5161                                    Bayview Hill AH   MEDICAL  4.193338   \n",
       "\n",
       "            Size  Type Content Rating    Genres       Last Updated  \\\n",
       "5086  10000000.0  Free       Everyone    Sports  December 11, 2017   \n",
       "7728   4100000.0  Free       Everyone  Business   January 12, 2018   \n",
       "5165  29000000.0  Free       Everyone   Medical      July 17, 2017   \n",
       "5162  29000000.0  Free       Everyone   Medical   January 10, 2018   \n",
       "5161  29000000.0  Free       Everyone   Medical       June 6, 2018   \n",
       "\n",
       "      Current Ver  Installs_num  Price_USD  Reviews_count min_android_version  \n",
       "5086          1.0        1000.0        0.0              0               4.0    \n",
       "7728          3.8         500.0        0.0              0             4.0.3    \n",
       "5165  300000.0.86         100.0        0.0              0             4.0.3    \n",
       "5162  300000.0.96         100.0        0.0              0             4.0.3    \n",
       "5161  300000.1.08          50.0        0.0              0             4.0.3    "
      ]
     },
     "execution_count": 40,
     "metadata": {},
     "output_type": "execute_result"
    }
   ],
   "source": [
    "data3.head()"
   ]
  },
  {
   "cell_type": "markdown",
   "metadata": {
    "papermill": {
     "duration": 0.067672,
     "end_time": "2021-02-08T04:28:55.295422",
     "exception": false,
     "start_time": "2021-02-08T04:28:55.227750",
     "status": "completed"
    },
    "tags": []
   },
   "source": [
    "# 4. Data analysis"
   ]
  },
  {
   "cell_type": "code",
   "execution_count": 41,
   "metadata": {
    "execution": {
     "iopub.execute_input": "2021-02-08T04:28:55.435579Z",
     "iopub.status.busy": "2021-02-08T04:28:55.434683Z",
     "iopub.status.idle": "2021-02-08T04:28:55.930420Z",
     "shell.execute_reply": "2021-02-08T04:28:55.930916Z"
    },
    "papermill": {
     "duration": 0.567614,
     "end_time": "2021-02-08T04:28:55.931131",
     "exception": false,
     "start_time": "2021-02-08T04:28:55.363517",
     "status": "completed"
    },
    "tags": []
   },
   "outputs": [
    {
     "data": {
      "text/plain": [
       "Text(0, 0.5, 'Count')"
      ]
     },
     "execution_count": 41,
     "metadata": {},
     "output_type": "execute_result"
    },
    {
     "data": {
      "image/png": "[encoded data removed]",
      "text/plain": [
       "<Figure size 1440x720 with 1 Axes>"
      ]
     },
     "metadata": {},
     "output_type": "display_data"
    }
   ],
   "source": [
    "#Total Number of applications in each categories.\n",
    "\n",
    "fig = plt.figure(figsize=(20,10)) \n",
    "data3.groupby('Category').count()[\"App\"].sort_values(ascending=True).plot(kind='barh',title='Number of apps/Category', fontsize=15)\n",
    "plt.ylabel('Count') \n",
    "\n",
    "#how to display %age on secondary axis on bar plot"
   ]
  },
  {
   "cell_type": "code",
   "execution_count": 42,
   "metadata": {
    "execution": {
     "iopub.execute_input": "2021-02-08T04:28:56.072780Z",
     "iopub.status.busy": "2021-02-08T04:28:56.072127Z",
     "iopub.status.idle": "2021-02-08T04:28:56.474794Z",
     "shell.execute_reply": "2021-02-08T04:28:56.473725Z"
    },
    "papermill": {
     "duration": 0.474554,
     "end_time": "2021-02-08T04:28:56.475048",
     "exception": false,
     "start_time": "2021-02-08T04:28:56.000494",
     "status": "completed"
    },
    "tags": []
   },
   "outputs": [
    {
     "data": {
      "image/png": "[encoded data removed]",
      "text/plain": [
       "<Figure size 1152x576 with 1 Axes>"
      ]
     },
     "metadata": {},
     "output_type": "display_data"
    }
   ],
   "source": [
    "#What is the average rating of the applications in each categories?\n",
    "fig = plt.figure(figsize=(16,8)) \n",
    "data3.groupby('Category').mean().sort_values(by='Rating',ascending='False')['Rating'].plot(kind='barh',title='Average app rating', fontsize=10)\n",
    "plt.ylabel('Star Rating') \n",
    "plt.style.use('seaborn-white')"
   ]
  },
  {
   "cell_type": "code",
   "execution_count": 43,
   "metadata": {
    "execution": {
     "iopub.execute_input": "2021-02-08T04:28:56.630341Z",
     "iopub.status.busy": "2021-02-08T04:28:56.629520Z",
     "iopub.status.idle": "2021-02-08T04:28:57.031300Z",
     "shell.execute_reply": "2021-02-08T04:28:57.031841Z"
    },
    "papermill": {
     "duration": 0.484028,
     "end_time": "2021-02-08T04:28:57.032043",
     "exception": false,
     "start_time": "2021-02-08T04:28:56.548015",
     "status": "completed"
    },
    "tags": []
   },
   "outputs": [
    {
     "data": {
      "text/plain": [
       "Text(0.5, 0, 'Average price - USD')"
      ]
     },
     "execution_count": 43,
     "metadata": {},
     "output_type": "execute_result"
    },
    {
     "data": {
      "image/png": "[encoded data removed]",
      "text/plain": [
       "<Figure size 1152x576 with 1 Axes>"
      ]
     },
     "metadata": {},
     "output_type": "display_data"
    }
   ],
   "source": [
    "#What is the average price of applications in each categories?\n",
    "fig = plt.figure(figsize=(16,8)) \n",
    "data3.groupby('Category').mean().sort_values(by='Price_USD',ascending='False')['Price_USD'].plot(kind='barh',title='Price in USD', fontsize=10)\n",
    "plt.ylabel('App category') \n",
    "plt.xlabel('Average price - USD') "
   ]
  },
  {
   "cell_type": "code",
   "execution_count": 44,
   "metadata": {
    "execution": {
     "iopub.execute_input": "2021-02-08T04:28:57.213280Z",
     "iopub.status.busy": "2021-02-08T04:28:57.212334Z",
     "iopub.status.idle": "2021-02-08T04:28:59.151841Z",
     "shell.execute_reply": "2021-02-08T04:28:59.152357Z"
    },
    "papermill": {
     "duration": 2.044821,
     "end_time": "2021-02-08T04:28:59.152557",
     "exception": false,
     "start_time": "2021-02-08T04:28:57.107736",
     "status": "completed"
    },
    "tags": []
   },
   "outputs": [
    {
     "data": {
      "image/png": "[encoded data removed]",
      "text/plain": [
       "<Figure size 1152x576 with 1 Axes>"
      ]
     },
     "metadata": {},
     "output_type": "display_data"
    }
   ],
   "source": [
    "fig = plt.figure(figsize=(16,8)) \n",
    "labels = data3['Category'].value_counts(sort = True).index\n",
    "sizes = data3['Category'].value_counts(sort = True)\n",
    "plt.pie(sizes,labels=labels,autopct='%1.1f%%', shadow=True)\n",
    "plt.title('Top categories',size = 20)\n",
    "plt.legend(labels, loc=\"best\")\n",
    "plt.axis('equal')\n",
    "plt.tight_layout()\n",
    "plt.show()"
   ]
  },
  {
   "cell_type": "code",
   "execution_count": 45,
   "metadata": {
    "execution": {
     "iopub.execute_input": "2021-02-08T04:28:59.337262Z",
     "iopub.status.busy": "2021-02-08T04:28:59.336343Z",
     "iopub.status.idle": "2021-02-08T04:28:59.339571Z",
     "shell.execute_reply": "2021-02-08T04:28:59.340041Z"
    },
    "papermill": {
     "duration": 0.105948,
     "end_time": "2021-02-08T04:28:59.340252",
     "exception": false,
     "start_time": "2021-02-08T04:28:59.234304",
     "status": "completed"
    },
    "tags": []
   },
   "outputs": [
    {
     "data": {
      "text/html": [
       "<div>\n",
       "<style scoped>\n",
       "    .dataframe tbody tr th:only-of-type {\n",
       "        vertical-align: middle;\n",
       "    }\n",
       "\n",
       "    .dataframe tbody tr th {\n",
       "        vertical-align: top;\n",
       "    }\n",
       "\n",
       "    .dataframe thead th {\n",
       "        text-align: right;\n",
       "    }\n",
       "</style>\n",
       "<table border=\"1\" class=\"dataframe\">\n",
       "  <thead>\n",
       "    <tr style=\"text-align: right;\">\n",
       "      <th></th>\n",
       "      <th>App</th>\n",
       "      <th>Category</th>\n",
       "      <th>Rating</th>\n",
       "      <th>Size</th>\n",
       "      <th>Type</th>\n",
       "      <th>Content Rating</th>\n",
       "      <th>Genres</th>\n",
       "      <th>Last Updated</th>\n",
       "      <th>Current Ver</th>\n",
       "      <th>Installs_num</th>\n",
       "      <th>Price_USD</th>\n",
       "      <th>Reviews_count</th>\n",
       "      <th>min_android_version</th>\n",
       "    </tr>\n",
       "  </thead>\n",
       "  <tbody>\n",
       "    <tr>\n",
       "      <th>5086</th>\n",
       "      <td>Apps for SportsBєtting.ag - Bitcoin Welcome here!</td>\n",
       "      <td>SPORTS</td>\n",
       "      <td>4.193338</td>\n",
       "      <td>10000000.0</td>\n",
       "      <td>Free</td>\n",
       "      <td>Everyone</td>\n",
       "      <td>Sports</td>\n",
       "      <td>December 11, 2017</td>\n",
       "      <td>1.0</td>\n",
       "      <td>1000.0</td>\n",
       "      <td>0.0</td>\n",
       "      <td>0</td>\n",
       "      <td>4.0</td>\n",
       "    </tr>\n",
       "    <tr>\n",
       "      <th>7728</th>\n",
       "      <td>HR Team CQ Region Ed Qld</td>\n",
       "      <td>BUSINESS</td>\n",
       "      <td>4.193338</td>\n",
       "      <td>4100000.0</td>\n",
       "      <td>Free</td>\n",
       "      <td>Everyone</td>\n",
       "      <td>Business</td>\n",
       "      <td>January 12, 2018</td>\n",
       "      <td>3.8</td>\n",
       "      <td>500.0</td>\n",
       "      <td>0.0</td>\n",
       "      <td>0</td>\n",
       "      <td>4.0.3</td>\n",
       "    </tr>\n",
       "    <tr>\n",
       "      <th>5165</th>\n",
       "      <td>Ferguson AH</td>\n",
       "      <td>MEDICAL</td>\n",
       "      <td>4.193338</td>\n",
       "      <td>29000000.0</td>\n",
       "      <td>Free</td>\n",
       "      <td>Everyone</td>\n",
       "      <td>Medical</td>\n",
       "      <td>July 17, 2017</td>\n",
       "      <td>300000.0.86</td>\n",
       "      <td>100.0</td>\n",
       "      <td>0.0</td>\n",
       "      <td>0</td>\n",
       "      <td>4.0.3</td>\n",
       "    </tr>\n",
       "    <tr>\n",
       "      <th>5162</th>\n",
       "      <td>Hilltop AH</td>\n",
       "      <td>MEDICAL</td>\n",
       "      <td>4.193338</td>\n",
       "      <td>29000000.0</td>\n",
       "      <td>Free</td>\n",
       "      <td>Everyone</td>\n",
       "      <td>Medical</td>\n",
       "      <td>January 10, 2018</td>\n",
       "      <td>300000.0.96</td>\n",
       "      <td>100.0</td>\n",
       "      <td>0.0</td>\n",
       "      <td>0</td>\n",
       "      <td>4.0.3</td>\n",
       "    </tr>\n",
       "    <tr>\n",
       "      <th>5161</th>\n",
       "      <td>Bayview Hill AH</td>\n",
       "      <td>MEDICAL</td>\n",
       "      <td>4.193338</td>\n",
       "      <td>29000000.0</td>\n",
       "      <td>Free</td>\n",
       "      <td>Everyone</td>\n",
       "      <td>Medical</td>\n",
       "      <td>June 6, 2018</td>\n",
       "      <td>300000.1.08</td>\n",
       "      <td>50.0</td>\n",
       "      <td>0.0</td>\n",
       "      <td>0</td>\n",
       "      <td>4.0.3</td>\n",
       "    </tr>\n",
       "  </tbody>\n",
       "</table>\n",
       "</div>"
      ],
      "text/plain": [
       "                                                    App  Category    Rating  \\\n",
       "5086  Apps for SportsBєtting.ag - Bitcoin Welcome here!    SPORTS  4.193338   \n",
       "7728                           HR Team CQ Region Ed Qld  BUSINESS  4.193338   \n",
       "5165                                        Ferguson AH   MEDICAL  4.193338   \n",
       "5162                                         Hilltop AH   MEDICAL  4.193338   \n",
       "5161                                    Bayview Hill AH   MEDICAL  4.193338   \n",
       "\n",
       "            Size  Type Content Rating    Genres       Last Updated  \\\n",
       "5086  10000000.0  Free       Everyone    Sports  December 11, 2017   \n",
       "7728   4100000.0  Free       Everyone  Business   January 12, 2018   \n",
       "5165  29000000.0  Free       Everyone   Medical      July 17, 2017   \n",
       "5162  29000000.0  Free       Everyone   Medical   January 10, 2018   \n",
       "5161  29000000.0  Free       Everyone   Medical       June 6, 2018   \n",
       "\n",
       "      Current Ver  Installs_num  Price_USD  Reviews_count min_android_version  \n",
       "5086          1.0        1000.0        0.0              0               4.0    \n",
       "7728          3.8         500.0        0.0              0             4.0.3    \n",
       "5165  300000.0.86         100.0        0.0              0             4.0.3    \n",
       "5162  300000.0.96         100.0        0.0              0             4.0.3    \n",
       "5161  300000.1.08          50.0        0.0              0             4.0.3    "
      ]
     },
     "execution_count": 45,
     "metadata": {},
     "output_type": "execute_result"
    }
   ],
   "source": [
    "data3.head()"
   ]
  },
  {
   "cell_type": "code",
   "execution_count": 46,
   "metadata": {
    "execution": {
     "iopub.execute_input": "2021-02-08T04:28:59.517254Z",
     "iopub.status.busy": "2021-02-08T04:28:59.516422Z",
     "iopub.status.idle": "2021-02-08T04:28:59.541770Z",
     "shell.execute_reply": "2021-02-08T04:28:59.542474Z"
    },
    "papermill": {
     "duration": 0.12062,
     "end_time": "2021-02-08T04:28:59.542775",
     "exception": false,
     "start_time": "2021-02-08T04:28:59.422155",
     "status": "completed"
    },
    "tags": []
   },
   "outputs": [
    {
     "name": "stdout",
     "output_type": "stream",
     "text": [
      "Maximum number of reviews count is of : Facebook with a value of 78158306\n",
      "Maximum Rating is of : EC SPORTS with a value of 5.0\n",
      "Maximum number of installs is of : Skype - free IM & video calls with a value of 1000000000.0\n",
      "Maximum price is of : I'm Rich - Trump Edition with a value of 400.0\n"
     ]
    }
   ],
   "source": [
    "#What are the applications and categories with, most number of reviews, highest rating, most revenue through installs, most number of installs?\n",
    "#data3[\"Reviews_count\"]==data3.Reviews_count.max()\n",
    "print(\"Maximum number of reviews count is of : \"+ data3[data3['Reviews_count']==data3.Reviews_count.max()][\"App\"].iloc[0] + \" with a value of \" + str(data3.Reviews_count.max()))\n",
    "print(\"Maximum Rating is of : \"+ data3[data3['Rating']==data3.Rating.max()][\"App\"].iloc[0] + \" with a value of \" + str(data3.Rating.max()))\n",
    "print(\"Maximum number of installs is of : \"+ data3[data3['Installs_num']==data3.Installs_num.max()][\"App\"].iloc[0] + \" with a value of \" + str(data3.Installs_num.max()))\n",
    "print(\"Maximum price is of : \"+ data3[data3['Price_USD']==data3.Price_USD.max()][\"App\"].iloc[0] + \" with a value of \" + str(data3.Price_USD.max()))"
   ]
  },
  {
   "cell_type": "code",
   "execution_count": 47,
   "metadata": {
    "execution": {
     "iopub.execute_input": "2021-02-08T04:28:59.743153Z",
     "iopub.status.busy": "2021-02-08T04:28:59.742400Z",
     "iopub.status.idle": "2021-02-08T04:28:59.751748Z",
     "shell.execute_reply": "2021-02-08T04:28:59.751249Z"
    },
    "papermill": {
     "duration": 0.095536,
     "end_time": "2021-02-08T04:28:59.751945",
     "exception": false,
     "start_time": "2021-02-08T04:28:59.656409",
     "status": "completed"
    },
    "tags": []
   },
   "outputs": [
    {
     "name": "stdout",
     "output_type": "stream",
     "text": [
      "Mean size 19.466126964426948 Mb\n",
      "Heaviest app size 95.367431640625 Mb\n",
      "Smalles app size 0.008106231689453125 Mb\n"
     ]
    }
   ],
   "source": [
    "#What is the average size of the applications?\n",
    "print(\"Mean size \" + str(data3[\"Size\"].mean()/(1024*1024)) + \" Mb\") #converting in MB\n",
    "print(\"Heaviest app size \" + str(data3[\"Size\"].max()/(1024*1024)) + \" Mb\") #converting in MB\n",
    "print(\"Smalles app size \" + str(data3[\"Size\"].min()/(1024*1024)) + \" Mb\") #converting in MB"
   ]
  },
  {
   "cell_type": "code",
   "execution_count": 48,
   "metadata": {
    "execution": {
     "iopub.execute_input": "2021-02-08T04:28:59.927100Z",
     "iopub.status.busy": "2021-02-08T04:28:59.925993Z",
     "iopub.status.idle": "2021-02-08T04:29:00.324601Z",
     "shell.execute_reply": "2021-02-08T04:29:00.325129Z"
    },
    "papermill": {
     "duration": 0.4914,
     "end_time": "2021-02-08T04:29:00.325326",
     "exception": false,
     "start_time": "2021-02-08T04:28:59.833926",
     "status": "completed"
    },
    "tags": []
   },
   "outputs": [
    {
     "data": {
      "text/plain": [
       "Text(0, 0.5, 'Number of Install')"
      ]
     },
     "execution_count": 48,
     "metadata": {},
     "output_type": "execute_result"
    },
    {
     "data": {
      "image/png": "[encoded data removed]",
      "text/plain": [
       "<Figure size 1152x576 with 1 Axes>"
      ]
     },
     "metadata": {},
     "output_type": "display_data"
    }
   ],
   "source": [
    "#What are the categories with, most number of reviews, highest rating, most revenue through installs, most number of installs?\n",
    "fig = plt.figure(figsize=(16,8)) \n",
    "data3.groupby('Category').sum().sort_values(by='Installs_num',ascending='False')['Installs_num'].plot(kind='bar',title='Installs', fontsize=10)\n",
    "plt.ylabel('Number of Install') "
   ]
  },
  {
   "cell_type": "code",
   "execution_count": 49,
   "metadata": {
    "execution": {
     "iopub.execute_input": "2021-02-08T04:29:00.719507Z",
     "iopub.status.busy": "2021-02-08T04:29:00.508030Z",
     "iopub.status.idle": "2021-02-08T04:29:00.896837Z",
     "shell.execute_reply": "2021-02-08T04:29:00.896165Z"
    },
    "papermill": {
     "duration": 0.487672,
     "end_time": "2021-02-08T04:29:00.896997",
     "exception": false,
     "start_time": "2021-02-08T04:29:00.409325",
     "status": "completed"
    },
    "tags": []
   },
   "outputs": [
    {
     "data": {
      "image/png": "[encoded data removed]",
      "text/plain": [
       "<Figure size 1152x576 with 1 Axes>"
      ]
     },
     "metadata": {},
     "output_type": "display_data"
    }
   ],
   "source": [
    "fig = plt.figure(figsize=(16,8)) \n",
    "labels = data3['Content Rating'].value_counts(sort = True).index\n",
    "sizes = data3['Content Rating'].value_counts(sort = True)\n",
    "plt.pie(sizes,labels=labels,autopct='%1.1f%%', shadow=True)\n",
    "plt.title('Content Rating',size = 20)\n",
    "plt.show()"
   ]
  },
  {
   "cell_type": "code",
   "execution_count": 50,
   "metadata": {
    "execution": {
     "iopub.execute_input": "2021-02-08T04:29:01.075744Z",
     "iopub.status.busy": "2021-02-08T04:29:01.075028Z",
     "iopub.status.idle": "2021-02-08T04:29:01.080283Z",
     "shell.execute_reply": "2021-02-08T04:29:01.079608Z"
    },
    "papermill": {
     "duration": 0.097285,
     "end_time": "2021-02-08T04:29:01.080452",
     "exception": false,
     "start_time": "2021-02-08T04:29:00.983167",
     "status": "completed"
    },
    "tags": []
   },
   "outputs": [],
   "source": [
    "#added in version 16\n",
    "data4= data3.copy()"
   ]
  },
  {
   "cell_type": "code",
   "execution_count": 51,
   "metadata": {
    "execution": {
     "iopub.execute_input": "2021-02-08T04:29:01.259700Z",
     "iopub.status.busy": "2021-02-08T04:29:01.258689Z",
     "iopub.status.idle": "2021-02-08T04:29:01.262404Z",
     "shell.execute_reply": "2021-02-08T04:29:01.261776Z"
    },
    "papermill": {
     "duration": 0.095496,
     "end_time": "2021-02-08T04:29:01.262557",
     "exception": false,
     "start_time": "2021-02-08T04:29:01.167061",
     "status": "completed"
    },
    "tags": []
   },
   "outputs": [],
   "source": [
    "#added in version 16\n",
    "def is_free(price):\n",
    "    if price > 0:\n",
    "        return 1\n",
    "    else:\n",
    "        return 0"
   ]
  },
  {
   "cell_type": "code",
   "execution_count": 52,
   "metadata": {
    "execution": {
     "iopub.execute_input": "2021-02-08T04:29:01.452025Z",
     "iopub.status.busy": "2021-02-08T04:29:01.450952Z",
     "iopub.status.idle": "2021-02-08T04:29:01.460641Z",
     "shell.execute_reply": "2021-02-08T04:29:01.460022Z"
    },
    "papermill": {
     "duration": 0.11077,
     "end_time": "2021-02-08T04:29:01.460823",
     "exception": false,
     "start_time": "2021-02-08T04:29:01.350053",
     "status": "completed"
    },
    "tags": []
   },
   "outputs": [
    {
     "data": {
      "text/plain": [
       "App                    0\n",
       "Category               0\n",
       "Rating                 0\n",
       "Size                   0\n",
       "Type                   0\n",
       "Content Rating         0\n",
       "Genres                 0\n",
       "Last Updated           0\n",
       "Current Ver            0\n",
       "Installs_num           0\n",
       "Price_USD              0\n",
       "Reviews_count          0\n",
       "min_android_version    0\n",
       "dtype: int64"
      ]
     },
     "execution_count": 52,
     "metadata": {},
     "output_type": "execute_result"
    }
   ],
   "source": [
    "data3.isna().sum()"
   ]
  },
  {
   "cell_type": "code",
   "execution_count": 53,
   "metadata": {
    "execution": {
     "iopub.execute_input": "2021-02-08T04:29:01.641038Z",
     "iopub.status.busy": "2021-02-08T04:29:01.639941Z",
     "iopub.status.idle": "2021-02-08T04:29:01.655715Z",
     "shell.execute_reply": "2021-02-08T04:29:01.655170Z"
    },
    "papermill": {
     "duration": 0.108741,
     "end_time": "2021-02-08T04:29:01.655906",
     "exception": false,
     "start_time": "2021-02-08T04:29:01.547165",
     "status": "completed"
    },
    "tags": []
   },
   "outputs": [],
   "source": [
    "data4[\"is_free\"] = data4[\"Price_USD\"].apply(lambda x: int(is_free(x)))"
   ]
  },
  {
   "cell_type": "code",
   "execution_count": 54,
   "metadata": {
    "execution": {
     "iopub.execute_input": "2021-02-08T04:29:01.852943Z",
     "iopub.status.busy": "2021-02-08T04:29:01.852221Z",
     "iopub.status.idle": "2021-02-08T04:29:01.856267Z",
     "shell.execute_reply": "2021-02-08T04:29:01.856710Z"
    },
    "papermill": {
     "duration": 0.114556,
     "end_time": "2021-02-08T04:29:01.856936",
     "exception": false,
     "start_time": "2021-02-08T04:29:01.742380",
     "status": "completed"
    },
    "tags": []
   },
   "outputs": [
    {
     "data": {
      "text/html": [
       "<div>\n",
       "<style scoped>\n",
       "    .dataframe tbody tr th:only-of-type {\n",
       "        vertical-align: middle;\n",
       "    }\n",
       "\n",
       "    .dataframe tbody tr th {\n",
       "        vertical-align: top;\n",
       "    }\n",
       "\n",
       "    .dataframe thead th {\n",
       "        text-align: right;\n",
       "    }\n",
       "</style>\n",
       "<table border=\"1\" class=\"dataframe\">\n",
       "  <thead>\n",
       "    <tr style=\"text-align: right;\">\n",
       "      <th></th>\n",
       "      <th>App</th>\n",
       "      <th>Category</th>\n",
       "      <th>Rating</th>\n",
       "      <th>Size</th>\n",
       "      <th>Type</th>\n",
       "      <th>Content Rating</th>\n",
       "      <th>Genres</th>\n",
       "      <th>Last Updated</th>\n",
       "      <th>Current Ver</th>\n",
       "      <th>Installs_num</th>\n",
       "      <th>Price_USD</th>\n",
       "      <th>Reviews_count</th>\n",
       "      <th>min_android_version</th>\n",
       "      <th>is_free</th>\n",
       "    </tr>\n",
       "  </thead>\n",
       "  <tbody>\n",
       "    <tr>\n",
       "      <th>5086</th>\n",
       "      <td>Apps for SportsBєtting.ag - Bitcoin Welcome here!</td>\n",
       "      <td>SPORTS</td>\n",
       "      <td>4.193338</td>\n",
       "      <td>10000000.0</td>\n",
       "      <td>Free</td>\n",
       "      <td>Everyone</td>\n",
       "      <td>Sports</td>\n",
       "      <td>December 11, 2017</td>\n",
       "      <td>1.0</td>\n",
       "      <td>1000.0</td>\n",
       "      <td>0.0</td>\n",
       "      <td>0</td>\n",
       "      <td>4.0</td>\n",
       "      <td>0</td>\n",
       "    </tr>\n",
       "    <tr>\n",
       "      <th>7728</th>\n",
       "      <td>HR Team CQ Region Ed Qld</td>\n",
       "      <td>BUSINESS</td>\n",
       "      <td>4.193338</td>\n",
       "      <td>4100000.0</td>\n",
       "      <td>Free</td>\n",
       "      <td>Everyone</td>\n",
       "      <td>Business</td>\n",
       "      <td>January 12, 2018</td>\n",
       "      <td>3.8</td>\n",
       "      <td>500.0</td>\n",
       "      <td>0.0</td>\n",
       "      <td>0</td>\n",
       "      <td>4.0.3</td>\n",
       "      <td>0</td>\n",
       "    </tr>\n",
       "    <tr>\n",
       "      <th>5165</th>\n",
       "      <td>Ferguson AH</td>\n",
       "      <td>MEDICAL</td>\n",
       "      <td>4.193338</td>\n",
       "      <td>29000000.0</td>\n",
       "      <td>Free</td>\n",
       "      <td>Everyone</td>\n",
       "      <td>Medical</td>\n",
       "      <td>July 17, 2017</td>\n",
       "      <td>300000.0.86</td>\n",
       "      <td>100.0</td>\n",
       "      <td>0.0</td>\n",
       "      <td>0</td>\n",
       "      <td>4.0.3</td>\n",
       "      <td>0</td>\n",
       "    </tr>\n",
       "    <tr>\n",
       "      <th>5162</th>\n",
       "      <td>Hilltop AH</td>\n",
       "      <td>MEDICAL</td>\n",
       "      <td>4.193338</td>\n",
       "      <td>29000000.0</td>\n",
       "      <td>Free</td>\n",
       "      <td>Everyone</td>\n",
       "      <td>Medical</td>\n",
       "      <td>January 10, 2018</td>\n",
       "      <td>300000.0.96</td>\n",
       "      <td>100.0</td>\n",
       "      <td>0.0</td>\n",
       "      <td>0</td>\n",
       "      <td>4.0.3</td>\n",
       "      <td>0</td>\n",
       "    </tr>\n",
       "    <tr>\n",
       "      <th>5161</th>\n",
       "      <td>Bayview Hill AH</td>\n",
       "      <td>MEDICAL</td>\n",
       "      <td>4.193338</td>\n",
       "      <td>29000000.0</td>\n",
       "      <td>Free</td>\n",
       "      <td>Everyone</td>\n",
       "      <td>Medical</td>\n",
       "      <td>June 6, 2018</td>\n",
       "      <td>300000.1.08</td>\n",
       "      <td>50.0</td>\n",
       "      <td>0.0</td>\n",
       "      <td>0</td>\n",
       "      <td>4.0.3</td>\n",
       "      <td>0</td>\n",
       "    </tr>\n",
       "  </tbody>\n",
       "</table>\n",
       "</div>"
      ],
      "text/plain": [
       "                                                    App  Category    Rating  \\\n",
       "5086  Apps for SportsBєtting.ag - Bitcoin Welcome here!    SPORTS  4.193338   \n",
       "7728                           HR Team CQ Region Ed Qld  BUSINESS  4.193338   \n",
       "5165                                        Ferguson AH   MEDICAL  4.193338   \n",
       "5162                                         Hilltop AH   MEDICAL  4.193338   \n",
       "5161                                    Bayview Hill AH   MEDICAL  4.193338   \n",
       "\n",
       "            Size  Type Content Rating    Genres       Last Updated  \\\n",
       "5086  10000000.0  Free       Everyone    Sports  December 11, 2017   \n",
       "7728   4100000.0  Free       Everyone  Business   January 12, 2018   \n",
       "5165  29000000.0  Free       Everyone   Medical      July 17, 2017   \n",
       "5162  29000000.0  Free       Everyone   Medical   January 10, 2018   \n",
       "5161  29000000.0  Free       Everyone   Medical       June 6, 2018   \n",
       "\n",
       "      Current Ver  Installs_num  Price_USD  Reviews_count min_android_version  \\\n",
       "5086          1.0        1000.0        0.0              0               4.0     \n",
       "7728          3.8         500.0        0.0              0             4.0.3     \n",
       "5165  300000.0.86         100.0        0.0              0             4.0.3     \n",
       "5162  300000.0.96         100.0        0.0              0             4.0.3     \n",
       "5161  300000.1.08          50.0        0.0              0             4.0.3     \n",
       "\n",
       "      is_free  \n",
       "5086        0  \n",
       "7728        0  \n",
       "5165        0  \n",
       "5162        0  \n",
       "5161        0  "
      ]
     },
     "execution_count": 54,
     "metadata": {},
     "output_type": "execute_result"
    }
   ],
   "source": [
    "data4.head()"
   ]
  },
  {
   "cell_type": "code",
   "execution_count": 55,
   "metadata": {
    "execution": {
     "iopub.execute_input": "2021-02-08T04:29:02.041046Z",
     "iopub.status.busy": "2021-02-08T04:29:02.040346Z",
     "iopub.status.idle": "2021-02-08T04:29:02.310915Z",
     "shell.execute_reply": "2021-02-08T04:29:02.311481Z"
    },
    "papermill": {
     "duration": 0.365943,
     "end_time": "2021-02-08T04:29:02.312114",
     "exception": false,
     "start_time": "2021-02-08T04:29:01.946171",
     "status": "completed"
    },
    "tags": []
   },
   "outputs": [
    {
     "data": {
      "image/png": "[encoded data removed]",
      "text/plain": [
       "<Figure size 1152x576 with 1 Axes>"
      ]
     },
     "metadata": {},
     "output_type": "display_data"
    }
   ],
   "source": [
    "#How many percent of applications are free and how many are paid?\n",
    "#to check how many apps are free\n",
    "fig = plt.figure(figsize=(16,8)) \n",
    "labels = ['0 = Free','1 = Paid']\n",
    "sizes = data4['is_free'].value_counts(sort = True)\n",
    "plt.pie(sizes,labels=labels,autopct='%1.1f%%', shadow=True)\n",
    "plt.title('Free vs Paid apps',size = 20)\n",
    "plt.legend()\n",
    "plt.show()"
   ]
  },
  {
   "cell_type": "code",
   "execution_count": 56,
   "metadata": {
    "execution": {
     "iopub.execute_input": "2021-02-08T04:29:02.497689Z",
     "iopub.status.busy": "2021-02-08T04:29:02.497005Z",
     "iopub.status.idle": "2021-02-08T04:29:03.091792Z",
     "shell.execute_reply": "2021-02-08T04:29:03.091251Z"
    },
    "papermill": {
     "duration": 0.689509,
     "end_time": "2021-02-08T04:29:03.091955",
     "exception": false,
     "start_time": "2021-02-08T04:29:02.402446",
     "status": "completed"
    },
    "tags": []
   },
   "outputs": [
    {
     "data": {
      "text/plain": [
       "<matplotlib.legend.Legend at 0x7f6a126d2c10>"
      ]
     },
     "execution_count": 56,
     "metadata": {},
     "output_type": "execute_result"
    },
    {
     "data": {
      "image/png": "[encoded data removed]",
      "text/plain": [
       "<Figure size 1152x576 with 1 Axes>"
      ]
     },
     "metadata": {},
     "output_type": "display_data"
    }
   ],
   "source": [
    "fig = plt.figure(figsize=(16,8)) \n",
    "plt.hist(data3['Rating'],edgecolor = 'black', log=True)\n",
    "plt.title(\"Rating distribution\")\n",
    "plt.xlabel('Rating')\n",
    "plt.tight_layout()\n",
    "plt.legend()"
   ]
  },
  {
   "cell_type": "code",
   "execution_count": 57,
   "metadata": {
    "execution": {
     "iopub.execute_input": "2021-02-08T04:29:03.294058Z",
     "iopub.status.busy": "2021-02-08T04:29:03.292941Z",
     "iopub.status.idle": "2021-02-08T04:29:03.894083Z",
     "shell.execute_reply": "2021-02-08T04:29:03.894631Z"
    },
    "papermill": {
     "duration": 0.711566,
     "end_time": "2021-02-08T04:29:03.894871",
     "exception": false,
     "start_time": "2021-02-08T04:29:03.183305",
     "status": "completed"
    },
    "tags": []
   },
   "outputs": [
    {
     "data": {
      "text/plain": [
       "<matplotlib.legend.Legend at 0x7f6a123bdad0>"
      ]
     },
     "execution_count": 57,
     "metadata": {},
     "output_type": "execute_result"
    },
    {
     "data": {
      "image/png": "[encoded data removed]",
      "text/plain": [
       "<Figure size 1152x576 with 1 Axes>"
      ]
     },
     "metadata": {},
     "output_type": "display_data"
    }
   ],
   "source": [
    "fig = plt.figure(figsize=(16,8)) \n",
    "plt.hist(data3['Price_USD'],edgecolor = 'black', log=True)\n",
    "plt.title(\"Price of apps\")\n",
    "plt.xlabel('Price')\n",
    "plt.tight_layout()\n",
    "plt.legend()"
   ]
  },
  {
   "cell_type": "markdown",
   "metadata": {
    "papermill": {
     "duration": 0.091484,
     "end_time": "2021-02-08T04:29:04.079389",
     "exception": false,
     "start_time": "2021-02-08T04:29:03.987905",
     "status": "completed"
    },
    "tags": []
   },
   "source": [
    "# Observations\n",
    "\n",
    "* Finance apps are the costliest one\n",
    "* Games are the most installed category of the apps.\n",
    "* Average rating is irrelevant to the category\n",
    "* Around 19.7% of the apps are related to family\n",
    "* 81.8% of the apps belong to everyone category"
   ]
  }
 ],
 "metadata": {
  "kernelspec": {
   "display_name": "Python 3",
   "language": "python",
   "name": "python3"
  },
  "language_info": {
   "codemirror_mode": {
    "name": "ipython",
    "version": 3
   },
   "file_extension": ".py",
   "mimetype": "text/x-python",
   "name": "python",
   "nbconvert_exporter": "python",
   "pygments_lexer": "ipython3",
   "version": "3.7.4"
  },
  "papermill": {
   "default_parameters": {},
   "duration": 44.440457,
   "end_time": "2021-02-08T04:29:23.756320",
   "environment_variables": {},
   "exception": null,
   "input_path": "__notebook__.ipynb",
   "output_path": "__notebook__.ipynb",
   "parameters": {},
   "start_time": "2021-02-08T04:28:39.315863",
   "version": "2.2.2"
  }
 },
 "nbformat": 4,
 "nbformat_minor": 4
}
