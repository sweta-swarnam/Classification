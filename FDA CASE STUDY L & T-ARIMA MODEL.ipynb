{
 "cells": [
  {
   "cell_type": "code",
   "execution_count": 2,
   "metadata": {},
   "outputs": [],
   "source": [
    "import pandas as pd\n",
    "import numpy as np\n",
    "import  matplotlib.pyplot as plt"
   ]
  },
  {
   "cell_type": "code",
   "execution_count": 3,
   "metadata": {},
   "outputs": [
    {
     "name": "stdout",
     "output_type": "stream",
     "text": [
      "Requirement already satisfied: statsmodels in c:\\users\\win\\anaconda3\\lib\\site-packages (0.11.1)\n",
      "Requirement already satisfied: pandas>=0.21 in c:\\users\\win\\anaconda3\\lib\\site-packages (from statsmodels) (0.25.1)\n",
      "Requirement already satisfied: numpy>=1.14 in c:\\users\\win\\anaconda3\\lib\\site-packages (from statsmodels) (1.19.4)\n",
      "Requirement already satisfied: patsy>=0.5 in c:\\users\\win\\anaconda3\\lib\\site-packages (from statsmodels) (0.5.1)\n",
      "Requirement already satisfied: scipy>=1.0 in c:\\users\\win\\anaconda3\\lib\\site-packages (from statsmodels) (1.5.4)\n",
      "Requirement already satisfied: python-dateutil>=2.6.1 in c:\\users\\win\\anaconda3\\lib\\site-packages (from pandas>=0.21->statsmodels) (2.8.0)\n",
      "Requirement already satisfied: pytz>=2017.2 in c:\\users\\win\\anaconda3\\lib\\site-packages (from pandas>=0.21->statsmodels) (2019.3)\n",
      "Requirement already satisfied: six in c:\\users\\win\\anaconda3\\lib\\site-packages (from patsy>=0.5->statsmodels) (1.12.0)\n",
      "Note: you may need to restart the kernel to use updated packages.\n"
     ]
    }
   ],
   "source": [
    "pip install statsmodels"
   ]
  },
  {
   "cell_type": "code",
   "execution_count": 4,
   "metadata": {},
   "outputs": [
    {
     "name": "stdout",
     "output_type": "stream",
     "text": [
      "Requirement already satisfied: pmdarima==1.7.1 from file:///C:/Users/win/pmdarima-1.7.1-cp37-cp37m-win32.whl in c:\\users\\win\\anaconda3\\lib\\site-packages (1.7.1)\n",
      "Requirement already satisfied: scipy>=1.3.2 in c:\\users\\win\\anaconda3\\lib\\site-packages (from pmdarima==1.7.1) (1.5.4)\n",
      "Requirement already satisfied: setuptools<50.0.0 in c:\\users\\win\\anaconda3\\lib\\site-packages (from pmdarima==1.7.1) (41.4.0)\n",
      "Requirement already satisfied: urllib3 in c:\\users\\win\\anaconda3\\lib\\site-packages (from pmdarima==1.7.1) (1.24.2)\n",
      "Requirement already satisfied: Cython<0.29.18,>=0.29 in c:\\users\\win\\anaconda3\\lib\\site-packages (from pmdarima==1.7.1) (0.29.14)\n",
      "Requirement already satisfied: joblib>=0.11 in c:\\users\\win\\anaconda3\\lib\\site-packages (from pmdarima==1.7.1) (0.13.2)\n",
      "Requirement already satisfied: scikit-learn>=0.22 in c:\\users\\win\\anaconda3\\lib\\site-packages (from pmdarima==1.7.1) (0.23.2)\n",
      "Requirement already satisfied: numpy>=1.17.3 in c:\\users\\win\\anaconda3\\lib\\site-packages (from pmdarima==1.7.1) (1.19.4)\n",
      "Requirement already satisfied: statsmodels<0.12,>=0.11 in c:\\users\\win\\anaconda3\\lib\\site-packages (from pmdarima==1.7.1) (0.11.1)\n",
      "Requirement already satisfied: pandas>=0.19 in c:\\users\\win\\anaconda3\\lib\\site-packages (from pmdarima==1.7.1) (0.25.1)\n",
      "Requirement already satisfied: threadpoolctl>=2.0.0 in c:\\users\\win\\anaconda3\\lib\\site-packages (from scikit-learn>=0.22->pmdarima==1.7.1) (2.1.0)\n",
      "Requirement already satisfied: patsy>=0.5 in c:\\users\\win\\anaconda3\\lib\\site-packages (from statsmodels<0.12,>=0.11->pmdarima==1.7.1) (0.5.1)\n",
      "Requirement already satisfied: pytz>=2017.2 in c:\\users\\win\\anaconda3\\lib\\site-packages (from pandas>=0.19->pmdarima==1.7.1) (2019.3)\n",
      "Requirement already satisfied: python-dateutil>=2.6.1 in c:\\users\\win\\anaconda3\\lib\\site-packages (from pandas>=0.19->pmdarima==1.7.1) (2.8.0)\n",
      "Requirement already satisfied: six in c:\\users\\win\\anaconda3\\lib\\site-packages (from patsy>=0.5->statsmodels<0.12,>=0.11->pmdarima==1.7.1) (1.12.0)\n",
      "Note: you may need to restart the kernel to use updated packages.\n"
     ]
    }
   ],
   "source": [
    "pip install pmdarima-1.7.1-cp37-cp37m-win32.whl"
   ]
  },
  {
   "cell_type": "code",
   "execution_count": 5,
   "metadata": {},
   "outputs": [],
   "source": [
    "import pmdarima as pm"
   ]
  },
  {
   "cell_type": "code",
   "execution_count": 6,
   "metadata": {},
   "outputs": [],
   "source": [
    "%matplotlib inline"
   ]
  },
  {
   "cell_type": "code",
   "execution_count": 7,
   "metadata": {},
   "outputs": [],
   "source": [
    "from statsmodels.graphics.tsaplots import plot_acf, plot_pacf"
   ]
  },
  {
   "cell_type": "code",
   "execution_count": 8,
   "metadata": {},
   "outputs": [],
   "source": [
    "from statsmodels.tsa.arima_model import ARIMA"
   ]
  },
  {
   "cell_type": "code",
   "execution_count": 9,
   "metadata": {},
   "outputs": [],
   "source": [
    "df= pd.read_csv(\"E:\\SEM -3\\FD\\L & T.csv\",index_col=\"Month\",parse_dates=True)"
   ]
  },
  {
   "cell_type": "code",
   "execution_count": 10,
   "metadata": {},
   "outputs": [
    {
     "data": {
      "text/html": [
       "<div>\n",
       "<style scoped>\n",
       "    .dataframe tbody tr th:only-of-type {\n",
       "        vertical-align: middle;\n",
       "    }\n",
       "\n",
       "    .dataframe tbody tr th {\n",
       "        vertical-align: top;\n",
       "    }\n",
       "\n",
       "    .dataframe thead th {\n",
       "        text-align: right;\n",
       "    }\n",
       "</style>\n",
       "<table border=\"1\" class=\"dataframe\">\n",
       "  <thead>\n",
       "    <tr style=\"text-align: right;\">\n",
       "      <th></th>\n",
       "      <th>205-70-N1190</th>\n",
       "      <th>PC_198_27_42263</th>\n",
       "      <th>PC_203_32_51461</th>\n",
       "      <th>PC_600_863_4210</th>\n",
       "      <th>PC_6735_61_3410</th>\n",
       "      <th>D30141135</th>\n",
       "      <th>600-181-6740I.</th>\n",
       "      <th>07063-51210I.</th>\n",
       "      <th>600-319-4540I.</th>\n",
       "      <th>6735-51-5143I</th>\n",
       "      <th>07000-B2011I.</th>\n",
       "    </tr>\n",
       "    <tr>\n",
       "      <th>Month</th>\n",
       "      <th></th>\n",
       "      <th></th>\n",
       "      <th></th>\n",
       "      <th></th>\n",
       "      <th></th>\n",
       "      <th></th>\n",
       "      <th></th>\n",
       "      <th></th>\n",
       "      <th></th>\n",
       "      <th></th>\n",
       "      <th></th>\n",
       "    </tr>\n",
       "  </thead>\n",
       "  <tbody>\n",
       "    <tr>\n",
       "      <td>Apr-09</td>\n",
       "      <td>2013</td>\n",
       "      <td>0</td>\n",
       "      <td>0</td>\n",
       "      <td>1</td>\n",
       "      <td>0</td>\n",
       "      <td>457</td>\n",
       "      <td>381</td>\n",
       "      <td>435</td>\n",
       "      <td>231</td>\n",
       "      <td>578</td>\n",
       "      <td>10</td>\n",
       "    </tr>\n",
       "    <tr>\n",
       "      <td>May-09</td>\n",
       "      <td>1776</td>\n",
       "      <td>0</td>\n",
       "      <td>0</td>\n",
       "      <td>1</td>\n",
       "      <td>0</td>\n",
       "      <td>439</td>\n",
       "      <td>327</td>\n",
       "      <td>349</td>\n",
       "      <td>373</td>\n",
       "      <td>535</td>\n",
       "      <td>17</td>\n",
       "    </tr>\n",
       "    <tr>\n",
       "      <td>Jun-09</td>\n",
       "      <td>2092</td>\n",
       "      <td>0</td>\n",
       "      <td>0</td>\n",
       "      <td>0</td>\n",
       "      <td>0</td>\n",
       "      <td>404</td>\n",
       "      <td>389</td>\n",
       "      <td>339</td>\n",
       "      <td>112</td>\n",
       "      <td>540</td>\n",
       "      <td>38</td>\n",
       "    </tr>\n",
       "    <tr>\n",
       "      <td>Jul-09</td>\n",
       "      <td>1793</td>\n",
       "      <td>0</td>\n",
       "      <td>0</td>\n",
       "      <td>2</td>\n",
       "      <td>2</td>\n",
       "      <td>392</td>\n",
       "      <td>283</td>\n",
       "      <td>338</td>\n",
       "      <td>103</td>\n",
       "      <td>682</td>\n",
       "      <td>27</td>\n",
       "    </tr>\n",
       "    <tr>\n",
       "      <td>Aug-09</td>\n",
       "      <td>1829</td>\n",
       "      <td>15</td>\n",
       "      <td>0</td>\n",
       "      <td>0</td>\n",
       "      <td>0</td>\n",
       "      <td>403</td>\n",
       "      <td>310</td>\n",
       "      <td>389</td>\n",
       "      <td>223</td>\n",
       "      <td>634</td>\n",
       "      <td>32</td>\n",
       "    </tr>\n",
       "    <tr>\n",
       "      <td>Sep-09</td>\n",
       "      <td>1533</td>\n",
       "      <td>5</td>\n",
       "      <td>2</td>\n",
       "      <td>1</td>\n",
       "      <td>0</td>\n",
       "      <td>371</td>\n",
       "      <td>254</td>\n",
       "      <td>294</td>\n",
       "      <td>108</td>\n",
       "      <td>401</td>\n",
       "      <td>17</td>\n",
       "    </tr>\n",
       "    <tr>\n",
       "      <td>Oct-09</td>\n",
       "      <td>1693</td>\n",
       "      <td>15</td>\n",
       "      <td>0</td>\n",
       "      <td>3</td>\n",
       "      <td>0</td>\n",
       "      <td>382</td>\n",
       "      <td>287</td>\n",
       "      <td>322</td>\n",
       "      <td>216</td>\n",
       "      <td>440</td>\n",
       "      <td>19</td>\n",
       "    </tr>\n",
       "    <tr>\n",
       "      <td>Nov-09</td>\n",
       "      <td>2196</td>\n",
       "      <td>0</td>\n",
       "      <td>86</td>\n",
       "      <td>0</td>\n",
       "      <td>6</td>\n",
       "      <td>358</td>\n",
       "      <td>277</td>\n",
       "      <td>407</td>\n",
       "      <td>317</td>\n",
       "      <td>605</td>\n",
       "      <td>17</td>\n",
       "    </tr>\n",
       "    <tr>\n",
       "      <td>Dec-09</td>\n",
       "      <td>2184</td>\n",
       "      <td>0</td>\n",
       "      <td>0</td>\n",
       "      <td>0</td>\n",
       "      <td>0</td>\n",
       "      <td>594</td>\n",
       "      <td>291</td>\n",
       "      <td>432</td>\n",
       "      <td>258</td>\n",
       "      <td>558</td>\n",
       "      <td>21</td>\n",
       "    </tr>\n",
       "    <tr>\n",
       "      <td>Jan-10</td>\n",
       "      <td>2574</td>\n",
       "      <td>0</td>\n",
       "      <td>1</td>\n",
       "      <td>1</td>\n",
       "      <td>1</td>\n",
       "      <td>482</td>\n",
       "      <td>362</td>\n",
       "      <td>387</td>\n",
       "      <td>298</td>\n",
       "      <td>826</td>\n",
       "      <td>37</td>\n",
       "    </tr>\n",
       "    <tr>\n",
       "      <td>Feb-10</td>\n",
       "      <td>2358</td>\n",
       "      <td>0</td>\n",
       "      <td>0</td>\n",
       "      <td>0</td>\n",
       "      <td>5</td>\n",
       "      <td>574</td>\n",
       "      <td>334</td>\n",
       "      <td>438</td>\n",
       "      <td>354</td>\n",
       "      <td>730</td>\n",
       "      <td>21</td>\n",
       "    </tr>\n",
       "    <tr>\n",
       "      <td>Mar-10</td>\n",
       "      <td>2222</td>\n",
       "      <td>45</td>\n",
       "      <td>0</td>\n",
       "      <td>0</td>\n",
       "      <td>1</td>\n",
       "      <td>704</td>\n",
       "      <td>306</td>\n",
       "      <td>577</td>\n",
       "      <td>454</td>\n",
       "      <td>475</td>\n",
       "      <td>51</td>\n",
       "    </tr>\n",
       "    <tr>\n",
       "      <td>Apr-10</td>\n",
       "      <td>1245</td>\n",
       "      <td>0</td>\n",
       "      <td>27</td>\n",
       "      <td>0</td>\n",
       "      <td>0</td>\n",
       "      <td>486</td>\n",
       "      <td>295</td>\n",
       "      <td>334</td>\n",
       "      <td>283</td>\n",
       "      <td>580</td>\n",
       "      <td>13</td>\n",
       "    </tr>\n",
       "    <tr>\n",
       "      <td>May-10</td>\n",
       "      <td>2409</td>\n",
       "      <td>0</td>\n",
       "      <td>101</td>\n",
       "      <td>1</td>\n",
       "      <td>1</td>\n",
       "      <td>509</td>\n",
       "      <td>315</td>\n",
       "      <td>458</td>\n",
       "      <td>478</td>\n",
       "      <td>856</td>\n",
       "      <td>24</td>\n",
       "    </tr>\n",
       "    <tr>\n",
       "      <td>Jun-10</td>\n",
       "      <td>1884</td>\n",
       "      <td>0</td>\n",
       "      <td>10</td>\n",
       "      <td>0</td>\n",
       "      <td>3</td>\n",
       "      <td>537</td>\n",
       "      <td>308</td>\n",
       "      <td>416</td>\n",
       "      <td>167</td>\n",
       "      <td>610</td>\n",
       "      <td>15</td>\n",
       "    </tr>\n",
       "    <tr>\n",
       "      <td>Jul-10</td>\n",
       "      <td>1611</td>\n",
       "      <td>10</td>\n",
       "      <td>86</td>\n",
       "      <td>0</td>\n",
       "      <td>2</td>\n",
       "      <td>407</td>\n",
       "      <td>307</td>\n",
       "      <td>326</td>\n",
       "      <td>472</td>\n",
       "      <td>628</td>\n",
       "      <td>55</td>\n",
       "    </tr>\n",
       "    <tr>\n",
       "      <td>Aug-10</td>\n",
       "      <td>1546</td>\n",
       "      <td>20</td>\n",
       "      <td>3</td>\n",
       "      <td>0</td>\n",
       "      <td>2</td>\n",
       "      <td>523</td>\n",
       "      <td>281</td>\n",
       "      <td>373</td>\n",
       "      <td>473</td>\n",
       "      <td>798</td>\n",
       "      <td>61</td>\n",
       "    </tr>\n",
       "    <tr>\n",
       "      <td>Sep-10</td>\n",
       "      <td>1542</td>\n",
       "      <td>0</td>\n",
       "      <td>7</td>\n",
       "      <td>0</td>\n",
       "      <td>2</td>\n",
       "      <td>363</td>\n",
       "      <td>206</td>\n",
       "      <td>460</td>\n",
       "      <td>228</td>\n",
       "      <td>522</td>\n",
       "      <td>20</td>\n",
       "    </tr>\n",
       "    <tr>\n",
       "      <td>Oct-10</td>\n",
       "      <td>1372</td>\n",
       "      <td>45</td>\n",
       "      <td>2</td>\n",
       "      <td>0</td>\n",
       "      <td>7</td>\n",
       "      <td>479</td>\n",
       "      <td>237</td>\n",
       "      <td>344</td>\n",
       "      <td>436</td>\n",
       "      <td>412</td>\n",
       "      <td>29</td>\n",
       "    </tr>\n",
       "    <tr>\n",
       "      <td>Nov-10</td>\n",
       "      <td>2530</td>\n",
       "      <td>5</td>\n",
       "      <td>100</td>\n",
       "      <td>0</td>\n",
       "      <td>11</td>\n",
       "      <td>516</td>\n",
       "      <td>255</td>\n",
       "      <td>465</td>\n",
       "      <td>619</td>\n",
       "      <td>477</td>\n",
       "      <td>44</td>\n",
       "    </tr>\n",
       "    <tr>\n",
       "      <td>Dec-10</td>\n",
       "      <td>2690</td>\n",
       "      <td>30</td>\n",
       "      <td>0</td>\n",
       "      <td>0</td>\n",
       "      <td>9</td>\n",
       "      <td>656</td>\n",
       "      <td>241</td>\n",
       "      <td>484</td>\n",
       "      <td>577</td>\n",
       "      <td>698</td>\n",
       "      <td>26</td>\n",
       "    </tr>\n",
       "    <tr>\n",
       "      <td>Jan-11</td>\n",
       "      <td>2167</td>\n",
       "      <td>0</td>\n",
       "      <td>20</td>\n",
       "      <td>0</td>\n",
       "      <td>9</td>\n",
       "      <td>558</td>\n",
       "      <td>365</td>\n",
       "      <td>527</td>\n",
       "      <td>391</td>\n",
       "      <td>625</td>\n",
       "      <td>41</td>\n",
       "    </tr>\n",
       "    <tr>\n",
       "      <td>Feb-11</td>\n",
       "      <td>1866</td>\n",
       "      <td>20</td>\n",
       "      <td>2</td>\n",
       "      <td>0</td>\n",
       "      <td>2</td>\n",
       "      <td>647</td>\n",
       "      <td>309</td>\n",
       "      <td>421</td>\n",
       "      <td>472</td>\n",
       "      <td>605</td>\n",
       "      <td>40</td>\n",
       "    </tr>\n",
       "    <tr>\n",
       "      <td>Mar-11</td>\n",
       "      <td>2374</td>\n",
       "      <td>0</td>\n",
       "      <td>86</td>\n",
       "      <td>0</td>\n",
       "      <td>0</td>\n",
       "      <td>864</td>\n",
       "      <td>349</td>\n",
       "      <td>567</td>\n",
       "      <td>666</td>\n",
       "      <td>863</td>\n",
       "      <td>62</td>\n",
       "    </tr>\n",
       "    <tr>\n",
       "      <td>Apr-11</td>\n",
       "      <td>1984</td>\n",
       "      <td>30</td>\n",
       "      <td>0</td>\n",
       "      <td>1</td>\n",
       "      <td>3</td>\n",
       "      <td>610</td>\n",
       "      <td>307</td>\n",
       "      <td>437</td>\n",
       "      <td>557</td>\n",
       "      <td>707</td>\n",
       "      <td>17</td>\n",
       "    </tr>\n",
       "    <tr>\n",
       "      <td>May-11</td>\n",
       "      <td>3816</td>\n",
       "      <td>90</td>\n",
       "      <td>3</td>\n",
       "      <td>1</td>\n",
       "      <td>4</td>\n",
       "      <td>677</td>\n",
       "      <td>367</td>\n",
       "      <td>461</td>\n",
       "      <td>631</td>\n",
       "      <td>820</td>\n",
       "      <td>45</td>\n",
       "    </tr>\n",
       "    <tr>\n",
       "      <td>Jun-11</td>\n",
       "      <td>2576</td>\n",
       "      <td>0</td>\n",
       "      <td>20</td>\n",
       "      <td>1</td>\n",
       "      <td>3</td>\n",
       "      <td>609</td>\n",
       "      <td>377</td>\n",
       "      <td>595</td>\n",
       "      <td>337</td>\n",
       "      <td>745</td>\n",
       "      <td>27</td>\n",
       "    </tr>\n",
       "    <tr>\n",
       "      <td>Jul-11</td>\n",
       "      <td>1826</td>\n",
       "      <td>1</td>\n",
       "      <td>0</td>\n",
       "      <td>0</td>\n",
       "      <td>2</td>\n",
       "      <td>673</td>\n",
       "      <td>274</td>\n",
       "      <td>540</td>\n",
       "      <td>661</td>\n",
       "      <td>648</td>\n",
       "      <td>46</td>\n",
       "    </tr>\n",
       "    <tr>\n",
       "      <td>Aug-11</td>\n",
       "      <td>2784</td>\n",
       "      <td>0</td>\n",
       "      <td>0</td>\n",
       "      <td>0</td>\n",
       "      <td>0</td>\n",
       "      <td>400</td>\n",
       "      <td>199</td>\n",
       "      <td>541</td>\n",
       "      <td>634</td>\n",
       "      <td>512</td>\n",
       "      <td>79</td>\n",
       "    </tr>\n",
       "    <tr>\n",
       "      <td>Sep-11</td>\n",
       "      <td>3654</td>\n",
       "      <td>0</td>\n",
       "      <td>0</td>\n",
       "      <td>0</td>\n",
       "      <td>4</td>\n",
       "      <td>443</td>\n",
       "      <td>277</td>\n",
       "      <td>497</td>\n",
       "      <td>398</td>\n",
       "      <td>705</td>\n",
       "      <td>17</td>\n",
       "    </tr>\n",
       "    <tr>\n",
       "      <td>Oct-11</td>\n",
       "      <td>3321</td>\n",
       "      <td>0</td>\n",
       "      <td>0</td>\n",
       "      <td>0</td>\n",
       "      <td>13</td>\n",
       "      <td>503</td>\n",
       "      <td>283</td>\n",
       "      <td>461</td>\n",
       "      <td>473</td>\n",
       "      <td>585</td>\n",
       "      <td>32</td>\n",
       "    </tr>\n",
       "    <tr>\n",
       "      <td>Nov-11</td>\n",
       "      <td>3206</td>\n",
       "      <td>0</td>\n",
       "      <td>0</td>\n",
       "      <td>0</td>\n",
       "      <td>5</td>\n",
       "      <td>688</td>\n",
       "      <td>197</td>\n",
       "      <td>491</td>\n",
       "      <td>558</td>\n",
       "      <td>683</td>\n",
       "      <td>82</td>\n",
       "    </tr>\n",
       "    <tr>\n",
       "      <td>Dec-11</td>\n",
       "      <td>3306</td>\n",
       "      <td>74</td>\n",
       "      <td>10</td>\n",
       "      <td>1</td>\n",
       "      <td>7</td>\n",
       "      <td>602</td>\n",
       "      <td>306</td>\n",
       "      <td>587</td>\n",
       "      <td>769</td>\n",
       "      <td>696</td>\n",
       "      <td>41</td>\n",
       "    </tr>\n",
       "    <tr>\n",
       "      <td>Jan-12</td>\n",
       "      <td>2793</td>\n",
       "      <td>35</td>\n",
       "      <td>0</td>\n",
       "      <td>1</td>\n",
       "      <td>1</td>\n",
       "      <td>629</td>\n",
       "      <td>278</td>\n",
       "      <td>490</td>\n",
       "      <td>431</td>\n",
       "      <td>990</td>\n",
       "      <td>35</td>\n",
       "    </tr>\n",
       "    <tr>\n",
       "      <td>Feb-12</td>\n",
       "      <td>3711</td>\n",
       "      <td>40</td>\n",
       "      <td>2</td>\n",
       "      <td>0</td>\n",
       "      <td>2</td>\n",
       "      <td>823</td>\n",
       "      <td>369</td>\n",
       "      <td>416</td>\n",
       "      <td>759</td>\n",
       "      <td>592</td>\n",
       "      <td>36</td>\n",
       "    </tr>\n",
       "    <tr>\n",
       "      <td>Mar-12</td>\n",
       "      <td>3356</td>\n",
       "      <td>11</td>\n",
       "      <td>48</td>\n",
       "      <td>0</td>\n",
       "      <td>2</td>\n",
       "      <td>671</td>\n",
       "      <td>397</td>\n",
       "      <td>613</td>\n",
       "      <td>713</td>\n",
       "      <td>925</td>\n",
       "      <td>78</td>\n",
       "    </tr>\n",
       "    <tr>\n",
       "      <td>Apr-12</td>\n",
       "      <td>3843</td>\n",
       "      <td>46</td>\n",
       "      <td>0</td>\n",
       "      <td>0</td>\n",
       "      <td>8</td>\n",
       "      <td>487</td>\n",
       "      <td>252</td>\n",
       "      <td>485</td>\n",
       "      <td>539</td>\n",
       "      <td>416</td>\n",
       "      <td>26</td>\n",
       "    </tr>\n",
       "    <tr>\n",
       "      <td>May-12</td>\n",
       "      <td>3694</td>\n",
       "      <td>10</td>\n",
       "      <td>0</td>\n",
       "      <td>0</td>\n",
       "      <td>4</td>\n",
       "      <td>652</td>\n",
       "      <td>353</td>\n",
       "      <td>539</td>\n",
       "      <td>725</td>\n",
       "      <td>800</td>\n",
       "      <td>50</td>\n",
       "    </tr>\n",
       "    <tr>\n",
       "      <td>Jun-12</td>\n",
       "      <td>1786</td>\n",
       "      <td>13</td>\n",
       "      <td>17</td>\n",
       "      <td>1</td>\n",
       "      <td>8</td>\n",
       "      <td>472</td>\n",
       "      <td>284</td>\n",
       "      <td>622</td>\n",
       "      <td>533</td>\n",
       "      <td>708</td>\n",
       "      <td>30</td>\n",
       "    </tr>\n",
       "    <tr>\n",
       "      <td>Jul-12</td>\n",
       "      <td>6786</td>\n",
       "      <td>76</td>\n",
       "      <td>0</td>\n",
       "      <td>0</td>\n",
       "      <td>18</td>\n",
       "      <td>412</td>\n",
       "      <td>200</td>\n",
       "      <td>509</td>\n",
       "      <td>626</td>\n",
       "      <td>652</td>\n",
       "      <td>42</td>\n",
       "    </tr>\n",
       "    <tr>\n",
       "      <td>Aug-12</td>\n",
       "      <td>2130</td>\n",
       "      <td>20</td>\n",
       "      <td>1</td>\n",
       "      <td>1</td>\n",
       "      <td>20</td>\n",
       "      <td>337</td>\n",
       "      <td>268</td>\n",
       "      <td>434</td>\n",
       "      <td>549</td>\n",
       "      <td>596</td>\n",
       "      <td>61</td>\n",
       "    </tr>\n",
       "    <tr>\n",
       "      <td>Sep-12</td>\n",
       "      <td>1830</td>\n",
       "      <td>22</td>\n",
       "      <td>207</td>\n",
       "      <td>0</td>\n",
       "      <td>0</td>\n",
       "      <td>365</td>\n",
       "      <td>229</td>\n",
       "      <td>549</td>\n",
       "      <td>395</td>\n",
       "      <td>416</td>\n",
       "      <td>74</td>\n",
       "    </tr>\n",
       "    <tr>\n",
       "      <td>Oct-12</td>\n",
       "      <td>1629</td>\n",
       "      <td>30</td>\n",
       "      <td>1</td>\n",
       "      <td>0</td>\n",
       "      <td>2</td>\n",
       "      <td>366</td>\n",
       "      <td>196</td>\n",
       "      <td>446</td>\n",
       "      <td>806</td>\n",
       "      <td>427</td>\n",
       "      <td>50</td>\n",
       "    </tr>\n",
       "    <tr>\n",
       "      <td>Nov-12</td>\n",
       "      <td>2272</td>\n",
       "      <td>27</td>\n",
       "      <td>0</td>\n",
       "      <td>1</td>\n",
       "      <td>8</td>\n",
       "      <td>307</td>\n",
       "      <td>212</td>\n",
       "      <td>447</td>\n",
       "      <td>741</td>\n",
       "      <td>373</td>\n",
       "      <td>23</td>\n",
       "    </tr>\n",
       "    <tr>\n",
       "      <td>Dec-12</td>\n",
       "      <td>3003</td>\n",
       "      <td>40</td>\n",
       "      <td>7</td>\n",
       "      <td>1</td>\n",
       "      <td>3</td>\n",
       "      <td>328</td>\n",
       "      <td>285</td>\n",
       "      <td>532</td>\n",
       "      <td>736</td>\n",
       "      <td>382</td>\n",
       "      <td>46</td>\n",
       "    </tr>\n",
       "    <tr>\n",
       "      <td>Jan-13</td>\n",
       "      <td>2428</td>\n",
       "      <td>51</td>\n",
       "      <td>5</td>\n",
       "      <td>2</td>\n",
       "      <td>0</td>\n",
       "      <td>328</td>\n",
       "      <td>245</td>\n",
       "      <td>515</td>\n",
       "      <td>592</td>\n",
       "      <td>418</td>\n",
       "      <td>22</td>\n",
       "    </tr>\n",
       "    <tr>\n",
       "      <td>Feb-13</td>\n",
       "      <td>1970</td>\n",
       "      <td>130</td>\n",
       "      <td>0</td>\n",
       "      <td>1</td>\n",
       "      <td>5</td>\n",
       "      <td>299</td>\n",
       "      <td>267</td>\n",
       "      <td>629</td>\n",
       "      <td>786</td>\n",
       "      <td>748</td>\n",
       "      <td>34</td>\n",
       "    </tr>\n",
       "    <tr>\n",
       "      <td>Mar-13</td>\n",
       "      <td>1849</td>\n",
       "      <td>75</td>\n",
       "      <td>0</td>\n",
       "      <td>0</td>\n",
       "      <td>4</td>\n",
       "      <td>396</td>\n",
       "      <td>273</td>\n",
       "      <td>494</td>\n",
       "      <td>842</td>\n",
       "      <td>594</td>\n",
       "      <td>64</td>\n",
       "    </tr>\n",
       "    <tr>\n",
       "      <td>Apr-13</td>\n",
       "      <td>3394</td>\n",
       "      <td>0</td>\n",
       "      <td>0</td>\n",
       "      <td>0</td>\n",
       "      <td>0</td>\n",
       "      <td>359</td>\n",
       "      <td>286</td>\n",
       "      <td>500</td>\n",
       "      <td>676</td>\n",
       "      <td>552</td>\n",
       "      <td>39</td>\n",
       "    </tr>\n",
       "  </tbody>\n",
       "</table>\n",
       "</div>"
      ],
      "text/plain": [
       "        205-70-N1190  PC_198_27_42263  PC_203_32_51461  PC_600_863_4210  \\\n",
       "Month                                                                     \n",
       "Apr-09          2013                0                0                1   \n",
       "May-09          1776                0                0                1   \n",
       "Jun-09          2092                0                0                0   \n",
       "Jul-09          1793                0                0                2   \n",
       "Aug-09          1829               15                0                0   \n",
       "Sep-09          1533                5                2                1   \n",
       "Oct-09          1693               15                0                3   \n",
       "Nov-09          2196                0               86                0   \n",
       "Dec-09          2184                0                0                0   \n",
       "Jan-10          2574                0                1                1   \n",
       "Feb-10          2358                0                0                0   \n",
       "Mar-10          2222               45                0                0   \n",
       "Apr-10          1245                0               27                0   \n",
       "May-10          2409                0              101                1   \n",
       "Jun-10          1884                0               10                0   \n",
       "Jul-10          1611               10               86                0   \n",
       "Aug-10          1546               20                3                0   \n",
       "Sep-10          1542                0                7                0   \n",
       "Oct-10          1372               45                2                0   \n",
       "Nov-10          2530                5              100                0   \n",
       "Dec-10          2690               30                0                0   \n",
       "Jan-11          2167                0               20                0   \n",
       "Feb-11          1866               20                2                0   \n",
       "Mar-11          2374                0               86                0   \n",
       "Apr-11          1984               30                0                1   \n",
       "May-11          3816               90                3                1   \n",
       "Jun-11          2576                0               20                1   \n",
       "Jul-11          1826                1                0                0   \n",
       "Aug-11          2784                0                0                0   \n",
       "Sep-11          3654                0                0                0   \n",
       "Oct-11          3321                0                0                0   \n",
       "Nov-11          3206                0                0                0   \n",
       "Dec-11          3306               74               10                1   \n",
       "Jan-12          2793               35                0                1   \n",
       "Feb-12          3711               40                2                0   \n",
       "Mar-12          3356               11               48                0   \n",
       "Apr-12          3843               46                0                0   \n",
       "May-12          3694               10                0                0   \n",
       "Jun-12          1786               13               17                1   \n",
       "Jul-12          6786               76                0                0   \n",
       "Aug-12          2130               20                1                1   \n",
       "Sep-12          1830               22              207                0   \n",
       "Oct-12          1629               30                1                0   \n",
       "Nov-12          2272               27                0                1   \n",
       "Dec-12          3003               40                7                1   \n",
       "Jan-13          2428               51                5                2   \n",
       "Feb-13          1970              130                0                1   \n",
       "Mar-13          1849               75                0                0   \n",
       "Apr-13          3394                0                0                0   \n",
       "\n",
       "        PC_6735_61_3410  D30141135  600-181-6740I.  07063-51210I.  \\\n",
       "Month                                                               \n",
       "Apr-09                0        457             381            435   \n",
       "May-09                0        439             327            349   \n",
       "Jun-09                0        404             389            339   \n",
       "Jul-09                2        392             283            338   \n",
       "Aug-09                0        403             310            389   \n",
       "Sep-09                0        371             254            294   \n",
       "Oct-09                0        382             287            322   \n",
       "Nov-09                6        358             277            407   \n",
       "Dec-09                0        594             291            432   \n",
       "Jan-10                1        482             362            387   \n",
       "Feb-10                5        574             334            438   \n",
       "Mar-10                1        704             306            577   \n",
       "Apr-10                0        486             295            334   \n",
       "May-10                1        509             315            458   \n",
       "Jun-10                3        537             308            416   \n",
       "Jul-10                2        407             307            326   \n",
       "Aug-10                2        523             281            373   \n",
       "Sep-10                2        363             206            460   \n",
       "Oct-10                7        479             237            344   \n",
       "Nov-10               11        516             255            465   \n",
       "Dec-10                9        656             241            484   \n",
       "Jan-11                9        558             365            527   \n",
       "Feb-11                2        647             309            421   \n",
       "Mar-11                0        864             349            567   \n",
       "Apr-11                3        610             307            437   \n",
       "May-11                4        677             367            461   \n",
       "Jun-11                3        609             377            595   \n",
       "Jul-11                2        673             274            540   \n",
       "Aug-11                0        400             199            541   \n",
       "Sep-11                4        443             277            497   \n",
       "Oct-11               13        503             283            461   \n",
       "Nov-11                5        688             197            491   \n",
       "Dec-11                7        602             306            587   \n",
       "Jan-12                1        629             278            490   \n",
       "Feb-12                2        823             369            416   \n",
       "Mar-12                2        671             397            613   \n",
       "Apr-12                8        487             252            485   \n",
       "May-12                4        652             353            539   \n",
       "Jun-12                8        472             284            622   \n",
       "Jul-12               18        412             200            509   \n",
       "Aug-12               20        337             268            434   \n",
       "Sep-12                0        365             229            549   \n",
       "Oct-12                2        366             196            446   \n",
       "Nov-12                8        307             212            447   \n",
       "Dec-12                3        328             285            532   \n",
       "Jan-13                0        328             245            515   \n",
       "Feb-13                5        299             267            629   \n",
       "Mar-13                4        396             273            494   \n",
       "Apr-13                0        359             286            500   \n",
       "\n",
       "        600-319-4540I.  6735-51-5143I  07000-B2011I.  \n",
       "Month                                                 \n",
       "Apr-09             231            578             10  \n",
       "May-09             373            535             17  \n",
       "Jun-09             112            540             38  \n",
       "Jul-09             103            682             27  \n",
       "Aug-09             223            634             32  \n",
       "Sep-09             108            401             17  \n",
       "Oct-09             216            440             19  \n",
       "Nov-09             317            605             17  \n",
       "Dec-09             258            558             21  \n",
       "Jan-10             298            826             37  \n",
       "Feb-10             354            730             21  \n",
       "Mar-10             454            475             51  \n",
       "Apr-10             283            580             13  \n",
       "May-10             478            856             24  \n",
       "Jun-10             167            610             15  \n",
       "Jul-10             472            628             55  \n",
       "Aug-10             473            798             61  \n",
       "Sep-10             228            522             20  \n",
       "Oct-10             436            412             29  \n",
       "Nov-10             619            477             44  \n",
       "Dec-10             577            698             26  \n",
       "Jan-11             391            625             41  \n",
       "Feb-11             472            605             40  \n",
       "Mar-11             666            863             62  \n",
       "Apr-11             557            707             17  \n",
       "May-11             631            820             45  \n",
       "Jun-11             337            745             27  \n",
       "Jul-11             661            648             46  \n",
       "Aug-11             634            512             79  \n",
       "Sep-11             398            705             17  \n",
       "Oct-11             473            585             32  \n",
       "Nov-11             558            683             82  \n",
       "Dec-11             769            696             41  \n",
       "Jan-12             431            990             35  \n",
       "Feb-12             759            592             36  \n",
       "Mar-12             713            925             78  \n",
       "Apr-12             539            416             26  \n",
       "May-12             725            800             50  \n",
       "Jun-12             533            708             30  \n",
       "Jul-12             626            652             42  \n",
       "Aug-12             549            596             61  \n",
       "Sep-12             395            416             74  \n",
       "Oct-12             806            427             50  \n",
       "Nov-12             741            373             23  \n",
       "Dec-12             736            382             46  \n",
       "Jan-13             592            418             22  \n",
       "Feb-13             786            748             34  \n",
       "Mar-13             842            594             64  \n",
       "Apr-13             676            552             39  "
      ]
     },
     "execution_count": 10,
     "metadata": {},
     "output_type": "execute_result"
    }
   ],
   "source": [
    "df"
   ]
  },
  {
   "cell_type": "code",
   "execution_count": 11,
   "metadata": {},
   "outputs": [
    {
     "name": "stdout",
     "output_type": "stream",
     "text": [
      "shape of data (49, 11)\n"
     ]
    },
    {
     "data": {
      "text/html": [
       "<div>\n",
       "<style scoped>\n",
       "    .dataframe tbody tr th:only-of-type {\n",
       "        vertical-align: middle;\n",
       "    }\n",
       "\n",
       "    .dataframe tbody tr th {\n",
       "        vertical-align: top;\n",
       "    }\n",
       "\n",
       "    .dataframe thead th {\n",
       "        text-align: right;\n",
       "    }\n",
       "</style>\n",
       "<table border=\"1\" class=\"dataframe\">\n",
       "  <thead>\n",
       "    <tr style=\"text-align: right;\">\n",
       "      <th></th>\n",
       "      <th>205-70-N1190</th>\n",
       "      <th>PC_198_27_42263</th>\n",
       "      <th>PC_203_32_51461</th>\n",
       "      <th>PC_600_863_4210</th>\n",
       "      <th>PC_6735_61_3410</th>\n",
       "      <th>D30141135</th>\n",
       "      <th>600-181-6740I.</th>\n",
       "      <th>07063-51210I.</th>\n",
       "      <th>600-319-4540I.</th>\n",
       "      <th>6735-51-5143I</th>\n",
       "      <th>07000-B2011I.</th>\n",
       "    </tr>\n",
       "    <tr>\n",
       "      <th>Month</th>\n",
       "      <th></th>\n",
       "      <th></th>\n",
       "      <th></th>\n",
       "      <th></th>\n",
       "      <th></th>\n",
       "      <th></th>\n",
       "      <th></th>\n",
       "      <th></th>\n",
       "      <th></th>\n",
       "      <th></th>\n",
       "      <th></th>\n",
       "    </tr>\n",
       "  </thead>\n",
       "  <tbody>\n",
       "    <tr>\n",
       "      <td>Apr-09</td>\n",
       "      <td>2013</td>\n",
       "      <td>0</td>\n",
       "      <td>0</td>\n",
       "      <td>1</td>\n",
       "      <td>0</td>\n",
       "      <td>457</td>\n",
       "      <td>381</td>\n",
       "      <td>435</td>\n",
       "      <td>231</td>\n",
       "      <td>578</td>\n",
       "      <td>10</td>\n",
       "    </tr>\n",
       "    <tr>\n",
       "      <td>May-09</td>\n",
       "      <td>1776</td>\n",
       "      <td>0</td>\n",
       "      <td>0</td>\n",
       "      <td>1</td>\n",
       "      <td>0</td>\n",
       "      <td>439</td>\n",
       "      <td>327</td>\n",
       "      <td>349</td>\n",
       "      <td>373</td>\n",
       "      <td>535</td>\n",
       "      <td>17</td>\n",
       "    </tr>\n",
       "    <tr>\n",
       "      <td>Jun-09</td>\n",
       "      <td>2092</td>\n",
       "      <td>0</td>\n",
       "      <td>0</td>\n",
       "      <td>0</td>\n",
       "      <td>0</td>\n",
       "      <td>404</td>\n",
       "      <td>389</td>\n",
       "      <td>339</td>\n",
       "      <td>112</td>\n",
       "      <td>540</td>\n",
       "      <td>38</td>\n",
       "    </tr>\n",
       "    <tr>\n",
       "      <td>Jul-09</td>\n",
       "      <td>1793</td>\n",
       "      <td>0</td>\n",
       "      <td>0</td>\n",
       "      <td>2</td>\n",
       "      <td>2</td>\n",
       "      <td>392</td>\n",
       "      <td>283</td>\n",
       "      <td>338</td>\n",
       "      <td>103</td>\n",
       "      <td>682</td>\n",
       "      <td>27</td>\n",
       "    </tr>\n",
       "    <tr>\n",
       "      <td>Aug-09</td>\n",
       "      <td>1829</td>\n",
       "      <td>15</td>\n",
       "      <td>0</td>\n",
       "      <td>0</td>\n",
       "      <td>0</td>\n",
       "      <td>403</td>\n",
       "      <td>310</td>\n",
       "      <td>389</td>\n",
       "      <td>223</td>\n",
       "      <td>634</td>\n",
       "      <td>32</td>\n",
       "    </tr>\n",
       "  </tbody>\n",
       "</table>\n",
       "</div>"
      ],
      "text/plain": [
       "        205-70-N1190  PC_198_27_42263  PC_203_32_51461  PC_600_863_4210  \\\n",
       "Month                                                                     \n",
       "Apr-09          2013                0                0                1   \n",
       "May-09          1776                0                0                1   \n",
       "Jun-09          2092                0                0                0   \n",
       "Jul-09          1793                0                0                2   \n",
       "Aug-09          1829               15                0                0   \n",
       "\n",
       "        PC_6735_61_3410  D30141135  600-181-6740I.  07063-51210I.  \\\n",
       "Month                                                               \n",
       "Apr-09                0        457             381            435   \n",
       "May-09                0        439             327            349   \n",
       "Jun-09                0        404             389            339   \n",
       "Jul-09                2        392             283            338   \n",
       "Aug-09                0        403             310            389   \n",
       "\n",
       "        600-319-4540I.  6735-51-5143I  07000-B2011I.  \n",
       "Month                                                 \n",
       "Apr-09             231            578             10  \n",
       "May-09             373            535             17  \n",
       "Jun-09             112            540             38  \n",
       "Jul-09             103            682             27  \n",
       "Aug-09             223            634             32  "
      ]
     },
     "execution_count": 11,
     "metadata": {},
     "output_type": "execute_result"
    }
   ],
   "source": [
    "df=df.dropna()\n",
    "print('shape of data',df.shape)\n",
    "df.head()"
   ]
  },
  {
   "cell_type": "code",
   "execution_count": 95,
   "metadata": {},
   "outputs": [
    {
     "data": {
      "text/plain": [
       "<matplotlib.axes._subplots.AxesSubplot at 0x22ce4b0>"
      ]
     },
     "execution_count": 95,
     "metadata": {},
     "output_type": "execute_result"
    },
    {
     "data": {
      "image/png": "[encoded data removed]",
      "text/plain": [
       "<Figure size 576x360 with 1 Axes>"
      ]
     },
     "metadata": {
      "needs_background": "light"
     },
     "output_type": "display_data"
    }
   ],
   "source": [
    "df.plot(figsize=(8,5),marker='.')"
   ]
  },
  {
   "cell_type": "code",
   "execution_count": 13,
   "metadata": {},
   "outputs": [
    {
     "data": {
      "text/plain": [
       "<matplotlib.axes._subplots.AxesSubplot at 0x1493a650>"
      ]
     },
     "execution_count": 13,
     "metadata": {},
     "output_type": "execute_result"
    },
    {
     "data": {
      "image/png": "[encoded data removed]",
      "text/plain": [
       "<Figure size 576x360 with 1 Axes>"
      ]
     },
     "metadata": {
      "needs_background": "light"
     },
     "output_type": "display_data"
    }
   ],
   "source": [
    "df[\"205-70-N1190\"].plot(figsize=(8,5),color=\"red\")"
   ]
  },
  {
   "cell_type": "code",
   "execution_count": 14,
   "metadata": {},
   "outputs": [
    {
     "data": {
      "text/plain": [
       "<matplotlib.axes._subplots.AxesSubplot at 0x147b1ef0>"
      ]
     },
     "execution_count": 14,
     "metadata": {},
     "output_type": "execute_result"
    },
    {
     "data": {
      "image/png": "[encoded data removed]",
      "text/plain": [
       "<Figure size 576x360 with 1 Axes>"
      ]
     },
     "metadata": {
      "needs_background": "light"
     },
     "output_type": "display_data"
    }
   ],
   "source": [
    "df['PC_198_27_42263'].plot(figsize=(8,5),color=\"purple\")"
   ]
  },
  {
   "cell_type": "code",
   "execution_count": 15,
   "metadata": {},
   "outputs": [
    {
     "data": {
      "text/plain": [
       "<matplotlib.axes._subplots.AxesSubplot at 0x1483d510>"
      ]
     },
     "execution_count": 15,
     "metadata": {},
     "output_type": "execute_result"
    },
    {
     "data": {
      "image/png": "[encoded data removed]",
      "text/plain": [
       "<Figure size 576x360 with 1 Axes>"
      ]
     },
     "metadata": {
      "needs_background": "light"
     },
     "output_type": "display_data"
    }
   ],
   "source": [
    "df['PC_203_32_51461'].plot(figsize=(8,5),color=\"black\")"
   ]
  },
  {
   "cell_type": "code",
   "execution_count": 16,
   "metadata": {},
   "outputs": [
    {
     "data": {
      "text/plain": [
       "<matplotlib.axes._subplots.AxesSubplot at 0x150f50b0>"
      ]
     },
     "execution_count": 16,
     "metadata": {},
     "output_type": "execute_result"
    },
    {
     "data": {
      "image/png": "[encoded data removed]",
      "text/plain": [
       "<Figure size 576x360 with 1 Axes>"
      ]
     },
     "metadata": {
      "needs_background": "light"
     },
     "output_type": "display_data"
    }
   ],
   "source": [
    "df['PC_600_863_4210'].plot(figsize=(8,5),color=\"navy\")"
   ]
  },
  {
   "cell_type": "code",
   "execution_count": 17,
   "metadata": {},
   "outputs": [
    {
     "data": {
      "text/plain": [
       "<matplotlib.axes._subplots.AxesSubplot at 0x1512e710>"
      ]
     },
     "execution_count": 17,
     "metadata": {},
     "output_type": "execute_result"
    },
    {
     "data": {
      "image/png": "[encoded data removed]",
      "text/plain": [
       "<Figure size 576x360 with 1 Axes>"
      ]
     },
     "metadata": {
      "needs_background": "light"
     },
     "output_type": "display_data"
    }
   ],
   "source": [
    "df['PC_6735_61_3410'].plot(figsize=(8,5),color=\"green\")"
   ]
  },
  {
   "cell_type": "code",
   "execution_count": 18,
   "metadata": {},
   "outputs": [
    {
     "data": {
      "text/plain": [
       "<matplotlib.axes._subplots.AxesSubplot at 0x1515bd10>"
      ]
     },
     "execution_count": 18,
     "metadata": {},
     "output_type": "execute_result"
    },
    {
     "data": {
      "image/png": "[encoded data removed]",
      "text/plain": [
       "<Figure size 576x360 with 1 Axes>"
      ]
     },
     "metadata": {
      "needs_background": "light"
     },
     "output_type": "display_data"
    }
   ],
   "source": [
    "df['D30141135'].plot(figsize=(8,5),color=\"blue\")"
   ]
  },
  {
   "cell_type": "code",
   "execution_count": 19,
   "metadata": {},
   "outputs": [
    {
     "data": {
      "text/plain": [
       "<matplotlib.axes._subplots.AxesSubplot at 0x151a9ab0>"
      ]
     },
     "execution_count": 19,
     "metadata": {},
     "output_type": "execute_result"
    },
    {
     "data": {
      "image/png": "[encoded data removed]",
      "text/plain": [
       "<Figure size 576x360 with 1 Axes>"
      ]
     },
     "metadata": {
      "needs_background": "light"
     },
     "output_type": "display_data"
    }
   ],
   "source": [
    "df['600-181-6740I.'].plot(figsize=(8,5),color=\"peru\")"
   ]
  },
  {
   "cell_type": "code",
   "execution_count": 20,
   "metadata": {},
   "outputs": [
    {
     "data": {
      "text/plain": [
       "<matplotlib.axes._subplots.AxesSubplot at 0x151d6650>"
      ]
     },
     "execution_count": 20,
     "metadata": {},
     "output_type": "execute_result"
    },
    {
     "data": {
      "image/png": "[encoded data removed]",
      "text/plain": [
       "<Figure size 576x360 with 1 Axes>"
      ]
     },
     "metadata": {
      "needs_background": "light"
     },
     "output_type": "display_data"
    }
   ],
   "source": [
    "df['07063-51210I.'].plot(figsize=(8,5),color=\"magenta\")"
   ]
  },
  {
   "cell_type": "code",
   "execution_count": 21,
   "metadata": {},
   "outputs": [
    {
     "data": {
      "text/plain": [
       "<matplotlib.axes._subplots.AxesSubplot at 0x15671b50>"
      ]
     },
     "execution_count": 21,
     "metadata": {},
     "output_type": "execute_result"
    },
    {
     "data": {
      "image/png": "[encoded data removed]",
      "text/plain": [
       "<Figure size 576x360 with 1 Axes>"
      ]
     },
     "metadata": {
      "needs_background": "light"
     },
     "output_type": "display_data"
    }
   ],
   "source": [
    "df['600-319-4540I.'].plot(figsize=(8,5),color=\"orange\")"
   ]
  },
  {
   "cell_type": "code",
   "execution_count": 22,
   "metadata": {},
   "outputs": [
    {
     "data": {
      "text/plain": [
       "<matplotlib.axes._subplots.AxesSubplot at 0x156a1cd0>"
      ]
     },
     "execution_count": 22,
     "metadata": {},
     "output_type": "execute_result"
    },
    {
     "data": {
      "image/png": "[encoded data removed]",
      "text/plain": [
       "<Figure size 576x360 with 1 Axes>"
      ]
     },
     "metadata": {
      "needs_background": "light"
     },
     "output_type": "display_data"
    }
   ],
   "source": [
    "df['6735-51-5143I'].plot(figsize=(8,5),color=\"grey\")"
   ]
  },
  {
   "cell_type": "code",
   "execution_count": 23,
   "metadata": {},
   "outputs": [
    {
     "data": {
      "text/plain": [
       "<matplotlib.axes._subplots.AxesSubplot at 0x1579c970>"
      ]
     },
     "execution_count": 23,
     "metadata": {},
     "output_type": "execute_result"
    },
    {
     "data": {
      "image/png": "[encoded data removed]",
      "text/plain": [
       "<Figure size 576x360 with 1 Axes>"
      ]
     },
     "metadata": {
      "needs_background": "light"
     },
     "output_type": "display_data"
    }
   ],
   "source": [
    "df['07000-B2011I.'].plot(figsize=(8,5),color=\"teal\")"
   ]
  },
  {
   "cell_type": "code",
   "execution_count": 24,
   "metadata": {},
   "outputs": [],
   "source": [
    "from statsmodels.tsa.stattools import adfuller"
   ]
  },
  {
   "cell_type": "code",
   "execution_count": 25,
   "metadata": {},
   "outputs": [],
   "source": [
    "def ad_test(df):\n",
    "    dftest= adfuller(df,autolag='AIC')\n",
    "    print(\"1. ADF:\",dftest[0])\n",
    "    print(\"2. p-Value:\",dftest[1])\n",
    "    print(\"3. Num of Lags:\",dftest[2])\n",
    "    print(\"4. No of observation used for ADF Regression and Critical Values Calculation:\",dftest[3])\n",
    "    print(\"5. Critical Values:\")\n",
    "    for key, val in dftest[4].items():\n",
    "        print(\"\\t\",key,\":\",val)"
   ]
  },
  {
   "cell_type": "code",
   "execution_count": 26,
   "metadata": {},
   "outputs": [
    {
     "name": "stdout",
     "output_type": "stream",
     "text": [
      "1. ADF: -5.499315051161124\n",
      "2. p-Value: 2.0886124359694823e-06\n",
      "3. Num of Lags: 0\n",
      "4. No of observation used for ADF Regression and Critical Values Calculation: 48\n",
      "5. Critical Values:\n",
      "\t 1% : -3.5745892596209488\n",
      "\t 5% : -2.9239543084490744\n",
      "\t 10% : -2.6000391840277777\n"
     ]
    }
   ],
   "source": [
    "ad_test(df[\"205-70-N1190\"])"
   ]
  },
  {
   "cell_type": "code",
   "execution_count": 27,
   "metadata": {},
   "outputs": [],
   "source": [
    "from pmdarima import auto_arima\n",
    "import warnings\n",
    "warnings.filterwarnings('ignore')"
   ]
  },
  {
   "cell_type": "code",
   "execution_count": 28,
   "metadata": {},
   "outputs": [
    {
     "name": "stdout",
     "output_type": "stream",
     "text": [
      "Performing stepwise search to minimize aic\n",
      " ARIMA(2,1,2)(0,0,0)[0] intercept   : AIC=800.361, Time=1.55 sec\n",
      " ARIMA(0,1,0)(0,0,0)[0] intercept   : AIC=820.587, Time=0.04 sec\n",
      " ARIMA(1,1,0)(0,0,0)[0] intercept   : AIC=806.454, Time=0.03 sec\n",
      " ARIMA(0,1,1)(0,0,0)[0] intercept   : AIC=794.890, Time=0.08 sec\n",
      " ARIMA(0,1,0)(0,0,0)[0]             : AIC=818.614, Time=0.02 sec\n",
      " ARIMA(1,1,1)(0,0,0)[0] intercept   : AIC=796.366, Time=0.16 sec\n",
      " ARIMA(0,1,2)(0,0,0)[0] intercept   : AIC=796.238, Time=0.19 sec\n",
      " ARIMA(1,1,2)(0,0,0)[0] intercept   : AIC=798.670, Time=0.38 sec\n",
      " ARIMA(0,1,1)(0,0,0)[0]             : AIC=793.489, Time=0.05 sec\n",
      " ARIMA(1,1,1)(0,0,0)[0]             : AIC=794.745, Time=0.09 sec\n",
      " ARIMA(0,1,2)(0,0,0)[0]             : AIC=794.542, Time=0.09 sec\n",
      " ARIMA(1,1,0)(0,0,0)[0]             : AIC=804.520, Time=0.02 sec\n",
      " ARIMA(1,1,2)(0,0,0)[0]             : AIC=796.096, Time=0.13 sec\n",
      "\n",
      "Best model:  ARIMA(0,1,1)(0,0,0)[0]          \n",
      "Total fit time: 3.181 seconds\n"
     ]
    },
    {
     "data": {
      "text/html": [
       "<table class=\"simpletable\">\n",
       "<caption>SARIMAX Results</caption>\n",
       "<tr>\n",
       "  <th>Dep. Variable:</th>           <td>y</td>        <th>  No. Observations:  </th>    <td>49</td>   \n",
       "</tr>\n",
       "<tr>\n",
       "  <th>Model:</th>           <td>SARIMAX(0, 1, 1)</td> <th>  Log Likelihood     </th> <td>-394.745</td>\n",
       "</tr>\n",
       "<tr>\n",
       "  <th>Date:</th>            <td>Mon, 23 Nov 2020</td> <th>  AIC                </th>  <td>793.489</td>\n",
       "</tr>\n",
       "<tr>\n",
       "  <th>Time:</th>                <td>23:19:26</td>     <th>  BIC                </th>  <td>797.232</td>\n",
       "</tr>\n",
       "<tr>\n",
       "  <th>Sample:</th>                  <td>0</td>        <th>  HQIC               </th>  <td>794.903</td>\n",
       "</tr>\n",
       "<tr>\n",
       "  <th></th>                       <td> - 49</td>      <th>                     </th>     <td> </td>   \n",
       "</tr>\n",
       "<tr>\n",
       "  <th>Covariance Type:</th>        <td>opg</td>       <th>                     </th>     <td> </td>   \n",
       "</tr>\n",
       "</table>\n",
       "<table class=\"simpletable\">\n",
       "<tr>\n",
       "     <td></td>       <th>coef</th>     <th>std err</th>      <th>z</th>      <th>P>|z|</th>  <th>[0.025</th>    <th>0.975]</th>  \n",
       "</tr>\n",
       "<tr>\n",
       "  <th>ma.L1</th>  <td>   -0.7958</td> <td>    0.089</td> <td>   -8.989</td> <td> 0.000</td> <td>   -0.969</td> <td>   -0.622</td>\n",
       "</tr>\n",
       "<tr>\n",
       "  <th>sigma2</th> <td>  7.97e+05</td> <td> 8.92e+04</td> <td>    8.933</td> <td> 0.000</td> <td> 6.22e+05</td> <td> 9.72e+05</td>\n",
       "</tr>\n",
       "</table>\n",
       "<table class=\"simpletable\">\n",
       "<tr>\n",
       "  <th>Ljung-Box (Q):</th>          <td>22.33</td> <th>  Jarque-Bera (JB):  </th> <td>46.45</td>\n",
       "</tr>\n",
       "<tr>\n",
       "  <th>Prob(Q):</th>                <td>0.99</td>  <th>  Prob(JB):          </th> <td>0.00</td> \n",
       "</tr>\n",
       "<tr>\n",
       "  <th>Heteroskedasticity (H):</th> <td>10.84</td> <th>  Skew:              </th> <td>0.99</td> \n",
       "</tr>\n",
       "<tr>\n",
       "  <th>Prob(H) (two-sided):</th>    <td>0.00</td>  <th>  Kurtosis:          </th> <td>7.40</td> \n",
       "</tr>\n",
       "</table><br/><br/>Warnings:<br/>[1] Covariance matrix calculated using the outer product of gradients (complex-step)."
      ],
      "text/plain": [
       "<class 'statsmodels.iolib.summary.Summary'>\n",
       "\"\"\"\n",
       "                               SARIMAX Results                                \n",
       "==============================================================================\n",
       "Dep. Variable:                      y   No. Observations:                   49\n",
       "Model:               SARIMAX(0, 1, 1)   Log Likelihood                -394.745\n",
       "Date:                Mon, 23 Nov 2020   AIC                            793.489\n",
       "Time:                        23:19:26   BIC                            797.232\n",
       "Sample:                             0   HQIC                           794.903\n",
       "                                 - 49                                         \n",
       "Covariance Type:                  opg                                         \n",
       "==============================================================================\n",
       "                 coef    std err          z      P>|z|      [0.025      0.975]\n",
       "------------------------------------------------------------------------------\n",
       "ma.L1         -0.7958      0.089     -8.989      0.000      -0.969      -0.622\n",
       "sigma2       7.97e+05   8.92e+04      8.933      0.000    6.22e+05    9.72e+05\n",
       "===================================================================================\n",
       "Ljung-Box (Q):                       22.33   Jarque-Bera (JB):                46.45\n",
       "Prob(Q):                              0.99   Prob(JB):                         0.00\n",
       "Heteroskedasticity (H):              10.84   Skew:                             0.99\n",
       "Prob(H) (two-sided):                  0.00   Kurtosis:                         7.40\n",
       "===================================================================================\n",
       "\n",
       "Warnings:\n",
       "[1] Covariance matrix calculated using the outer product of gradients (complex-step).\n",
       "\"\"\""
      ]
     },
     "execution_count": 28,
     "metadata": {},
     "output_type": "execute_result"
    }
   ],
   "source": [
    "stepwise_fit = auto_arima(df[\"205-70-N1190\"],trace=True,\n",
    "                         suppress_warnings=True)\n",
    "stepwise_fit.summary()"
   ]
  },
  {
   "cell_type": "code",
   "execution_count": 29,
   "metadata": {},
   "outputs": [],
   "source": [
    "from statsmodels.tsa.arima_model import ARIMA"
   ]
  },
  {
   "cell_type": "code",
   "execution_count": 30,
   "metadata": {},
   "outputs": [
    {
     "name": "stdout",
     "output_type": "stream",
     "text": [
      "(49, 11)\n",
      "(39, 11) (10, 11)\n"
     ]
    }
   ],
   "source": [
    "print(df.shape)\n",
    "train=df.iloc[:-10]\n",
    "test=df.iloc[:-39]\n",
    "print(train.shape,test.shape)"
   ]
  },
  {
   "cell_type": "code",
   "execution_count": 31,
   "metadata": {},
   "outputs": [
    {
     "data": {
      "text/html": [
       "<table class=\"simpletable\">\n",
       "<caption>ARIMA Model Results</caption>\n",
       "<tr>\n",
       "  <th>Dep. Variable:</th>  <td>D.205-70-N1190</td>  <th>  No. Observations:  </th>    <td>38</td>   \n",
       "</tr>\n",
       "<tr>\n",
       "  <th>Model:</th>          <td>ARIMA(0, 1, 1)</td>  <th>  Log Likelihood     </th> <td>-296.467</td>\n",
       "</tr>\n",
       "<tr>\n",
       "  <th>Method:</th>             <td>css-mle</td>     <th>  S.D. of innovations</th>  <td>582.827</td>\n",
       "</tr>\n",
       "<tr>\n",
       "  <th>Date:</th>          <td>Mon, 23 Nov 2020</td> <th>  AIC                </th>  <td>598.934</td>\n",
       "</tr>\n",
       "<tr>\n",
       "  <th>Time:</th>              <td>23:19:27</td>     <th>  BIC                </th>  <td>603.847</td>\n",
       "</tr>\n",
       "<tr>\n",
       "  <th>Sample:</th>                <td>1</td>        <th>  HQIC               </th>  <td>600.682</td>\n",
       "</tr>\n",
       "<tr>\n",
       "  <th></th>                       <td> </td>        <th>                     </th>     <td> </td>   \n",
       "</tr>\n",
       "</table>\n",
       "<table class=\"simpletable\">\n",
       "<tr>\n",
       "            <td></td>              <th>coef</th>     <th>std err</th>      <th>z</th>      <th>P>|z|</th>  <th>[0.025</th>    <th>0.975]</th>  \n",
       "</tr>\n",
       "<tr>\n",
       "  <th>const</th>                <td>   38.3690</td> <td>   20.202</td> <td>    1.899</td> <td> 0.058</td> <td>   -1.227</td> <td>   77.965</td>\n",
       "</tr>\n",
       "<tr>\n",
       "  <th>ma.L1.D.205-70-N1190</th> <td>   -0.8239</td> <td>    0.144</td> <td>   -5.733</td> <td> 0.000</td> <td>   -1.105</td> <td>   -0.542</td>\n",
       "</tr>\n",
       "</table>\n",
       "<table class=\"simpletable\">\n",
       "<caption>Roots</caption>\n",
       "<tr>\n",
       "    <td></td>   <th>            Real</th>  <th>         Imaginary</th> <th>         Modulus</th>  <th>        Frequency</th>\n",
       "</tr>\n",
       "<tr>\n",
       "  <th>MA.1</th> <td>           1.2138</td> <td>          +0.0000j</td> <td>           1.2138</td> <td>           0.0000</td>\n",
       "</tr>\n",
       "</table>"
      ],
      "text/plain": [
       "<class 'statsmodels.iolib.summary.Summary'>\n",
       "\"\"\"\n",
       "                             ARIMA Model Results                              \n",
       "==============================================================================\n",
       "Dep. Variable:         D.205-70-N1190   No. Observations:                   38\n",
       "Model:                 ARIMA(0, 1, 1)   Log Likelihood                -296.467\n",
       "Method:                       css-mle   S.D. of innovations            582.827\n",
       "Date:                Mon, 23 Nov 2020   AIC                            598.934\n",
       "Time:                        23:19:27   BIC                            603.847\n",
       "Sample:                             1   HQIC                           600.682\n",
       "                                                                              \n",
       "========================================================================================\n",
       "                           coef    std err          z      P>|z|      [0.025      0.975]\n",
       "----------------------------------------------------------------------------------------\n",
       "const                   38.3690     20.202      1.899      0.058      -1.227      77.965\n",
       "ma.L1.D.205-70-N1190    -0.8239      0.144     -5.733      0.000      -1.105      -0.542\n",
       "                                    Roots                                    \n",
       "=============================================================================\n",
       "                  Real          Imaginary           Modulus         Frequency\n",
       "-----------------------------------------------------------------------------\n",
       "MA.1            1.2138           +0.0000j            1.2138            0.0000\n",
       "-----------------------------------------------------------------------------\n",
       "\"\"\""
      ]
     },
     "execution_count": 31,
     "metadata": {},
     "output_type": "execute_result"
    }
   ],
   "source": [
    "model=ARIMA(train[\"205-70-N1190\"],order=(0,1,1))\n",
    "model=model.fit()\n",
    "model.summary()"
   ]
  },
  {
   "cell_type": "code",
   "execution_count": 32,
   "metadata": {},
   "outputs": [
    {
     "name": "stdout",
     "output_type": "stream",
     "text": [
      "38    3254.517910\n",
      "39    3292.886922\n",
      "40    3331.255934\n",
      "41    3369.624946\n",
      "42    3407.993958\n",
      "43    3446.362971\n",
      "44    3484.731983\n",
      "45    3523.100995\n",
      "46    3561.470007\n",
      "47    3599.839019\n",
      "dtype: float64\n"
     ]
    }
   ],
   "source": [
    "start=len(train)\n",
    "end=len(train)+len(test)-1\n",
    "pred=model.predict(start=start,end=end,typ='levels')\n",
    "print(pred)\n",
    "pred.index=df.index[start:end+1]"
   ]
  },
  {
   "cell_type": "code",
   "execution_count": 33,
   "metadata": {},
   "outputs": [
    {
     "data": {
      "text/plain": [
       "<matplotlib.axes._subplots.AxesSubplot at 0x15324bf0>"
      ]
     },
     "execution_count": 33,
     "metadata": {},
     "output_type": "execute_result"
    },
    {
     "data": {
      "image/png": "[encoded data removed]",
      "text/plain": [
       "<Figure size 432x288 with 1 Axes>"
      ]
     },
     "metadata": {
      "needs_background": "light"
     },
     "output_type": "display_data"
    }
   ],
   "source": [
    "pred.plot(legend=True)\n",
    "test[\"205-70-N1190\"].plot(legend=True)"
   ]
  },
  {
   "cell_type": "code",
   "execution_count": 34,
   "metadata": {},
   "outputs": [
    {
     "data": {
      "text/plain": [
       "1968.3"
      ]
     },
     "execution_count": 34,
     "metadata": {},
     "output_type": "execute_result"
    }
   ],
   "source": [
    "test['205-70-N1190'].mean()"
   ]
  },
  {
   "cell_type": "code",
   "execution_count": 35,
   "metadata": {},
   "outputs": [
    {
     "name": "stdout",
     "output_type": "stream",
     "text": [
      "1481.1908649865084\n"
     ]
    }
   ],
   "source": [
    "from sklearn.metrics import mean_squared_error\n",
    "from math import sqrt\n",
    "rmse=sqrt(mean_squared_error(pred,test['205-70-N1190']))\n",
    "print(rmse)"
   ]
  },
  {
   "cell_type": "code",
   "execution_count": 36,
   "metadata": {},
   "outputs": [
    {
     "data": {
      "text/html": [
       "<div>\n",
       "<style scoped>\n",
       "    .dataframe tbody tr th:only-of-type {\n",
       "        vertical-align: middle;\n",
       "    }\n",
       "\n",
       "    .dataframe tbody tr th {\n",
       "        vertical-align: top;\n",
       "    }\n",
       "\n",
       "    .dataframe thead th {\n",
       "        text-align: right;\n",
       "    }\n",
       "</style>\n",
       "<table border=\"1\" class=\"dataframe\">\n",
       "  <thead>\n",
       "    <tr style=\"text-align: right;\">\n",
       "      <th></th>\n",
       "      <th>205-70-N1190</th>\n",
       "      <th>PC_198_27_42263</th>\n",
       "      <th>PC_203_32_51461</th>\n",
       "      <th>PC_600_863_4210</th>\n",
       "      <th>PC_6735_61_3410</th>\n",
       "      <th>D30141135</th>\n",
       "      <th>600-181-6740I.</th>\n",
       "      <th>07063-51210I.</th>\n",
       "      <th>600-319-4540I.</th>\n",
       "      <th>6735-51-5143I</th>\n",
       "      <th>07000-B2011I.</th>\n",
       "    </tr>\n",
       "    <tr>\n",
       "      <th>Month</th>\n",
       "      <th></th>\n",
       "      <th></th>\n",
       "      <th></th>\n",
       "      <th></th>\n",
       "      <th></th>\n",
       "      <th></th>\n",
       "      <th></th>\n",
       "      <th></th>\n",
       "      <th></th>\n",
       "      <th></th>\n",
       "      <th></th>\n",
       "    </tr>\n",
       "  </thead>\n",
       "  <tbody>\n",
       "    <tr>\n",
       "      <td>Dec-12</td>\n",
       "      <td>3003</td>\n",
       "      <td>40</td>\n",
       "      <td>7</td>\n",
       "      <td>1</td>\n",
       "      <td>3</td>\n",
       "      <td>328</td>\n",
       "      <td>285</td>\n",
       "      <td>532</td>\n",
       "      <td>736</td>\n",
       "      <td>382</td>\n",
       "      <td>46</td>\n",
       "    </tr>\n",
       "    <tr>\n",
       "      <td>Jan-13</td>\n",
       "      <td>2428</td>\n",
       "      <td>51</td>\n",
       "      <td>5</td>\n",
       "      <td>2</td>\n",
       "      <td>0</td>\n",
       "      <td>328</td>\n",
       "      <td>245</td>\n",
       "      <td>515</td>\n",
       "      <td>592</td>\n",
       "      <td>418</td>\n",
       "      <td>22</td>\n",
       "    </tr>\n",
       "    <tr>\n",
       "      <td>Feb-13</td>\n",
       "      <td>1970</td>\n",
       "      <td>130</td>\n",
       "      <td>0</td>\n",
       "      <td>1</td>\n",
       "      <td>5</td>\n",
       "      <td>299</td>\n",
       "      <td>267</td>\n",
       "      <td>629</td>\n",
       "      <td>786</td>\n",
       "      <td>748</td>\n",
       "      <td>34</td>\n",
       "    </tr>\n",
       "    <tr>\n",
       "      <td>Mar-13</td>\n",
       "      <td>1849</td>\n",
       "      <td>75</td>\n",
       "      <td>0</td>\n",
       "      <td>0</td>\n",
       "      <td>4</td>\n",
       "      <td>396</td>\n",
       "      <td>273</td>\n",
       "      <td>494</td>\n",
       "      <td>842</td>\n",
       "      <td>594</td>\n",
       "      <td>64</td>\n",
       "    </tr>\n",
       "    <tr>\n",
       "      <td>Apr-13</td>\n",
       "      <td>3394</td>\n",
       "      <td>0</td>\n",
       "      <td>0</td>\n",
       "      <td>0</td>\n",
       "      <td>0</td>\n",
       "      <td>359</td>\n",
       "      <td>286</td>\n",
       "      <td>500</td>\n",
       "      <td>676</td>\n",
       "      <td>552</td>\n",
       "      <td>39</td>\n",
       "    </tr>\n",
       "  </tbody>\n",
       "</table>\n",
       "</div>"
      ],
      "text/plain": [
       "        205-70-N1190  PC_198_27_42263  PC_203_32_51461  PC_600_863_4210  \\\n",
       "Month                                                                     \n",
       "Dec-12          3003               40                7                1   \n",
       "Jan-13          2428               51                5                2   \n",
       "Feb-13          1970              130                0                1   \n",
       "Mar-13          1849               75                0                0   \n",
       "Apr-13          3394                0                0                0   \n",
       "\n",
       "        PC_6735_61_3410  D30141135  600-181-6740I.  07063-51210I.  \\\n",
       "Month                                                               \n",
       "Dec-12                3        328             285            532   \n",
       "Jan-13                0        328             245            515   \n",
       "Feb-13                5        299             267            629   \n",
       "Mar-13                4        396             273            494   \n",
       "Apr-13                0        359             286            500   \n",
       "\n",
       "        600-319-4540I.  6735-51-5143I  07000-B2011I.  \n",
       "Month                                                 \n",
       "Dec-12             736            382             46  \n",
       "Jan-13             592            418             22  \n",
       "Feb-13             786            748             34  \n",
       "Mar-13             842            594             64  \n",
       "Apr-13             676            552             39  "
      ]
     },
     "execution_count": 36,
     "metadata": {},
     "output_type": "execute_result"
    }
   ],
   "source": [
    "model2=ARIMA(df['205-70-N1190'],order=(0,1,1))\n",
    "model2=model2.fit()\n",
    "df.tail()"
   ]
  },
  {
   "cell_type": "code",
   "execution_count": 37,
   "metadata": {},
   "outputs": [],
   "source": [
    "index_future_dates=pd.date_range(start='2013-04-01',end='2014-03-31')\n",
    "pred=model2.predict(start=len(df),end=len(df)+364,typ='levels').rename('ARIMA Predictions')\n",
    "pred.index=index_future_dates"
   ]
  },
  {
   "cell_type": "code",
   "execution_count": 38,
   "metadata": {},
   "outputs": [
    {
     "data": {
      "text/plain": [
       "Text(0, 0.5, 'Prediction')"
      ]
     },
     "execution_count": 38,
     "metadata": {},
     "output_type": "execute_result"
    },
    {
     "data": {
      "image/png": "[encoded data removed]",
      "text/plain": [
       "<Figure size 720x432 with 1 Axes>"
      ]
     },
     "metadata": {
      "needs_background": "light"
     },
     "output_type": "display_data"
    }
   ],
   "source": [
    "pred.plot(figsize=(10,6),legend=True,color='maroon',marker='.')\n",
    "plt.title(\"PREDICTION OF 205-70-N1190 FOR 1 YEAR\",fontsize=17)\n",
    "plt.xlabel(\"Month\",fontsize=15)\n",
    "plt.ylabel(\"Prediction\",fontsize=15)"
   ]
  },
  {
   "cell_type": "code",
   "execution_count": 39,
   "metadata": {},
   "outputs": [],
   "source": [
    "from statsmodels.tsa.stattools import adfuller"
   ]
  },
  {
   "cell_type": "code",
   "execution_count": 40,
   "metadata": {},
   "outputs": [],
   "source": [
    "def ad_test(df):\n",
    "    dftest= adfuller(df,autolag='AIC')\n",
    "    print(\"1. ADF:\",dftest[0])\n",
    "    print(\"2. p-Value:\",dftest[1])\n",
    "    print(\"3. Num of Lags:\",dftest[2])\n",
    "    print(\"4. No of observation used for ADF Regression and Critical Values Calculation:\",dftest[3])\n",
    "    print(\"5. Critical Values:\")\n",
    "    for key, val in dftest[4].items():\n",
    "        print(\"\\t\",key,\":\",val)"
   ]
  },
  {
   "cell_type": "code",
   "execution_count": 41,
   "metadata": {},
   "outputs": [
    {
     "name": "stdout",
     "output_type": "stream",
     "text": [
      "1. ADF: 0.14753106318677792\n",
      "2. p-Value: 0.9691603816743919\n",
      "3. Num of Lags: 6\n",
      "4. No of observation used for ADF Regression and Critical Values Calculation: 42\n",
      "5. Critical Values:\n",
      "\t 1% : -3.596635636000432\n",
      "\t 5% : -2.933297331821618\n",
      "\t 10% : -2.6049909750566895\n"
     ]
    }
   ],
   "source": [
    "ad_test(df[\"PC_198_27_42263\"])"
   ]
  },
  {
   "cell_type": "code",
   "execution_count": 42,
   "metadata": {},
   "outputs": [],
   "source": [
    "from pmdarima import auto_arima\n",
    "import warnings\n",
    "warnings.filterwarnings('ignore')"
   ]
  },
  {
   "cell_type": "code",
   "execution_count": 43,
   "metadata": {},
   "outputs": [
    {
     "name": "stdout",
     "output_type": "stream",
     "text": [
      "Performing stepwise search to minimize aic\n",
      " ARIMA(2,1,2)(0,0,0)[0] intercept   : AIC=inf, Time=0.42 sec\n",
      " ARIMA(0,1,0)(0,0,0)[0] intercept   : AIC=479.708, Time=0.00 sec\n",
      " ARIMA(1,1,0)(0,0,0)[0] intercept   : AIC=474.244, Time=0.03 sec\n",
      " ARIMA(0,1,1)(0,0,0)[0] intercept   : AIC=inf, Time=0.11 sec\n",
      " ARIMA(0,1,0)(0,0,0)[0]             : AIC=477.708, Time=0.02 sec\n",
      " ARIMA(2,1,0)(0,0,0)[0] intercept   : AIC=470.884, Time=0.09 sec\n",
      " ARIMA(3,1,0)(0,0,0)[0] intercept   : AIC=470.061, Time=0.08 sec\n",
      " ARIMA(4,1,0)(0,0,0)[0] intercept   : AIC=469.442, Time=0.13 sec\n",
      " ARIMA(5,1,0)(0,0,0)[0] intercept   : AIC=470.897, Time=0.14 sec\n",
      " ARIMA(4,1,1)(0,0,0)[0] intercept   : AIC=inf, Time=0.42 sec\n",
      " ARIMA(3,1,1)(0,0,0)[0] intercept   : AIC=inf, Time=0.36 sec\n",
      " ARIMA(5,1,1)(0,0,0)[0] intercept   : AIC=inf, Time=0.55 sec\n",
      " ARIMA(4,1,0)(0,0,0)[0]             : AIC=468.123, Time=0.11 sec\n",
      " ARIMA(3,1,0)(0,0,0)[0]             : AIC=468.482, Time=0.06 sec\n",
      " ARIMA(5,1,0)(0,0,0)[0]             : AIC=469.709, Time=0.11 sec\n",
      " ARIMA(4,1,1)(0,0,0)[0]             : AIC=463.904, Time=0.13 sec\n",
      " ARIMA(3,1,1)(0,0,0)[0]             : AIC=462.951, Time=0.13 sec\n",
      " ARIMA(2,1,1)(0,0,0)[0]             : AIC=461.516, Time=0.09 sec\n",
      " ARIMA(1,1,1)(0,0,0)[0]             : AIC=460.156, Time=0.05 sec\n",
      " ARIMA(0,1,1)(0,0,0)[0]             : AIC=458.390, Time=0.03 sec\n",
      " ARIMA(0,1,2)(0,0,0)[0]             : AIC=460.082, Time=0.05 sec\n",
      " ARIMA(1,1,0)(0,0,0)[0]             : AIC=472.262, Time=0.03 sec\n",
      " ARIMA(1,1,2)(0,0,0)[0]             : AIC=459.935, Time=0.17 sec\n",
      "\n",
      "Best model:  ARIMA(0,1,1)(0,0,0)[0]          \n",
      "Total fit time: 3.306 seconds\n"
     ]
    },
    {
     "data": {
      "text/html": [
       "<table class=\"simpletable\">\n",
       "<caption>SARIMAX Results</caption>\n",
       "<tr>\n",
       "  <th>Dep. Variable:</th>           <td>y</td>        <th>  No. Observations:  </th>    <td>49</td>   \n",
       "</tr>\n",
       "<tr>\n",
       "  <th>Model:</th>           <td>SARIMAX(0, 1, 1)</td> <th>  Log Likelihood     </th> <td>-227.195</td>\n",
       "</tr>\n",
       "<tr>\n",
       "  <th>Date:</th>            <td>Mon, 23 Nov 2020</td> <th>  AIC                </th>  <td>458.390</td>\n",
       "</tr>\n",
       "<tr>\n",
       "  <th>Time:</th>                <td>23:19:34</td>     <th>  BIC                </th>  <td>462.133</td>\n",
       "</tr>\n",
       "<tr>\n",
       "  <th>Sample:</th>                  <td>0</td>        <th>  HQIC               </th>  <td>459.804</td>\n",
       "</tr>\n",
       "<tr>\n",
       "  <th></th>                       <td> - 49</td>      <th>                     </th>     <td> </td>   \n",
       "</tr>\n",
       "<tr>\n",
       "  <th>Covariance Type:</th>        <td>opg</td>       <th>                     </th>     <td> </td>   \n",
       "</tr>\n",
       "</table>\n",
       "<table class=\"simpletable\">\n",
       "<tr>\n",
       "     <td></td>       <th>coef</th>     <th>std err</th>      <th>z</th>      <th>P>|z|</th>  <th>[0.025</th>    <th>0.975]</th>  \n",
       "</tr>\n",
       "<tr>\n",
       "  <th>ma.L1</th>  <td>   -0.8534</td> <td>    0.070</td> <td>  -12.273</td> <td> 0.000</td> <td>   -0.990</td> <td>   -0.717</td>\n",
       "</tr>\n",
       "<tr>\n",
       "  <th>sigma2</th> <td>  736.1721</td> <td>   96.326</td> <td>    7.642</td> <td> 0.000</td> <td>  547.376</td> <td>  924.968</td>\n",
       "</tr>\n",
       "</table>\n",
       "<table class=\"simpletable\">\n",
       "<tr>\n",
       "  <th>Ljung-Box (Q):</th>          <td>66.99</td> <th>  Jarque-Bera (JB):  </th> <td>25.90</td>\n",
       "</tr>\n",
       "<tr>\n",
       "  <th>Prob(Q):</th>                <td>0.00</td>  <th>  Prob(JB):          </th> <td>0.00</td> \n",
       "</tr>\n",
       "<tr>\n",
       "  <th>Heteroskedasticity (H):</th> <td>7.10</td>  <th>  Skew:              </th> <td>1.33</td> \n",
       "</tr>\n",
       "<tr>\n",
       "  <th>Prob(H) (two-sided):</th>    <td>0.00</td>  <th>  Kurtosis:          </th> <td>5.41</td> \n",
       "</tr>\n",
       "</table><br/><br/>Warnings:<br/>[1] Covariance matrix calculated using the outer product of gradients (complex-step)."
      ],
      "text/plain": [
       "<class 'statsmodels.iolib.summary.Summary'>\n",
       "\"\"\"\n",
       "                               SARIMAX Results                                \n",
       "==============================================================================\n",
       "Dep. Variable:                      y   No. Observations:                   49\n",
       "Model:               SARIMAX(0, 1, 1)   Log Likelihood                -227.195\n",
       "Date:                Mon, 23 Nov 2020   AIC                            458.390\n",
       "Time:                        23:19:34   BIC                            462.133\n",
       "Sample:                             0   HQIC                           459.804\n",
       "                                 - 49                                         \n",
       "Covariance Type:                  opg                                         \n",
       "==============================================================================\n",
       "                 coef    std err          z      P>|z|      [0.025      0.975]\n",
       "------------------------------------------------------------------------------\n",
       "ma.L1         -0.8534      0.070    -12.273      0.000      -0.990      -0.717\n",
       "sigma2       736.1721     96.326      7.642      0.000     547.376     924.968\n",
       "===================================================================================\n",
       "Ljung-Box (Q):                       66.99   Jarque-Bera (JB):                25.90\n",
       "Prob(Q):                              0.00   Prob(JB):                         0.00\n",
       "Heteroskedasticity (H):               7.10   Skew:                             1.33\n",
       "Prob(H) (two-sided):                  0.00   Kurtosis:                         5.41\n",
       "===================================================================================\n",
       "\n",
       "Warnings:\n",
       "[1] Covariance matrix calculated using the outer product of gradients (complex-step).\n",
       "\"\"\""
      ]
     },
     "execution_count": 43,
     "metadata": {},
     "output_type": "execute_result"
    }
   ],
   "source": [
    "stepwise_fit = auto_arima(df[\"PC_198_27_42263\"],trace=True,\n",
    "                         suppress_warnings=True)\n",
    "stepwise_fit.summary()"
   ]
  },
  {
   "cell_type": "code",
   "execution_count": 44,
   "metadata": {},
   "outputs": [],
   "source": [
    "from statsmodels.tsa.arima_model import ARIMA"
   ]
  },
  {
   "cell_type": "code",
   "execution_count": 45,
   "metadata": {},
   "outputs": [
    {
     "name": "stdout",
     "output_type": "stream",
     "text": [
      "(49, 11)\n",
      "(39, 11) (10, 11)\n"
     ]
    }
   ],
   "source": [
    "print(df.shape)\n",
    "train=df.iloc[:-10]\n",
    "test=df.iloc[:-39]\n",
    "print(train.shape,test.shape)"
   ]
  },
  {
   "cell_type": "code",
   "execution_count": 46,
   "metadata": {},
   "outputs": [
    {
     "data": {
      "text/html": [
       "<table class=\"simpletable\">\n",
       "<caption>ARIMA Model Results</caption>\n",
       "<tr>\n",
       "  <th>Dep. Variable:</th> <td>D.PC_198_27_42263</td> <th>  No. Observations:  </th>    <td>38</td>   \n",
       "</tr>\n",
       "<tr>\n",
       "  <th>Model:</th>          <td>ARIMA(0, 1, 1)</td>   <th>  Log Likelihood     </th> <td>-170.570</td>\n",
       "</tr>\n",
       "<tr>\n",
       "  <th>Method:</th>             <td>css-mle</td>      <th>  S.D. of innovations</th>  <td>20.523</td> \n",
       "</tr>\n",
       "<tr>\n",
       "  <th>Date:</th>          <td>Mon, 23 Nov 2020</td>  <th>  AIC                </th>  <td>347.140</td>\n",
       "</tr>\n",
       "<tr>\n",
       "  <th>Time:</th>              <td>23:19:34</td>      <th>  BIC                </th>  <td>352.052</td>\n",
       "</tr>\n",
       "<tr>\n",
       "  <th>Sample:</th>                <td>1</td>         <th>  HQIC               </th>  <td>348.888</td>\n",
       "</tr>\n",
       "<tr>\n",
       "  <th></th>                       <td> </td>         <th>                     </th>     <td> </td>   \n",
       "</tr>\n",
       "</table>\n",
       "<table class=\"simpletable\">\n",
       "<tr>\n",
       "             <td></td>                <th>coef</th>     <th>std err</th>      <th>z</th>      <th>P>|z|</th>  <th>[0.025</th>    <th>0.975]</th>  \n",
       "</tr>\n",
       "<tr>\n",
       "  <th>const</th>                   <td>    0.6538</td> <td>    0.292</td> <td>    2.239</td> <td> 0.025</td> <td>    0.082</td> <td>    1.226</td>\n",
       "</tr>\n",
       "<tr>\n",
       "  <th>ma.L1.D.PC_198_27_42263</th> <td>   -1.0000</td> <td>    0.069</td> <td>  -14.587</td> <td> 0.000</td> <td>   -1.134</td> <td>   -0.866</td>\n",
       "</tr>\n",
       "</table>\n",
       "<table class=\"simpletable\">\n",
       "<caption>Roots</caption>\n",
       "<tr>\n",
       "    <td></td>   <th>            Real</th>  <th>         Imaginary</th> <th>         Modulus</th>  <th>        Frequency</th>\n",
       "</tr>\n",
       "<tr>\n",
       "  <th>MA.1</th> <td>           1.0000</td> <td>          +0.0000j</td> <td>           1.0000</td> <td>           0.0000</td>\n",
       "</tr>\n",
       "</table>"
      ],
      "text/plain": [
       "<class 'statsmodels.iolib.summary.Summary'>\n",
       "\"\"\"\n",
       "                             ARIMA Model Results                              \n",
       "==============================================================================\n",
       "Dep. Variable:      D.PC_198_27_42263   No. Observations:                   38\n",
       "Model:                 ARIMA(0, 1, 1)   Log Likelihood                -170.570\n",
       "Method:                       css-mle   S.D. of innovations             20.523\n",
       "Date:                Mon, 23 Nov 2020   AIC                            347.140\n",
       "Time:                        23:19:34   BIC                            352.052\n",
       "Sample:                             1   HQIC                           348.888\n",
       "                                                                              \n",
       "===========================================================================================\n",
       "                              coef    std err          z      P>|z|      [0.025      0.975]\n",
       "-------------------------------------------------------------------------------------------\n",
       "const                       0.6538      0.292      2.239      0.025       0.082       1.226\n",
       "ma.L1.D.PC_198_27_42263    -1.0000      0.069    -14.587      0.000      -1.134      -0.866\n",
       "                                    Roots                                    \n",
       "=============================================================================\n",
       "                  Real          Imaginary           Modulus         Frequency\n",
       "-----------------------------------------------------------------------------\n",
       "MA.1            1.0000           +0.0000j            1.0000            0.0000\n",
       "-----------------------------------------------------------------------------\n",
       "\"\"\""
      ]
     },
     "execution_count": 46,
     "metadata": {},
     "output_type": "execute_result"
    }
   ],
   "source": [
    "model=ARIMA(train[\"PC_198_27_42263\"],order=(0,1,1))\n",
    "model=model.fit()\n",
    "model.summary()"
   ]
  },
  {
   "cell_type": "code",
   "execution_count": 47,
   "metadata": {},
   "outputs": [
    {
     "name": "stdout",
     "output_type": "stream",
     "text": [
      "38    27.798583\n",
      "39    28.452429\n",
      "40    29.106276\n",
      "41    29.760122\n",
      "42    30.413968\n",
      "43    31.067814\n",
      "44    31.721660\n",
      "45    32.375507\n",
      "46    33.029353\n",
      "47    33.683199\n",
      "dtype: float64\n"
     ]
    }
   ],
   "source": [
    "start=len(train)\n",
    "end=len(train)+len(test)-1\n",
    "pred=model.predict(start=start,end=end,typ='levels')\n",
    "print(pred)\n",
    "pred.index=df.index[start:end+1]"
   ]
  },
  {
   "cell_type": "code",
   "execution_count": 48,
   "metadata": {},
   "outputs": [
    {
     "data": {
      "text/plain": [
       "<matplotlib.axes._subplots.AxesSubplot at 0x1829d6b0>"
      ]
     },
     "execution_count": 48,
     "metadata": {},
     "output_type": "execute_result"
    },
    {
     "data": {
      "image/png": "[encoded data removed]",
      "text/plain": [
       "<Figure size 432x288 with 1 Axes>"
      ]
     },
     "metadata": {
      "needs_background": "light"
     },
     "output_type": "display_data"
    }
   ],
   "source": [
    "pred.plot(legend=True)\n",
    "test[\"PC_198_27_42263\"].plot(legend=True)"
   ]
  },
  {
   "cell_type": "code",
   "execution_count": 49,
   "metadata": {},
   "outputs": [
    {
     "data": {
      "text/plain": [
       "3.5"
      ]
     },
     "execution_count": 49,
     "metadata": {},
     "output_type": "execute_result"
    }
   ],
   "source": [
    "test['PC_198_27_42263'].mean()"
   ]
  },
  {
   "cell_type": "code",
   "execution_count": 50,
   "metadata": {},
   "outputs": [
    {
     "name": "stdout",
     "output_type": "stream",
     "text": [
      "27.902592728521068\n"
     ]
    }
   ],
   "source": [
    "from sklearn.metrics import mean_squared_error\n",
    "from math import sqrt\n",
    "rmse1=sqrt(mean_squared_error(pred,test['PC_198_27_42263']))\n",
    "print(rmse1)"
   ]
  },
  {
   "cell_type": "code",
   "execution_count": 51,
   "metadata": {},
   "outputs": [
    {
     "data": {
      "text/html": [
       "<div>\n",
       "<style scoped>\n",
       "    .dataframe tbody tr th:only-of-type {\n",
       "        vertical-align: middle;\n",
       "    }\n",
       "\n",
       "    .dataframe tbody tr th {\n",
       "        vertical-align: top;\n",
       "    }\n",
       "\n",
       "    .dataframe thead th {\n",
       "        text-align: right;\n",
       "    }\n",
       "</style>\n",
       "<table border=\"1\" class=\"dataframe\">\n",
       "  <thead>\n",
       "    <tr style=\"text-align: right;\">\n",
       "      <th></th>\n",
       "      <th>205-70-N1190</th>\n",
       "      <th>PC_198_27_42263</th>\n",
       "      <th>PC_203_32_51461</th>\n",
       "      <th>PC_600_863_4210</th>\n",
       "      <th>PC_6735_61_3410</th>\n",
       "      <th>D30141135</th>\n",
       "      <th>600-181-6740I.</th>\n",
       "      <th>07063-51210I.</th>\n",
       "      <th>600-319-4540I.</th>\n",
       "      <th>6735-51-5143I</th>\n",
       "      <th>07000-B2011I.</th>\n",
       "    </tr>\n",
       "    <tr>\n",
       "      <th>Month</th>\n",
       "      <th></th>\n",
       "      <th></th>\n",
       "      <th></th>\n",
       "      <th></th>\n",
       "      <th></th>\n",
       "      <th></th>\n",
       "      <th></th>\n",
       "      <th></th>\n",
       "      <th></th>\n",
       "      <th></th>\n",
       "      <th></th>\n",
       "    </tr>\n",
       "  </thead>\n",
       "  <tbody>\n",
       "    <tr>\n",
       "      <td>Dec-12</td>\n",
       "      <td>3003</td>\n",
       "      <td>40</td>\n",
       "      <td>7</td>\n",
       "      <td>1</td>\n",
       "      <td>3</td>\n",
       "      <td>328</td>\n",
       "      <td>285</td>\n",
       "      <td>532</td>\n",
       "      <td>736</td>\n",
       "      <td>382</td>\n",
       "      <td>46</td>\n",
       "    </tr>\n",
       "    <tr>\n",
       "      <td>Jan-13</td>\n",
       "      <td>2428</td>\n",
       "      <td>51</td>\n",
       "      <td>5</td>\n",
       "      <td>2</td>\n",
       "      <td>0</td>\n",
       "      <td>328</td>\n",
       "      <td>245</td>\n",
       "      <td>515</td>\n",
       "      <td>592</td>\n",
       "      <td>418</td>\n",
       "      <td>22</td>\n",
       "    </tr>\n",
       "    <tr>\n",
       "      <td>Feb-13</td>\n",
       "      <td>1970</td>\n",
       "      <td>130</td>\n",
       "      <td>0</td>\n",
       "      <td>1</td>\n",
       "      <td>5</td>\n",
       "      <td>299</td>\n",
       "      <td>267</td>\n",
       "      <td>629</td>\n",
       "      <td>786</td>\n",
       "      <td>748</td>\n",
       "      <td>34</td>\n",
       "    </tr>\n",
       "    <tr>\n",
       "      <td>Mar-13</td>\n",
       "      <td>1849</td>\n",
       "      <td>75</td>\n",
       "      <td>0</td>\n",
       "      <td>0</td>\n",
       "      <td>4</td>\n",
       "      <td>396</td>\n",
       "      <td>273</td>\n",
       "      <td>494</td>\n",
       "      <td>842</td>\n",
       "      <td>594</td>\n",
       "      <td>64</td>\n",
       "    </tr>\n",
       "    <tr>\n",
       "      <td>Apr-13</td>\n",
       "      <td>3394</td>\n",
       "      <td>0</td>\n",
       "      <td>0</td>\n",
       "      <td>0</td>\n",
       "      <td>0</td>\n",
       "      <td>359</td>\n",
       "      <td>286</td>\n",
       "      <td>500</td>\n",
       "      <td>676</td>\n",
       "      <td>552</td>\n",
       "      <td>39</td>\n",
       "    </tr>\n",
       "  </tbody>\n",
       "</table>\n",
       "</div>"
      ],
      "text/plain": [
       "        205-70-N1190  PC_198_27_42263  PC_203_32_51461  PC_600_863_4210  \\\n",
       "Month                                                                     \n",
       "Dec-12          3003               40                7                1   \n",
       "Jan-13          2428               51                5                2   \n",
       "Feb-13          1970              130                0                1   \n",
       "Mar-13          1849               75                0                0   \n",
       "Apr-13          3394                0                0                0   \n",
       "\n",
       "        PC_6735_61_3410  D30141135  600-181-6740I.  07063-51210I.  \\\n",
       "Month                                                               \n",
       "Dec-12                3        328             285            532   \n",
       "Jan-13                0        328             245            515   \n",
       "Feb-13                5        299             267            629   \n",
       "Mar-13                4        396             273            494   \n",
       "Apr-13                0        359             286            500   \n",
       "\n",
       "        600-319-4540I.  6735-51-5143I  07000-B2011I.  \n",
       "Month                                                 \n",
       "Dec-12             736            382             46  \n",
       "Jan-13             592            418             22  \n",
       "Feb-13             786            748             34  \n",
       "Mar-13             842            594             64  \n",
       "Apr-13             676            552             39  "
      ]
     },
     "execution_count": 51,
     "metadata": {},
     "output_type": "execute_result"
    }
   ],
   "source": [
    "model2=ARIMA(df['PC_198_27_42263'],order=(0,1,1))\n",
    "model2=model2.fit()\n",
    "df.tail()"
   ]
  },
  {
   "cell_type": "code",
   "execution_count": 52,
   "metadata": {},
   "outputs": [],
   "source": [
    "index_future_dates=pd.date_range(start='2013-04-01',end='2014-03-31')\n",
    "pred1=model2.predict(start=len(df),end=len(df)+364,typ='levels').rename('ARIMA Predictions')\n",
    "pred1.index=index_future_dates"
   ]
  },
  {
   "cell_type": "code",
   "execution_count": 53,
   "metadata": {},
   "outputs": [
    {
     "data": {
      "text/plain": [
       "Text(0, 0.5, 'Prediction')"
      ]
     },
     "execution_count": 53,
     "metadata": {},
     "output_type": "execute_result"
    },
    {
     "data": {
      "image/png": "[encoded data removed]",
      "text/plain": [
       "<Figure size 720x396 with 1 Axes>"
      ]
     },
     "metadata": {
      "needs_background": "light"
     },
     "output_type": "display_data"
    }
   ],
   "source": [
    "pred1.plot(figsize=(10,5.5),legend=True,color='red',marker='.')\n",
    "#pred1.plot(figsize=(8,5),color=\"teal\")\n",
    "plt.title(\"PREDICTION OF PC_198_27_42263 FOR 1 YEAR\",fontsize=17)\n",
    "plt.xlabel(\"Month\",fontsize=15)\n",
    "plt.ylabel(\"Prediction\",fontsize=15)"
   ]
  },
  {
   "cell_type": "code",
   "execution_count": 54,
   "metadata": {},
   "outputs": [],
   "source": [
    "from statsmodels.tsa.stattools import adfuller"
   ]
  },
  {
   "cell_type": "code",
   "execution_count": 55,
   "metadata": {},
   "outputs": [],
   "source": [
    "def ad_test(df):\n",
    "    dftest= adfuller(df,autolag='AIC')\n",
    "    print(\"1. ADF:\",dftest[0])\n",
    "    print(\"2. p-Value:\",dftest[1])\n",
    "    print(\"3. Num of Lags:\",dftest[2])\n",
    "    print(\"4. No of observation used for ADF Regression and Critical Values Calculation:\",dftest[3])\n",
    "    print(\"5. Critical Values:\")\n",
    "    for key, val in dftest[4].items():\n",
    "        print(\"\\t\",key,\":\",val)"
   ]
  },
  {
   "cell_type": "code",
   "execution_count": 56,
   "metadata": {},
   "outputs": [
    {
     "name": "stdout",
     "output_type": "stream",
     "text": [
      "1. ADF: -7.687436048114201\n",
      "2. p-Value: 1.4490056525956441e-11\n",
      "3. Num of Lags: 0\n",
      "4. No of observation used for ADF Regression and Critical Values Calculation: 48\n",
      "5. Critical Values:\n",
      "\t 1% : -3.5745892596209488\n",
      "\t 5% : -2.9239543084490744\n",
      "\t 10% : -2.6000391840277777\n"
     ]
    }
   ],
   "source": [
    "ad_test(df[\"PC_203_32_51461\"])"
   ]
  },
  {
   "cell_type": "code",
   "execution_count": 57,
   "metadata": {},
   "outputs": [],
   "source": [
    "from pmdarima import auto_arima\n",
    "import warnings\n",
    "warnings.filterwarnings('ignore')"
   ]
  },
  {
   "cell_type": "code",
   "execution_count": 58,
   "metadata": {},
   "outputs": [
    {
     "name": "stdout",
     "output_type": "stream",
     "text": [
      "Performing stepwise search to minimize aic\n",
      " ARIMA(2,1,2)(0,0,0)[0] intercept   : AIC=inf, Time=0.41 sec\n",
      " ARIMA(0,1,0)(0,0,0)[0] intercept   : AIC=479.708, Time=0.02 sec\n",
      " ARIMA(1,1,0)(0,0,0)[0] intercept   : AIC=474.244, Time=0.03 sec\n",
      " ARIMA(0,1,1)(0,0,0)[0] intercept   : AIC=inf, Time=0.11 sec\n",
      " ARIMA(0,1,0)(0,0,0)[0]             : AIC=477.708, Time=0.00 sec\n",
      " ARIMA(2,1,0)(0,0,0)[0] intercept   : AIC=470.884, Time=0.09 sec\n",
      " ARIMA(3,1,0)(0,0,0)[0] intercept   : AIC=470.061, Time=0.09 sec\n",
      " ARIMA(4,1,0)(0,0,0)[0] intercept   : AIC=469.442, Time=0.09 sec\n",
      " ARIMA(5,1,0)(0,0,0)[0] intercept   : AIC=470.897, Time=0.14 sec\n",
      " ARIMA(4,1,1)(0,0,0)[0] intercept   : AIC=inf, Time=0.44 sec\n",
      " ARIMA(3,1,1)(0,0,0)[0] intercept   : AIC=inf, Time=0.34 sec\n",
      " ARIMA(5,1,1)(0,0,0)[0] intercept   : AIC=inf, Time=0.49 sec\n",
      " ARIMA(4,1,0)(0,0,0)[0]             : AIC=468.123, Time=0.08 sec\n",
      " ARIMA(3,1,0)(0,0,0)[0]             : AIC=468.482, Time=0.06 sec\n",
      " ARIMA(5,1,0)(0,0,0)[0]             : AIC=469.709, Time=0.11 sec\n",
      " ARIMA(4,1,1)(0,0,0)[0]             : AIC=463.904, Time=0.13 sec\n",
      " ARIMA(3,1,1)(0,0,0)[0]             : AIC=462.951, Time=0.11 sec\n",
      " ARIMA(2,1,1)(0,0,0)[0]             : AIC=461.516, Time=0.09 sec\n",
      " ARIMA(1,1,1)(0,0,0)[0]             : AIC=460.156, Time=0.05 sec\n",
      " ARIMA(0,1,1)(0,0,0)[0]             : AIC=458.390, Time=0.03 sec\n",
      " ARIMA(0,1,2)(0,0,0)[0]             : AIC=460.082, Time=0.05 sec\n",
      " ARIMA(1,1,0)(0,0,0)[0]             : AIC=472.262, Time=0.03 sec\n",
      " ARIMA(1,1,2)(0,0,0)[0]             : AIC=459.935, Time=0.16 sec\n",
      "\n",
      "Best model:  ARIMA(0,1,1)(0,0,0)[0]          \n",
      "Total fit time: 3.187 seconds\n"
     ]
    },
    {
     "data": {
      "text/html": [
       "<table class=\"simpletable\">\n",
       "<caption>SARIMAX Results</caption>\n",
       "<tr>\n",
       "  <th>Dep. Variable:</th>           <td>y</td>        <th>  No. Observations:  </th>    <td>49</td>   \n",
       "</tr>\n",
       "<tr>\n",
       "  <th>Model:</th>           <td>SARIMAX(0, 1, 1)</td> <th>  Log Likelihood     </th> <td>-227.195</td>\n",
       "</tr>\n",
       "<tr>\n",
       "  <th>Date:</th>            <td>Mon, 23 Nov 2020</td> <th>  AIC                </th>  <td>458.390</td>\n",
       "</tr>\n",
       "<tr>\n",
       "  <th>Time:</th>                <td>23:19:40</td>     <th>  BIC                </th>  <td>462.133</td>\n",
       "</tr>\n",
       "<tr>\n",
       "  <th>Sample:</th>                  <td>0</td>        <th>  HQIC               </th>  <td>459.804</td>\n",
       "</tr>\n",
       "<tr>\n",
       "  <th></th>                       <td> - 49</td>      <th>                     </th>     <td> </td>   \n",
       "</tr>\n",
       "<tr>\n",
       "  <th>Covariance Type:</th>        <td>opg</td>       <th>                     </th>     <td> </td>   \n",
       "</tr>\n",
       "</table>\n",
       "<table class=\"simpletable\">\n",
       "<tr>\n",
       "     <td></td>       <th>coef</th>     <th>std err</th>      <th>z</th>      <th>P>|z|</th>  <th>[0.025</th>    <th>0.975]</th>  \n",
       "</tr>\n",
       "<tr>\n",
       "  <th>ma.L1</th>  <td>   -0.8534</td> <td>    0.070</td> <td>  -12.273</td> <td> 0.000</td> <td>   -0.990</td> <td>   -0.717</td>\n",
       "</tr>\n",
       "<tr>\n",
       "  <th>sigma2</th> <td>  736.1721</td> <td>   96.326</td> <td>    7.642</td> <td> 0.000</td> <td>  547.376</td> <td>  924.968</td>\n",
       "</tr>\n",
       "</table>\n",
       "<table class=\"simpletable\">\n",
       "<tr>\n",
       "  <th>Ljung-Box (Q):</th>          <td>66.99</td> <th>  Jarque-Bera (JB):  </th> <td>25.90</td>\n",
       "</tr>\n",
       "<tr>\n",
       "  <th>Prob(Q):</th>                <td>0.00</td>  <th>  Prob(JB):          </th> <td>0.00</td> \n",
       "</tr>\n",
       "<tr>\n",
       "  <th>Heteroskedasticity (H):</th> <td>7.10</td>  <th>  Skew:              </th> <td>1.33</td> \n",
       "</tr>\n",
       "<tr>\n",
       "  <th>Prob(H) (two-sided):</th>    <td>0.00</td>  <th>  Kurtosis:          </th> <td>5.41</td> \n",
       "</tr>\n",
       "</table><br/><br/>Warnings:<br/>[1] Covariance matrix calculated using the outer product of gradients (complex-step)."
      ],
      "text/plain": [
       "<class 'statsmodels.iolib.summary.Summary'>\n",
       "\"\"\"\n",
       "                               SARIMAX Results                                \n",
       "==============================================================================\n",
       "Dep. Variable:                      y   No. Observations:                   49\n",
       "Model:               SARIMAX(0, 1, 1)   Log Likelihood                -227.195\n",
       "Date:                Mon, 23 Nov 2020   AIC                            458.390\n",
       "Time:                        23:19:40   BIC                            462.133\n",
       "Sample:                             0   HQIC                           459.804\n",
       "                                 - 49                                         \n",
       "Covariance Type:                  opg                                         \n",
       "==============================================================================\n",
       "                 coef    std err          z      P>|z|      [0.025      0.975]\n",
       "------------------------------------------------------------------------------\n",
       "ma.L1         -0.8534      0.070    -12.273      0.000      -0.990      -0.717\n",
       "sigma2       736.1721     96.326      7.642      0.000     547.376     924.968\n",
       "===================================================================================\n",
       "Ljung-Box (Q):                       66.99   Jarque-Bera (JB):                25.90\n",
       "Prob(Q):                              0.00   Prob(JB):                         0.00\n",
       "Heteroskedasticity (H):               7.10   Skew:                             1.33\n",
       "Prob(H) (two-sided):                  0.00   Kurtosis:                         5.41\n",
       "===================================================================================\n",
       "\n",
       "Warnings:\n",
       "[1] Covariance matrix calculated using the outer product of gradients (complex-step).\n",
       "\"\"\""
      ]
     },
     "execution_count": 58,
     "metadata": {},
     "output_type": "execute_result"
    }
   ],
   "source": [
    "stepwise_fit = auto_arima(df[\"PC_198_27_42263\"],trace=True,\n",
    "                         suppress_warnings=True)\n",
    "stepwise_fit.summary()"
   ]
  },
  {
   "cell_type": "code",
   "execution_count": 59,
   "metadata": {},
   "outputs": [],
   "source": [
    "from statsmodels.tsa.arima_model import ARIMA"
   ]
  },
  {
   "cell_type": "code",
   "execution_count": 60,
   "metadata": {},
   "outputs": [
    {
     "name": "stdout",
     "output_type": "stream",
     "text": [
      "(49, 11)\n",
      "(39, 11) (10, 11)\n"
     ]
    }
   ],
   "source": [
    "print(df.shape)\n",
    "train=df.iloc[:-10]\n",
    "test=df.iloc[:-39]\n",
    "print(train.shape,test.shape)"
   ]
  },
  {
   "cell_type": "code",
   "execution_count": 61,
   "metadata": {},
   "outputs": [
    {
     "data": {
      "text/html": [
       "<table class=\"simpletable\">\n",
       "<caption>ARIMA Model Results</caption>\n",
       "<tr>\n",
       "  <th>Dep. Variable:</th> <td>D.PC_203_32_51461</td> <th>  No. Observations:  </th>    <td>38</td>   \n",
       "</tr>\n",
       "<tr>\n",
       "  <th>Model:</th>          <td>ARIMA(0, 1, 1)</td>   <th>  Log Likelihood     </th> <td>-186.220</td>\n",
       "</tr>\n",
       "<tr>\n",
       "  <th>Method:</th>             <td>css-mle</td>      <th>  S.D. of innovations</th>  <td>30.984</td> \n",
       "</tr>\n",
       "<tr>\n",
       "  <th>Date:</th>          <td>Mon, 23 Nov 2020</td>  <th>  AIC                </th>  <td>378.439</td>\n",
       "</tr>\n",
       "<tr>\n",
       "  <th>Time:</th>              <td>23:19:41</td>      <th>  BIC                </th>  <td>383.352</td>\n",
       "</tr>\n",
       "<tr>\n",
       "  <th>Sample:</th>                <td>1</td>         <th>  HQIC               </th>  <td>380.187</td>\n",
       "</tr>\n",
       "<tr>\n",
       "  <th></th>                       <td> </td>         <th>                     </th>     <td> </td>   \n",
       "</tr>\n",
       "</table>\n",
       "<table class=\"simpletable\">\n",
       "<tr>\n",
       "             <td></td>                <th>coef</th>     <th>std err</th>      <th>z</th>      <th>P>|z|</th>  <th>[0.025</th>    <th>0.975]</th>  \n",
       "</tr>\n",
       "<tr>\n",
       "  <th>const</th>                   <td>   -0.0982</td> <td>    0.441</td> <td>   -0.223</td> <td> 0.824</td> <td>   -0.962</td> <td>    0.766</td>\n",
       "</tr>\n",
       "<tr>\n",
       "  <th>ma.L1.D.PC_203_32_51461</th> <td>   -0.9998</td> <td>    0.131</td> <td>   -7.617</td> <td> 0.000</td> <td>   -1.257</td> <td>   -0.743</td>\n",
       "</tr>\n",
       "</table>\n",
       "<table class=\"simpletable\">\n",
       "<caption>Roots</caption>\n",
       "<tr>\n",
       "    <td></td>   <th>            Real</th>  <th>         Imaginary</th> <th>         Modulus</th>  <th>        Frequency</th>\n",
       "</tr>\n",
       "<tr>\n",
       "  <th>MA.1</th> <td>           1.0002</td> <td>          +0.0000j</td> <td>           1.0002</td> <td>           0.0000</td>\n",
       "</tr>\n",
       "</table>"
      ],
      "text/plain": [
       "<class 'statsmodels.iolib.summary.Summary'>\n",
       "\"\"\"\n",
       "                             ARIMA Model Results                              \n",
       "==============================================================================\n",
       "Dep. Variable:      D.PC_203_32_51461   No. Observations:                   38\n",
       "Model:                 ARIMA(0, 1, 1)   Log Likelihood                -186.220\n",
       "Method:                       css-mle   S.D. of innovations             30.984\n",
       "Date:                Mon, 23 Nov 2020   AIC                            378.439\n",
       "Time:                        23:19:41   BIC                            383.352\n",
       "Sample:                             1   HQIC                           380.187\n",
       "                                                                              \n",
       "===========================================================================================\n",
       "                              coef    std err          z      P>|z|      [0.025      0.975]\n",
       "-------------------------------------------------------------------------------------------\n",
       "const                      -0.0982      0.441     -0.223      0.824      -0.962       0.766\n",
       "ma.L1.D.PC_203_32_51461    -0.9998      0.131     -7.617      0.000      -1.257      -0.743\n",
       "                                    Roots                                    \n",
       "=============================================================================\n",
       "                  Real          Imaginary           Modulus         Frequency\n",
       "-----------------------------------------------------------------------------\n",
       "MA.1            1.0002           +0.0000j            1.0002            0.0000\n",
       "-----------------------------------------------------------------------------\n",
       "\"\"\""
      ]
     },
     "execution_count": 61,
     "metadata": {},
     "output_type": "execute_result"
    }
   ],
   "source": [
    "model=ARIMA(train[\"PC_203_32_51461\"],order=(0,1,1))\n",
    "model=model.fit()\n",
    "model.summary()"
   ]
  },
  {
   "cell_type": "code",
   "execution_count": 62,
   "metadata": {},
   "outputs": [
    {
     "name": "stdout",
     "output_type": "stream",
     "text": [
      "38    14.198341\n",
      "39    14.100163\n",
      "40    14.001986\n",
      "41    13.903809\n",
      "42    13.805632\n",
      "43    13.707455\n",
      "44    13.609277\n",
      "45    13.511100\n",
      "46    13.412923\n",
      "47    13.314746\n",
      "dtype: float64\n"
     ]
    }
   ],
   "source": [
    "start=len(train)\n",
    "end=len(train)+len(test)-1\n",
    "pred=model.predict(start=start,end=end,typ='levels')\n",
    "print(pred)\n",
    "pred.index=df.index[start:end+1]"
   ]
  },
  {
   "cell_type": "code",
   "execution_count": 63,
   "metadata": {},
   "outputs": [
    {
     "data": {
      "text/plain": [
       "<matplotlib.axes._subplots.AxesSubplot at 0x18508410>"
      ]
     },
     "execution_count": 63,
     "metadata": {},
     "output_type": "execute_result"
    },
    {
     "data": {
      "image/png": "[encoded data removed]",
      "text/plain": [
       "<Figure size 432x288 with 1 Axes>"
      ]
     },
     "metadata": {
      "needs_background": "light"
     },
     "output_type": "display_data"
    }
   ],
   "source": [
    "pred.plot(legend=True)\n",
    "test[\"PC_203_32_51461\"].plot(legend=True)"
   ]
  },
  {
   "cell_type": "code",
   "execution_count": 64,
   "metadata": {},
   "outputs": [
    {
     "data": {
      "text/plain": [
       "8.9"
      ]
     },
     "execution_count": 64,
     "metadata": {},
     "output_type": "execute_result"
    }
   ],
   "source": [
    "test['PC_203_32_51461'].mean()"
   ]
  },
  {
   "cell_type": "code",
   "execution_count": 65,
   "metadata": {},
   "outputs": [
    {
     "name": "stdout",
     "output_type": "stream",
     "text": [
      "26.24662162156367\n"
     ]
    }
   ],
   "source": [
    "from sklearn.metrics import mean_squared_error\n",
    "from math import sqrt\n",
    "rmse1=sqrt(mean_squared_error(pred,test['PC_203_32_51461']))\n",
    "print(rmse1)"
   ]
  },
  {
   "cell_type": "code",
   "execution_count": 66,
   "metadata": {},
   "outputs": [
    {
     "data": {
      "text/html": [
       "<div>\n",
       "<style scoped>\n",
       "    .dataframe tbody tr th:only-of-type {\n",
       "        vertical-align: middle;\n",
       "    }\n",
       "\n",
       "    .dataframe tbody tr th {\n",
       "        vertical-align: top;\n",
       "    }\n",
       "\n",
       "    .dataframe thead th {\n",
       "        text-align: right;\n",
       "    }\n",
       "</style>\n",
       "<table border=\"1\" class=\"dataframe\">\n",
       "  <thead>\n",
       "    <tr style=\"text-align: right;\">\n",
       "      <th></th>\n",
       "      <th>205-70-N1190</th>\n",
       "      <th>PC_198_27_42263</th>\n",
       "      <th>PC_203_32_51461</th>\n",
       "      <th>PC_600_863_4210</th>\n",
       "      <th>PC_6735_61_3410</th>\n",
       "      <th>D30141135</th>\n",
       "      <th>600-181-6740I.</th>\n",
       "      <th>07063-51210I.</th>\n",
       "      <th>600-319-4540I.</th>\n",
       "      <th>6735-51-5143I</th>\n",
       "      <th>07000-B2011I.</th>\n",
       "    </tr>\n",
       "    <tr>\n",
       "      <th>Month</th>\n",
       "      <th></th>\n",
       "      <th></th>\n",
       "      <th></th>\n",
       "      <th></th>\n",
       "      <th></th>\n",
       "      <th></th>\n",
       "      <th></th>\n",
       "      <th></th>\n",
       "      <th></th>\n",
       "      <th></th>\n",
       "      <th></th>\n",
       "    </tr>\n",
       "  </thead>\n",
       "  <tbody>\n",
       "    <tr>\n",
       "      <td>Dec-12</td>\n",
       "      <td>3003</td>\n",
       "      <td>40</td>\n",
       "      <td>7</td>\n",
       "      <td>1</td>\n",
       "      <td>3</td>\n",
       "      <td>328</td>\n",
       "      <td>285</td>\n",
       "      <td>532</td>\n",
       "      <td>736</td>\n",
       "      <td>382</td>\n",
       "      <td>46</td>\n",
       "    </tr>\n",
       "    <tr>\n",
       "      <td>Jan-13</td>\n",
       "      <td>2428</td>\n",
       "      <td>51</td>\n",
       "      <td>5</td>\n",
       "      <td>2</td>\n",
       "      <td>0</td>\n",
       "      <td>328</td>\n",
       "      <td>245</td>\n",
       "      <td>515</td>\n",
       "      <td>592</td>\n",
       "      <td>418</td>\n",
       "      <td>22</td>\n",
       "    </tr>\n",
       "    <tr>\n",
       "      <td>Feb-13</td>\n",
       "      <td>1970</td>\n",
       "      <td>130</td>\n",
       "      <td>0</td>\n",
       "      <td>1</td>\n",
       "      <td>5</td>\n",
       "      <td>299</td>\n",
       "      <td>267</td>\n",
       "      <td>629</td>\n",
       "      <td>786</td>\n",
       "      <td>748</td>\n",
       "      <td>34</td>\n",
       "    </tr>\n",
       "    <tr>\n",
       "      <td>Mar-13</td>\n",
       "      <td>1849</td>\n",
       "      <td>75</td>\n",
       "      <td>0</td>\n",
       "      <td>0</td>\n",
       "      <td>4</td>\n",
       "      <td>396</td>\n",
       "      <td>273</td>\n",
       "      <td>494</td>\n",
       "      <td>842</td>\n",
       "      <td>594</td>\n",
       "      <td>64</td>\n",
       "    </tr>\n",
       "    <tr>\n",
       "      <td>Apr-13</td>\n",
       "      <td>3394</td>\n",
       "      <td>0</td>\n",
       "      <td>0</td>\n",
       "      <td>0</td>\n",
       "      <td>0</td>\n",
       "      <td>359</td>\n",
       "      <td>286</td>\n",
       "      <td>500</td>\n",
       "      <td>676</td>\n",
       "      <td>552</td>\n",
       "      <td>39</td>\n",
       "    </tr>\n",
       "  </tbody>\n",
       "</table>\n",
       "</div>"
      ],
      "text/plain": [
       "        205-70-N1190  PC_198_27_42263  PC_203_32_51461  PC_600_863_4210  \\\n",
       "Month                                                                     \n",
       "Dec-12          3003               40                7                1   \n",
       "Jan-13          2428               51                5                2   \n",
       "Feb-13          1970              130                0                1   \n",
       "Mar-13          1849               75                0                0   \n",
       "Apr-13          3394                0                0                0   \n",
       "\n",
       "        PC_6735_61_3410  D30141135  600-181-6740I.  07063-51210I.  \\\n",
       "Month                                                               \n",
       "Dec-12                3        328             285            532   \n",
       "Jan-13                0        328             245            515   \n",
       "Feb-13                5        299             267            629   \n",
       "Mar-13                4        396             273            494   \n",
       "Apr-13                0        359             286            500   \n",
       "\n",
       "        600-319-4540I.  6735-51-5143I  07000-B2011I.  \n",
       "Month                                                 \n",
       "Dec-12             736            382             46  \n",
       "Jan-13             592            418             22  \n",
       "Feb-13             786            748             34  \n",
       "Mar-13             842            594             64  \n",
       "Apr-13             676            552             39  "
      ]
     },
     "execution_count": 66,
     "metadata": {},
     "output_type": "execute_result"
    }
   ],
   "source": [
    "model2=ARIMA(df['PC_203_32_51461'],order=(0,1,1))\n",
    "model2=model2.fit()\n",
    "df.tail()"
   ]
  },
  {
   "cell_type": "code",
   "execution_count": 67,
   "metadata": {},
   "outputs": [],
   "source": [
    "index_future_dates=pd.date_range(start='2013-04-01',end='2014-03-31')\n",
    "pred1=model2.predict(start=len(df),end=len(df)+364,typ='levels').rename('ARIMA Predictions')\n",
    "pred1.index=index_future_dates"
   ]
  },
  {
   "cell_type": "code",
   "execution_count": 68,
   "metadata": {},
   "outputs": [
    {
     "data": {
      "text/plain": [
       "Text(0, 0.5, 'Numbers')"
      ]
     },
     "execution_count": 68,
     "metadata": {},
     "output_type": "execute_result"
    },
    {
     "data": {
      "image/png": "[encoded data removed]",
      "text/plain": [
       "<Figure size 720x396 with 1 Axes>"
      ]
     },
     "metadata": {
      "needs_background": "light"
     },
     "output_type": "display_data"
    }
   ],
   "source": [
    "pred1.plot(figsize=(10,5.5),legend=True,color='blue',marker='.')\n",
    "#pred1.plot(figsize=(8,5),color=\"teal\")\n",
    "plt.title(\"PREDICTION OF PC_203_32_51461 FOR 1 YEAR\",fontsize=17)\n",
    "plt.xlabel(\"Month\",fontsize=15)\n",
    "plt.ylabel(\"Numbers\",fontsize=15)"
   ]
  },
  {
   "cell_type": "code",
   "execution_count": 69,
   "metadata": {},
   "outputs": [
    {
     "data": {
      "text/plain": [
       "<matplotlib.axes._subplots.AxesSubplot at 0x18564590>"
      ]
     },
     "execution_count": 69,
     "metadata": {},
     "output_type": "execute_result"
    },
    {
     "data": {
      "image/png": "[encoded data removed]",
      "text/plain": [
       "<Figure size 432x288 with 1 Axes>"
      ]
     },
     "metadata": {
      "needs_background": "light"
     },
     "output_type": "display_data"
    }
   ],
   "source": [
    "pred.plot(legend=True)\n",
    "test[\"PC_600_863_4210\"].plot(legend=True)"
   ]
  },
  {
   "cell_type": "code",
   "execution_count": 70,
   "metadata": {},
   "outputs": [
    {
     "name": "stdout",
     "output_type": "stream",
     "text": [
      "12.893051250608616\n"
     ]
    }
   ],
   "source": [
    "from sklearn.metrics import mean_squared_error\n",
    "from math import sqrt\n",
    "rmse1=sqrt(mean_squared_error(pred,test['PC_600_863_4210']))\n",
    "print(rmse1)"
   ]
  },
  {
   "cell_type": "code",
   "execution_count": 71,
   "metadata": {},
   "outputs": [
    {
     "data": {
      "text/html": [
       "<div>\n",
       "<style scoped>\n",
       "    .dataframe tbody tr th:only-of-type {\n",
       "        vertical-align: middle;\n",
       "    }\n",
       "\n",
       "    .dataframe tbody tr th {\n",
       "        vertical-align: top;\n",
       "    }\n",
       "\n",
       "    .dataframe thead th {\n",
       "        text-align: right;\n",
       "    }\n",
       "</style>\n",
       "<table border=\"1\" class=\"dataframe\">\n",
       "  <thead>\n",
       "    <tr style=\"text-align: right;\">\n",
       "      <th></th>\n",
       "      <th>205-70-N1190</th>\n",
       "      <th>PC_198_27_42263</th>\n",
       "      <th>PC_203_32_51461</th>\n",
       "      <th>PC_600_863_4210</th>\n",
       "      <th>PC_6735_61_3410</th>\n",
       "      <th>D30141135</th>\n",
       "      <th>600-181-6740I.</th>\n",
       "      <th>07063-51210I.</th>\n",
       "      <th>600-319-4540I.</th>\n",
       "      <th>6735-51-5143I</th>\n",
       "      <th>07000-B2011I.</th>\n",
       "    </tr>\n",
       "    <tr>\n",
       "      <th>Month</th>\n",
       "      <th></th>\n",
       "      <th></th>\n",
       "      <th></th>\n",
       "      <th></th>\n",
       "      <th></th>\n",
       "      <th></th>\n",
       "      <th></th>\n",
       "      <th></th>\n",
       "      <th></th>\n",
       "      <th></th>\n",
       "      <th></th>\n",
       "    </tr>\n",
       "  </thead>\n",
       "  <tbody>\n",
       "    <tr>\n",
       "      <td>Dec-12</td>\n",
       "      <td>3003</td>\n",
       "      <td>40</td>\n",
       "      <td>7</td>\n",
       "      <td>1</td>\n",
       "      <td>3</td>\n",
       "      <td>328</td>\n",
       "      <td>285</td>\n",
       "      <td>532</td>\n",
       "      <td>736</td>\n",
       "      <td>382</td>\n",
       "      <td>46</td>\n",
       "    </tr>\n",
       "    <tr>\n",
       "      <td>Jan-13</td>\n",
       "      <td>2428</td>\n",
       "      <td>51</td>\n",
       "      <td>5</td>\n",
       "      <td>2</td>\n",
       "      <td>0</td>\n",
       "      <td>328</td>\n",
       "      <td>245</td>\n",
       "      <td>515</td>\n",
       "      <td>592</td>\n",
       "      <td>418</td>\n",
       "      <td>22</td>\n",
       "    </tr>\n",
       "    <tr>\n",
       "      <td>Feb-13</td>\n",
       "      <td>1970</td>\n",
       "      <td>130</td>\n",
       "      <td>0</td>\n",
       "      <td>1</td>\n",
       "      <td>5</td>\n",
       "      <td>299</td>\n",
       "      <td>267</td>\n",
       "      <td>629</td>\n",
       "      <td>786</td>\n",
       "      <td>748</td>\n",
       "      <td>34</td>\n",
       "    </tr>\n",
       "    <tr>\n",
       "      <td>Mar-13</td>\n",
       "      <td>1849</td>\n",
       "      <td>75</td>\n",
       "      <td>0</td>\n",
       "      <td>0</td>\n",
       "      <td>4</td>\n",
       "      <td>396</td>\n",
       "      <td>273</td>\n",
       "      <td>494</td>\n",
       "      <td>842</td>\n",
       "      <td>594</td>\n",
       "      <td>64</td>\n",
       "    </tr>\n",
       "    <tr>\n",
       "      <td>Apr-13</td>\n",
       "      <td>3394</td>\n",
       "      <td>0</td>\n",
       "      <td>0</td>\n",
       "      <td>0</td>\n",
       "      <td>0</td>\n",
       "      <td>359</td>\n",
       "      <td>286</td>\n",
       "      <td>500</td>\n",
       "      <td>676</td>\n",
       "      <td>552</td>\n",
       "      <td>39</td>\n",
       "    </tr>\n",
       "  </tbody>\n",
       "</table>\n",
       "</div>"
      ],
      "text/plain": [
       "        205-70-N1190  PC_198_27_42263  PC_203_32_51461  PC_600_863_4210  \\\n",
       "Month                                                                     \n",
       "Dec-12          3003               40                7                1   \n",
       "Jan-13          2428               51                5                2   \n",
       "Feb-13          1970              130                0                1   \n",
       "Mar-13          1849               75                0                0   \n",
       "Apr-13          3394                0                0                0   \n",
       "\n",
       "        PC_6735_61_3410  D30141135  600-181-6740I.  07063-51210I.  \\\n",
       "Month                                                               \n",
       "Dec-12                3        328             285            532   \n",
       "Jan-13                0        328             245            515   \n",
       "Feb-13                5        299             267            629   \n",
       "Mar-13                4        396             273            494   \n",
       "Apr-13                0        359             286            500   \n",
       "\n",
       "        600-319-4540I.  6735-51-5143I  07000-B2011I.  \n",
       "Month                                                 \n",
       "Dec-12             736            382             46  \n",
       "Jan-13             592            418             22  \n",
       "Feb-13             786            748             34  \n",
       "Mar-13             842            594             64  \n",
       "Apr-13             676            552             39  "
      ]
     },
     "execution_count": 71,
     "metadata": {},
     "output_type": "execute_result"
    }
   ],
   "source": [
    "model2=ARIMA(df['PC_600_863_4210'],order=(0,1,1))\n",
    "model2=model2.fit()\n",
    "df.tail()"
   ]
  },
  {
   "cell_type": "code",
   "execution_count": 72,
   "metadata": {},
   "outputs": [],
   "source": [
    "index_future_dates=pd.date_range(start='2013-04-01',end='2014-03-31')\n",
    "pred1=model2.predict(start=len(df),end=len(df)+364,typ='levels').rename('ARIMA Predictions')\n",
    "pred1.index=index_future_dates"
   ]
  },
  {
   "cell_type": "code",
   "execution_count": 73,
   "metadata": {},
   "outputs": [
    {
     "data": {
      "text/plain": [
       "Text(0, 0.5, 'Numbers')"
      ]
     },
     "execution_count": 73,
     "metadata": {},
     "output_type": "execute_result"
    },
    {
     "data": {
      "image/png": "[encoded data removed]",
      "text/plain": [
       "<Figure size 720x396 with 1 Axes>"
      ]
     },
     "metadata": {
      "needs_background": "light"
     },
     "output_type": "display_data"
    }
   ],
   "source": [
    "pred1.plot(figsize=(10,5.5),legend=True,color='black',marker='.')\n",
    "#pred1.plot(figsize=(8,5),color=\"teal\")\n",
    "plt.title(\"PREDICTION OF PC_600_863_4210 FOR 1 YEAR\",fontsize=17)\n",
    "plt.xlabel(\"Month\",fontsize=15)\n",
    "plt.ylabel(\"Numbers\",fontsize=15)"
   ]
  },
  {
   "cell_type": "code",
   "execution_count": 74,
   "metadata": {},
   "outputs": [
    {
     "data": {
      "text/plain": [
       "<matplotlib.axes._subplots.AxesSubplot at 0x18770c10>"
      ]
     },
     "execution_count": 74,
     "metadata": {},
     "output_type": "execute_result"
    },
    {
     "data": {
      "image/png": "[encoded data removed]",
      "text/plain": [
       "<Figure size 432x288 with 1 Axes>"
      ]
     },
     "metadata": {
      "needs_background": "light"
     },
     "output_type": "display_data"
    }
   ],
   "source": [
    "pred.plot(legend=True)\n",
    "test[\"D30141135\"].plot(legend=True)"
   ]
  },
  {
   "cell_type": "code",
   "execution_count": 75,
   "metadata": {},
   "outputs": [
    {
     "name": "stdout",
     "output_type": "stream",
     "text": [
      "419.753514357348\n"
     ]
    }
   ],
   "source": [
    "from sklearn.metrics import mean_squared_error\n",
    "from math import sqrt\n",
    "rmse1=sqrt(mean_squared_error(pred,test['D30141135']))\n",
    "print(rmse1)"
   ]
  },
  {
   "cell_type": "code",
   "execution_count": 76,
   "metadata": {},
   "outputs": [
    {
     "data": {
      "text/html": [
       "<div>\n",
       "<style scoped>\n",
       "    .dataframe tbody tr th:only-of-type {\n",
       "        vertical-align: middle;\n",
       "    }\n",
       "\n",
       "    .dataframe tbody tr th {\n",
       "        vertical-align: top;\n",
       "    }\n",
       "\n",
       "    .dataframe thead th {\n",
       "        text-align: right;\n",
       "    }\n",
       "</style>\n",
       "<table border=\"1\" class=\"dataframe\">\n",
       "  <thead>\n",
       "    <tr style=\"text-align: right;\">\n",
       "      <th></th>\n",
       "      <th>205-70-N1190</th>\n",
       "      <th>PC_198_27_42263</th>\n",
       "      <th>PC_203_32_51461</th>\n",
       "      <th>PC_600_863_4210</th>\n",
       "      <th>PC_6735_61_3410</th>\n",
       "      <th>D30141135</th>\n",
       "      <th>600-181-6740I.</th>\n",
       "      <th>07063-51210I.</th>\n",
       "      <th>600-319-4540I.</th>\n",
       "      <th>6735-51-5143I</th>\n",
       "      <th>07000-B2011I.</th>\n",
       "    </tr>\n",
       "    <tr>\n",
       "      <th>Month</th>\n",
       "      <th></th>\n",
       "      <th></th>\n",
       "      <th></th>\n",
       "      <th></th>\n",
       "      <th></th>\n",
       "      <th></th>\n",
       "      <th></th>\n",
       "      <th></th>\n",
       "      <th></th>\n",
       "      <th></th>\n",
       "      <th></th>\n",
       "    </tr>\n",
       "  </thead>\n",
       "  <tbody>\n",
       "    <tr>\n",
       "      <td>Dec-12</td>\n",
       "      <td>3003</td>\n",
       "      <td>40</td>\n",
       "      <td>7</td>\n",
       "      <td>1</td>\n",
       "      <td>3</td>\n",
       "      <td>328</td>\n",
       "      <td>285</td>\n",
       "      <td>532</td>\n",
       "      <td>736</td>\n",
       "      <td>382</td>\n",
       "      <td>46</td>\n",
       "    </tr>\n",
       "    <tr>\n",
       "      <td>Jan-13</td>\n",
       "      <td>2428</td>\n",
       "      <td>51</td>\n",
       "      <td>5</td>\n",
       "      <td>2</td>\n",
       "      <td>0</td>\n",
       "      <td>328</td>\n",
       "      <td>245</td>\n",
       "      <td>515</td>\n",
       "      <td>592</td>\n",
       "      <td>418</td>\n",
       "      <td>22</td>\n",
       "    </tr>\n",
       "    <tr>\n",
       "      <td>Feb-13</td>\n",
       "      <td>1970</td>\n",
       "      <td>130</td>\n",
       "      <td>0</td>\n",
       "      <td>1</td>\n",
       "      <td>5</td>\n",
       "      <td>299</td>\n",
       "      <td>267</td>\n",
       "      <td>629</td>\n",
       "      <td>786</td>\n",
       "      <td>748</td>\n",
       "      <td>34</td>\n",
       "    </tr>\n",
       "    <tr>\n",
       "      <td>Mar-13</td>\n",
       "      <td>1849</td>\n",
       "      <td>75</td>\n",
       "      <td>0</td>\n",
       "      <td>0</td>\n",
       "      <td>4</td>\n",
       "      <td>396</td>\n",
       "      <td>273</td>\n",
       "      <td>494</td>\n",
       "      <td>842</td>\n",
       "      <td>594</td>\n",
       "      <td>64</td>\n",
       "    </tr>\n",
       "    <tr>\n",
       "      <td>Apr-13</td>\n",
       "      <td>3394</td>\n",
       "      <td>0</td>\n",
       "      <td>0</td>\n",
       "      <td>0</td>\n",
       "      <td>0</td>\n",
       "      <td>359</td>\n",
       "      <td>286</td>\n",
       "      <td>500</td>\n",
       "      <td>676</td>\n",
       "      <td>552</td>\n",
       "      <td>39</td>\n",
       "    </tr>\n",
       "  </tbody>\n",
       "</table>\n",
       "</div>"
      ],
      "text/plain": [
       "        205-70-N1190  PC_198_27_42263  PC_203_32_51461  PC_600_863_4210  \\\n",
       "Month                                                                     \n",
       "Dec-12          3003               40                7                1   \n",
       "Jan-13          2428               51                5                2   \n",
       "Feb-13          1970              130                0                1   \n",
       "Mar-13          1849               75                0                0   \n",
       "Apr-13          3394                0                0                0   \n",
       "\n",
       "        PC_6735_61_3410  D30141135  600-181-6740I.  07063-51210I.  \\\n",
       "Month                                                               \n",
       "Dec-12                3        328             285            532   \n",
       "Jan-13                0        328             245            515   \n",
       "Feb-13                5        299             267            629   \n",
       "Mar-13                4        396             273            494   \n",
       "Apr-13                0        359             286            500   \n",
       "\n",
       "        600-319-4540I.  6735-51-5143I  07000-B2011I.  \n",
       "Month                                                 \n",
       "Dec-12             736            382             46  \n",
       "Jan-13             592            418             22  \n",
       "Feb-13             786            748             34  \n",
       "Mar-13             842            594             64  \n",
       "Apr-13             676            552             39  "
      ]
     },
     "execution_count": 76,
     "metadata": {},
     "output_type": "execute_result"
    }
   ],
   "source": [
    "model2=ARIMA(df['D30141135'],order=(0,1,1))\n",
    "model2=model2.fit()\n",
    "df.tail()"
   ]
  },
  {
   "cell_type": "code",
   "execution_count": 77,
   "metadata": {},
   "outputs": [],
   "source": [
    "index_future_dates=pd.date_range(start='2013-04-01',end='2014-03-31')\n",
    "pred2=model2.predict(start=len(df),end=len(df)+364,typ='levels').rename('ARIMA Predictions')\n",
    "pred2.index=index_future_dates"
   ]
  },
  {
   "cell_type": "code",
   "execution_count": 78,
   "metadata": {},
   "outputs": [
    {
     "data": {
      "text/plain": [
       "Text(0, 0.5, 'Numbers')"
      ]
     },
     "execution_count": 78,
     "metadata": {},
     "output_type": "execute_result"
    },
    {
     "data": {
      "image/png": "[encoded data removed]",
      "text/plain": [
       "<Figure size 720x396 with 1 Axes>"
      ]
     },
     "metadata": {
      "needs_background": "light"
     },
     "output_type": "display_data"
    }
   ],
   "source": [
    "pred1.plot(figsize=(10,5.5),legend=True,color='magenta',marker='.')\n",
    "#pred1.plot(figsize=(8,5),color=\"teal\")\n",
    "plt.title(\"PREDICTION OF D30141135 FOR 1 YEAR\",fontsize=17)\n",
    "plt.xlabel(\"Month\",fontsize=15)\n",
    "plt.ylabel(\"Numbers\",fontsize=15)"
   ]
  },
  {
   "cell_type": "code",
   "execution_count": 79,
   "metadata": {},
   "outputs": [],
   "source": [
    "from statsmodels.tsa.stattools import adfuller"
   ]
  },
  {
   "cell_type": "code",
   "execution_count": 80,
   "metadata": {},
   "outputs": [],
   "source": [
    "def ad_test(df):\n",
    "    dftest= adfuller(df,autolag='AIC')\n",
    "    print(\"1. ADF:\",dftest[0])\n",
    "    print(\"2. p-Value:\",dftest[1])\n",
    "    print(\"3. Num of Lags:\",dftest[2])\n",
    "    print(\"4. No of observation used for ADF Regression and Critical Values Calculation:\",dftest[3])\n",
    "    print(\"5. Critical Values:\")\n",
    "    for key, val in dftest[4].items():\n",
    "        print(\"\\t\",key,\":\",val)\n"
   ]
  },
  {
   "cell_type": "code",
   "execution_count": 81,
   "metadata": {},
   "outputs": [
    {
     "name": "stdout",
     "output_type": "stream",
     "text": [
      "1. ADF: -4.921647689443199\n",
      "2. p-Value: 3.1644037301759836e-05\n",
      "3. Num of Lags: 0\n",
      "4. No of observation used for ADF Regression and Critical Values Calculation: 48\n",
      "5. Critical Values:\n",
      "\t 1% : -3.5745892596209488\n",
      "\t 5% : -2.9239543084490744\n",
      "\t 10% : -2.6000391840277777\n"
     ]
    }
   ],
   "source": [
    "ad_test(df[\"600-181-6740I.\"])"
   ]
  },
  {
   "cell_type": "code",
   "execution_count": 82,
   "metadata": {},
   "outputs": [],
   "source": [
    "from pmdarima import auto_arima\n",
    "import warnings\n",
    "warnings.filterwarnings('ignore')\n"
   ]
  },
  {
   "cell_type": "code",
   "execution_count": 83,
   "metadata": {},
   "outputs": [
    {
     "name": "stdout",
     "output_type": "stream",
     "text": [
      "Performing stepwise search to minimize aic\n",
      " ARIMA(2,0,2)(0,0,0)[0] intercept   : AIC=530.807, Time=0.34 sec\n",
      " ARIMA(0,0,0)(0,0,0)[0] intercept   : AIC=532.222, Time=0.02 sec\n",
      " ARIMA(1,0,0)(0,0,0)[0] intercept   : AIC=527.870, Time=0.08 sec\n",
      " ARIMA(0,0,1)(0,0,0)[0] intercept   : AIC=529.526, Time=0.08 sec\n",
      " ARIMA(0,0,0)(0,0,0)[0]             : AIC=698.583, Time=0.00 sec\n",
      " ARIMA(2,0,0)(0,0,0)[0] intercept   : AIC=528.723, Time=0.09 sec\n",
      " ARIMA(1,0,1)(0,0,0)[0] intercept   : AIC=529.490, Time=0.09 sec\n",
      " ARIMA(2,0,1)(0,0,0)[0] intercept   : AIC=530.705, Time=0.23 sec\n",
      " ARIMA(1,0,0)(0,0,0)[0]             : AIC=547.438, Time=0.02 sec\n",
      "\n",
      "Best model:  ARIMA(1,0,0)(0,0,0)[0] intercept\n",
      "Total fit time: 0.985 seconds\n"
     ]
    },
    {
     "data": {
      "text/html": [
       "<table class=\"simpletable\">\n",
       "<caption>SARIMAX Results</caption>\n",
       "<tr>\n",
       "  <th>Dep. Variable:</th>           <td>y</td>        <th>  No. Observations:  </th>    <td>49</td>   \n",
       "</tr>\n",
       "<tr>\n",
       "  <th>Model:</th>           <td>SARIMAX(1, 0, 0)</td> <th>  Log Likelihood     </th> <td>-260.935</td>\n",
       "</tr>\n",
       "<tr>\n",
       "  <th>Date:</th>            <td>Mon, 23 Nov 2020</td> <th>  AIC                </th>  <td>527.870</td>\n",
       "</tr>\n",
       "<tr>\n",
       "  <th>Time:</th>                <td>23:19:47</td>     <th>  BIC                </th>  <td>533.545</td>\n",
       "</tr>\n",
       "<tr>\n",
       "  <th>Sample:</th>                  <td>0</td>        <th>  HQIC               </th>  <td>530.023</td>\n",
       "</tr>\n",
       "<tr>\n",
       "  <th></th>                       <td> - 49</td>      <th>                     </th>     <td> </td>   \n",
       "</tr>\n",
       "<tr>\n",
       "  <th>Covariance Type:</th>        <td>opg</td>       <th>                     </th>     <td> </td>   \n",
       "</tr>\n",
       "</table>\n",
       "<table class=\"simpletable\">\n",
       "<tr>\n",
       "      <td></td>         <th>coef</th>     <th>std err</th>      <th>z</th>      <th>P>|z|</th>  <th>[0.025</th>    <th>0.975]</th>  \n",
       "</tr>\n",
       "<tr>\n",
       "  <th>intercept</th> <td>  187.9717</td> <td>   43.302</td> <td>    4.341</td> <td> 0.000</td> <td>  103.102</td> <td>  272.842</td>\n",
       "</tr>\n",
       "<tr>\n",
       "  <th>ar.L1</th>     <td>    0.3557</td> <td>    0.145</td> <td>    2.447</td> <td> 0.014</td> <td>    0.071</td> <td>    0.641</td>\n",
       "</tr>\n",
       "<tr>\n",
       "  <th>sigma2</th>    <td> 2464.5504</td> <td>  617.297</td> <td>    3.992</td> <td> 0.000</td> <td> 1254.671</td> <td> 3674.430</td>\n",
       "</tr>\n",
       "</table>\n",
       "<table class=\"simpletable\">\n",
       "<tr>\n",
       "  <th>Ljung-Box (Q):</th>          <td>45.59</td> <th>  Jarque-Bera (JB):  </th> <td>1.03</td>\n",
       "</tr>\n",
       "<tr>\n",
       "  <th>Prob(Q):</th>                <td>0.25</td>  <th>  Prob(JB):          </th> <td>0.60</td>\n",
       "</tr>\n",
       "<tr>\n",
       "  <th>Heteroskedasticity (H):</th> <td>1.90</td>  <th>  Skew:              </th> <td>0.10</td>\n",
       "</tr>\n",
       "<tr>\n",
       "  <th>Prob(H) (two-sided):</th>    <td>0.21</td>  <th>  Kurtosis:          </th> <td>2.32</td>\n",
       "</tr>\n",
       "</table><br/><br/>Warnings:<br/>[1] Covariance matrix calculated using the outer product of gradients (complex-step)."
      ],
      "text/plain": [
       "<class 'statsmodels.iolib.summary.Summary'>\n",
       "\"\"\"\n",
       "                               SARIMAX Results                                \n",
       "==============================================================================\n",
       "Dep. Variable:                      y   No. Observations:                   49\n",
       "Model:               SARIMAX(1, 0, 0)   Log Likelihood                -260.935\n",
       "Date:                Mon, 23 Nov 2020   AIC                            527.870\n",
       "Time:                        23:19:47   BIC                            533.545\n",
       "Sample:                             0   HQIC                           530.023\n",
       "                                 - 49                                         \n",
       "Covariance Type:                  opg                                         \n",
       "==============================================================================\n",
       "                 coef    std err          z      P>|z|      [0.025      0.975]\n",
       "------------------------------------------------------------------------------\n",
       "intercept    187.9717     43.302      4.341      0.000     103.102     272.842\n",
       "ar.L1          0.3557      0.145      2.447      0.014       0.071       0.641\n",
       "sigma2      2464.5504    617.297      3.992      0.000    1254.671    3674.430\n",
       "===================================================================================\n",
       "Ljung-Box (Q):                       45.59   Jarque-Bera (JB):                 1.03\n",
       "Prob(Q):                              0.25   Prob(JB):                         0.60\n",
       "Heteroskedasticity (H):               1.90   Skew:                             0.10\n",
       "Prob(H) (two-sided):                  0.21   Kurtosis:                         2.32\n",
       "===================================================================================\n",
       "\n",
       "Warnings:\n",
       "[1] Covariance matrix calculated using the outer product of gradients (complex-step).\n",
       "\"\"\""
      ]
     },
     "execution_count": 83,
     "metadata": {},
     "output_type": "execute_result"
    }
   ],
   "source": [
    "stepwise_fit = auto_arima(df[\"600-181-6740I.\"],trace=True,\n",
    "                         suppress_warnings=True)\n",
    "stepwise_fit.summary()\n"
   ]
  },
  {
   "cell_type": "code",
   "execution_count": 84,
   "metadata": {},
   "outputs": [
    {
     "name": "stdout",
     "output_type": "stream",
     "text": [
      "38    14.198341\n",
      "39    14.100163\n",
      "40    14.001986\n",
      "41    13.903809\n",
      "42    13.805632\n",
      "43    13.707455\n",
      "44    13.609277\n",
      "45    13.511100\n",
      "46    13.412923\n",
      "47    13.314746\n",
      "dtype: float64\n"
     ]
    }
   ],
   "source": [
    "start=len(train)\n",
    "end=len(train)+len(test)-1\n",
    "pred=model.predict(start=start,end=end,typ='levels')\n",
    "print(pred)\n",
    "pred.index=df.index[start:end+1]\n"
   ]
  },
  {
   "cell_type": "code",
   "execution_count": 85,
   "metadata": {},
   "outputs": [],
   "source": [
    "from statsmodels.tsa.arima_model import ARIMA"
   ]
  },
  {
   "cell_type": "code",
   "execution_count": 86,
   "metadata": {},
   "outputs": [
    {
     "name": "stdout",
     "output_type": "stream",
     "text": [
      "(49, 11)\n",
      "(39, 11) (10, 11)\n"
     ]
    }
   ],
   "source": [
    "print(df.shape)\n",
    "train=df.iloc[:-10]\n",
    "test=df.iloc[:-39]\n",
    "print(train.shape,test.shape)\n"
   ]
  },
  {
   "cell_type": "code",
   "execution_count": 87,
   "metadata": {},
   "outputs": [
    {
     "data": {
      "text/html": [
       "<table class=\"simpletable\">\n",
       "<caption>ARIMA Model Results</caption>\n",
       "<tr>\n",
       "  <th>Dep. Variable:</th> <td>D.600-181-6740I.</td> <th>  No. Observations:  </th>    <td>38</td>   \n",
       "</tr>\n",
       "<tr>\n",
       "  <th>Model:</th>          <td>ARIMA(0, 1, 1)</td>  <th>  Log Likelihood     </th> <td>-205.535</td>\n",
       "</tr>\n",
       "<tr>\n",
       "  <th>Method:</th>             <td>css-mle</td>     <th>  S.D. of innovations</th>  <td>51.507</td> \n",
       "</tr>\n",
       "<tr>\n",
       "  <th>Date:</th>          <td>Mon, 23 Nov 2020</td> <th>  AIC                </th>  <td>417.070</td>\n",
       "</tr>\n",
       "<tr>\n",
       "  <th>Time:</th>              <td>23:19:48</td>     <th>  BIC                </th>  <td>421.983</td>\n",
       "</tr>\n",
       "<tr>\n",
       "  <th>Sample:</th>                <td>1</td>        <th>  HQIC               </th>  <td>418.818</td>\n",
       "</tr>\n",
       "<tr>\n",
       "  <th></th>                       <td> </td>        <th>                     </th>     <td> </td>   \n",
       "</tr>\n",
       "</table>\n",
       "<table class=\"simpletable\">\n",
       "<tr>\n",
       "             <td></td>               <th>coef</th>     <th>std err</th>      <th>z</th>      <th>P>|z|</th>  <th>[0.025</th>    <th>0.975]</th>  \n",
       "</tr>\n",
       "<tr>\n",
       "  <th>const</th>                  <td>   -0.4709</td> <td>    0.733</td> <td>   -0.643</td> <td> 0.521</td> <td>   -1.907</td> <td>    0.965</td>\n",
       "</tr>\n",
       "<tr>\n",
       "  <th>ma.L1.D.600-181-6740I.</th> <td>   -0.9999</td> <td>    0.096</td> <td>  -10.391</td> <td> 0.000</td> <td>   -1.189</td> <td>   -0.811</td>\n",
       "</tr>\n",
       "</table>\n",
       "<table class=\"simpletable\">\n",
       "<caption>Roots</caption>\n",
       "<tr>\n",
       "    <td></td>   <th>            Real</th>  <th>         Imaginary</th> <th>         Modulus</th>  <th>        Frequency</th>\n",
       "</tr>\n",
       "<tr>\n",
       "  <th>MA.1</th> <td>           1.0001</td> <td>          +0.0000j</td> <td>           1.0001</td> <td>           0.0000</td>\n",
       "</tr>\n",
       "</table>"
      ],
      "text/plain": [
       "<class 'statsmodels.iolib.summary.Summary'>\n",
       "\"\"\"\n",
       "                             ARIMA Model Results                              \n",
       "==============================================================================\n",
       "Dep. Variable:       D.600-181-6740I.   No. Observations:                   38\n",
       "Model:                 ARIMA(0, 1, 1)   Log Likelihood                -205.535\n",
       "Method:                       css-mle   S.D. of innovations             51.507\n",
       "Date:                Mon, 23 Nov 2020   AIC                            417.070\n",
       "Time:                        23:19:48   BIC                            421.983\n",
       "Sample:                             1   HQIC                           418.818\n",
       "                                                                              \n",
       "==========================================================================================\n",
       "                             coef    std err          z      P>|z|      [0.025      0.975]\n",
       "------------------------------------------------------------------------------------------\n",
       "const                     -0.4709      0.733     -0.643      0.521      -1.907       0.965\n",
       "ma.L1.D.600-181-6740I.    -0.9999      0.096    -10.391      0.000      -1.189      -0.811\n",
       "                                    Roots                                    \n",
       "=============================================================================\n",
       "                  Real          Imaginary           Modulus         Frequency\n",
       "-----------------------------------------------------------------------------\n",
       "MA.1            1.0001           +0.0000j            1.0001            0.0000\n",
       "-----------------------------------------------------------------------------\n",
       "\"\"\""
      ]
     },
     "execution_count": 87,
     "metadata": {},
     "output_type": "execute_result"
    }
   ],
   "source": [
    "model=ARIMA(train[\"600-181-6740I.\"],order=(0,1,1))\n",
    "model=model.fit()\n",
    "model.summary()\n"
   ]
  },
  {
   "cell_type": "code",
   "execution_count": 88,
   "metadata": {},
   "outputs": [
    {
     "data": {
      "text/plain": [
       "<matplotlib.axes._subplots.AxesSubplot at 0x18589150>"
      ]
     },
     "execution_count": 88,
     "metadata": {},
     "output_type": "execute_result"
    },
    {
     "data": {
      "image/png": "[encoded data removed]",
      "text/plain": [
       "<Figure size 432x288 with 1 Axes>"
      ]
     },
     "metadata": {
      "needs_background": "light"
     },
     "output_type": "display_data"
    }
   ],
   "source": [
    "pred.plot(legend=True)\n",
    "test[\"600-181-6740I.\"].plot(legend=True)"
   ]
  },
  {
   "cell_type": "code",
   "execution_count": null,
   "metadata": {},
   "outputs": [],
   "source": []
  },
  {
   "cell_type": "code",
   "execution_count": 89,
   "metadata": {},
   "outputs": [
    {
     "name": "stdout",
     "output_type": "stream",
     "text": [
      "305.5752813476227\n"
     ]
    }
   ],
   "source": [
    "from sklearn.metrics import mean_squared_error\n",
    "from math import sqrt\n",
    "rmse1=sqrt(mean_squared_error(pred,test['600-181-6740I.']))\n",
    "print(rmse1)"
   ]
  },
  {
   "cell_type": "code",
   "execution_count": 90,
   "metadata": {},
   "outputs": [
    {
     "data": {
      "text/html": [
       "<div>\n",
       "<style scoped>\n",
       "    .dataframe tbody tr th:only-of-type {\n",
       "        vertical-align: middle;\n",
       "    }\n",
       "\n",
       "    .dataframe tbody tr th {\n",
       "        vertical-align: top;\n",
       "    }\n",
       "\n",
       "    .dataframe thead th {\n",
       "        text-align: right;\n",
       "    }\n",
       "</style>\n",
       "<table border=\"1\" class=\"dataframe\">\n",
       "  <thead>\n",
       "    <tr style=\"text-align: right;\">\n",
       "      <th></th>\n",
       "      <th>205-70-N1190</th>\n",
       "      <th>PC_198_27_42263</th>\n",
       "      <th>PC_203_32_51461</th>\n",
       "      <th>PC_600_863_4210</th>\n",
       "      <th>PC_6735_61_3410</th>\n",
       "      <th>D30141135</th>\n",
       "      <th>600-181-6740I.</th>\n",
       "      <th>07063-51210I.</th>\n",
       "      <th>600-319-4540I.</th>\n",
       "      <th>6735-51-5143I</th>\n",
       "      <th>07000-B2011I.</th>\n",
       "    </tr>\n",
       "    <tr>\n",
       "      <th>Month</th>\n",
       "      <th></th>\n",
       "      <th></th>\n",
       "      <th></th>\n",
       "      <th></th>\n",
       "      <th></th>\n",
       "      <th></th>\n",
       "      <th></th>\n",
       "      <th></th>\n",
       "      <th></th>\n",
       "      <th></th>\n",
       "      <th></th>\n",
       "    </tr>\n",
       "  </thead>\n",
       "  <tbody>\n",
       "    <tr>\n",
       "      <td>Dec-12</td>\n",
       "      <td>3003</td>\n",
       "      <td>40</td>\n",
       "      <td>7</td>\n",
       "      <td>1</td>\n",
       "      <td>3</td>\n",
       "      <td>328</td>\n",
       "      <td>285</td>\n",
       "      <td>532</td>\n",
       "      <td>736</td>\n",
       "      <td>382</td>\n",
       "      <td>46</td>\n",
       "    </tr>\n",
       "    <tr>\n",
       "      <td>Jan-13</td>\n",
       "      <td>2428</td>\n",
       "      <td>51</td>\n",
       "      <td>5</td>\n",
       "      <td>2</td>\n",
       "      <td>0</td>\n",
       "      <td>328</td>\n",
       "      <td>245</td>\n",
       "      <td>515</td>\n",
       "      <td>592</td>\n",
       "      <td>418</td>\n",
       "      <td>22</td>\n",
       "    </tr>\n",
       "    <tr>\n",
       "      <td>Feb-13</td>\n",
       "      <td>1970</td>\n",
       "      <td>130</td>\n",
       "      <td>0</td>\n",
       "      <td>1</td>\n",
       "      <td>5</td>\n",
       "      <td>299</td>\n",
       "      <td>267</td>\n",
       "      <td>629</td>\n",
       "      <td>786</td>\n",
       "      <td>748</td>\n",
       "      <td>34</td>\n",
       "    </tr>\n",
       "    <tr>\n",
       "      <td>Mar-13</td>\n",
       "      <td>1849</td>\n",
       "      <td>75</td>\n",
       "      <td>0</td>\n",
       "      <td>0</td>\n",
       "      <td>4</td>\n",
       "      <td>396</td>\n",
       "      <td>273</td>\n",
       "      <td>494</td>\n",
       "      <td>842</td>\n",
       "      <td>594</td>\n",
       "      <td>64</td>\n",
       "    </tr>\n",
       "    <tr>\n",
       "      <td>Apr-13</td>\n",
       "      <td>3394</td>\n",
       "      <td>0</td>\n",
       "      <td>0</td>\n",
       "      <td>0</td>\n",
       "      <td>0</td>\n",
       "      <td>359</td>\n",
       "      <td>286</td>\n",
       "      <td>500</td>\n",
       "      <td>676</td>\n",
       "      <td>552</td>\n",
       "      <td>39</td>\n",
       "    </tr>\n",
       "  </tbody>\n",
       "</table>\n",
       "</div>"
      ],
      "text/plain": [
       "        205-70-N1190  PC_198_27_42263  PC_203_32_51461  PC_600_863_4210  \\\n",
       "Month                                                                     \n",
       "Dec-12          3003               40                7                1   \n",
       "Jan-13          2428               51                5                2   \n",
       "Feb-13          1970              130                0                1   \n",
       "Mar-13          1849               75                0                0   \n",
       "Apr-13          3394                0                0                0   \n",
       "\n",
       "        PC_6735_61_3410  D30141135  600-181-6740I.  07063-51210I.  \\\n",
       "Month                                                               \n",
       "Dec-12                3        328             285            532   \n",
       "Jan-13                0        328             245            515   \n",
       "Feb-13                5        299             267            629   \n",
       "Mar-13                4        396             273            494   \n",
       "Apr-13                0        359             286            500   \n",
       "\n",
       "        600-319-4540I.  6735-51-5143I  07000-B2011I.  \n",
       "Month                                                 \n",
       "Dec-12             736            382             46  \n",
       "Jan-13             592            418             22  \n",
       "Feb-13             786            748             34  \n",
       "Mar-13             842            594             64  \n",
       "Apr-13             676            552             39  "
      ]
     },
     "execution_count": 90,
     "metadata": {},
     "output_type": "execute_result"
    }
   ],
   "source": [
    "model2=ARIMA(df['600-181-6740I.'],order=(0,1,1))\n",
    "model2=model2.fit()\n",
    "df.tail()"
   ]
  },
  {
   "cell_type": "code",
   "execution_count": 91,
   "metadata": {},
   "outputs": [],
   "source": [
    "index_future_dates=pd.date_range(start='2013-01-01',end='2014-01-01')\n",
    "pred2=model2.predict(start=len(df),end=len(df)+365,typ='levels').rename('ARIMA Predictions')\n",
    "pred2.index=index_future_dates"
   ]
  },
  {
   "cell_type": "code",
   "execution_count": 92,
   "metadata": {},
   "outputs": [
    {
     "data": {
      "text/plain": [
       "Text(0, 0.5, 'Numbers')"
      ]
     },
     "execution_count": 92,
     "metadata": {},
     "output_type": "execute_result"
    },
    {
     "data": {
      "image/png": "[encoded data removed]",
      "text/plain": [
       "<Figure size 720x396 with 1 Axes>"
      ]
     },
     "metadata": {
      "needs_background": "light"
     },
     "output_type": "display_data"
    }
   ],
   "source": [
    "pred2.plot(figsize=(10,5.5),legend=True,color='green',marker='.')\n",
    "#pred1.plot(figsize=(8,5),color=\"teal\")\n",
    "plt.title(\"PREDICTION OF 600-181-6740I. FOR 1 YEAR\",fontsize=17)\n",
    "plt.xlabel(\"Month\",fontsize=15)\n",
    "plt.ylabel(\"Numbers\",fontsize=15)"
   ]
  },
  {
   "cell_type": "code",
   "execution_count": null,
   "metadata": {},
   "outputs": [],
   "source": []
  },
  {
   "cell_type": "code",
   "execution_count": null,
   "metadata": {},
   "outputs": [],
   "source": []
  }
 ],
 "metadata": {
  "kernelspec": {
   "display_name": "Python 3",
   "language": "python",
   "name": "python3"
  },
  "language_info": {
   "codemirror_mode": {
    "name": "ipython",
    "version": 3
   },
   "file_extension": ".py",
   "mimetype": "text/x-python",
   "name": "python",
   "nbconvert_exporter": "python",
   "pygments_lexer": "ipython3",
   "version": "3.7.4"
  }
 },
 "nbformat": 4,
 "nbformat_minor": 2
}
